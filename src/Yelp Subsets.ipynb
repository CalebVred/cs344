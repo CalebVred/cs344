{
 "cells": [
  {
   "cell_type": "code",
   "execution_count": 1,
   "metadata": {},
   "outputs": [],
   "source": [
    "from fastcore.all import *\n",
    "from fastprogress import progress_bar\n",
    "import random, json\n",
    "\n",
    "random.seed(0)"
   ]
  },
  {
   "cell_type": "code",
   "execution_count": 2,
   "metadata": {},
   "outputs": [
    {
     "name": "stdout",
     "output_type": "stream",
     "text": [
      "/storage/Data/Yelp/photos\n"
     ]
    }
   ],
   "source": [
    "%cd /storage/Data/Yelp/photos"
   ]
  },
  {
   "cell_type": "code",
   "execution_count": 3,
   "metadata": {},
   "outputs": [],
   "source": [
    "photos = []\n",
    "with open('../photos.json') as f:\n",
    "    for line in f:\n",
    "        photos.append(json.loads(line))\n",
    "photos = L(photos)"
   ]
  },
  {
   "cell_type": "code",
   "execution_count": 4,
   "metadata": {},
   "outputs": [
    {
     "data": {
      "text/plain": [
       "{'photo_id': '001kKc6P_rmgaXThAHxEkw',\n",
       " 'business_id': 'zKZc8GwCaKbACaV0HZAmpg',\n",
       " 'caption': 'Clean and simple interior',\n",
       " 'label': 'inside'}"
      ]
     },
     "execution_count": 4,
     "metadata": {},
     "output_type": "execute_result"
    }
   ],
   "source": [
    "photos[0]"
   ]
  },
  {
   "cell_type": "code",
   "execution_count": 5,
   "metadata": {},
   "outputs": [],
   "source": [
    "id2entry = {photo['photo_id']: photo for photo in photos}"
   ]
  },
  {
   "cell_type": "code",
   "execution_count": 6,
   "metadata": {},
   "outputs": [],
   "source": [
    "all_photos = Path('.').ls()"
   ]
  },
  {
   "cell_type": "code",
   "execution_count": 7,
   "metadata": {},
   "outputs": [],
   "source": [
    "all_photos.shuffle();"
   ]
  },
  {
   "cell_type": "code",
   "execution_count": 8,
   "metadata": {},
   "outputs": [
    {
     "data": {
      "text/html": [
       "\n",
       "    <div>\n",
       "        <style>\n",
       "            /* Turns off some styling */\n",
       "            progress {\n",
       "                /* gets rid of default border in Firefox and Opera. */\n",
       "                border: none;\n",
       "                /* Needs to be in here for Safari polyfill so background images work as expected. */\n",
       "                background-size: auto;\n",
       "            }\n",
       "            .progress-bar-interrupted, .progress-bar-interrupted::-webkit-progress-bar {\n",
       "                background: #F44336;\n",
       "            }\n",
       "        </style>\n",
       "      <progress value='40' class='' max='40' style='width:300px; height:20px; vertical-align: middle;'></progress>\n",
       "      100.00% [40/40 00:42<00:00]\n",
       "    </div>\n",
       "    "
      ],
      "text/plain": [
       "<IPython.core.display.HTML object>"
      ]
     },
     "metadata": {},
     "output_type": "display_data"
    }
   ],
   "source": [
    "for i, batch in enumerate(progress_bar(list(chunked(all_photos, chunk_sz=5_000, drop_last=False)))):\n",
    "    filenames = '\\0'.join(L(batch).attrgot('name'))\n",
    "    batch_dir = Path(f'../batches/{i:03d}')\n",
    "    batch_dir.mkdir(exist_ok=True)\n",
    "    source_file = batch_dir / 'files.txt'\n",
    "    Path(source_file).write_text(filenames, encoding = 'utf-8')\n",
    "    run(['tar', 'cf', batch_dir / 'photo_batch.tar', '--verbatim-files-from', '--files-from', source_file])\n",
    "    json_data = [id2entry[o.name[:-4]] for o in batch]\n",
    "    (batch_dir / 'photos.json').write_text('\\n'.join(json.dumps(p) for p in json_data))\n"
   ]
  },
  {
   "cell_type": "code",
   "execution_count": null,
   "metadata": {},
   "outputs": [],
   "source": [
    "\n"
   ]
  }
 ],
 "metadata": {
  "kernelspec": {
   "display_name": "fastai",
   "language": "python",
   "name": "fastai"
  },
  "language_info": {
   "codemirror_mode": {
    "name": "ipython",
    "version": 3
   },
   "file_extension": ".py",
   "mimetype": "text/x-python",
   "name": "python",
   "nbconvert_exporter": "python",
   "pygments_lexer": "ipython3",
   "version": "3.9.1"
  }
 },
 "nbformat": 4,
 "nbformat_minor": 4
}
