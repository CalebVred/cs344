{
 "cells": [
  {
   "cell_type": "markdown",
   "id": "119a3151",
   "metadata": {},
   "source": [
    "# Lab 1: Warmup"
   ]
  },
  {
   "cell_type": "markdown",
   "id": "117b6c1a",
   "metadata": {},
   "source": [
    "## Environment check\n",
    "\n",
    "Run the following cell to check that your environment is set up properly."
   ]
  },
  {
   "cell_type": "code",
   "execution_count": 6,
   "id": "21d51d10",
   "metadata": {},
   "outputs": [],
   "source": [
    "import torch\n",
    "\n",
    "# FIXME: check 'pip' path\n",
    "pip_path = !which pip\n",
    "assert 'conda' in pip_path[0], \"pip path should include conda\""
   ]
  },
  {
   "cell_type": "code",
   "execution_count": 5,
   "id": "edd1f84b",
   "metadata": {},
   "outputs": [
    {
     "data": {
      "text/plain": [
       "['/usr/local/Caskroom/miniconda/base/bin/python']"
      ]
     },
     "execution_count": 5,
     "metadata": {},
     "output_type": "execute_result"
    }
   ],
   "source": [
    "x = !which python\n",
    "x"
   ]
  },
  {
   "cell_type": "code",
   "execution_count": 2,
   "id": "bfb7bbc4",
   "metadata": {},
   "outputs": [
    {
     "data": {
      "text/plain": [
       "['/usr/local/Caskroom/miniconda/base/bin/pip']"
      ]
     },
     "execution_count": 2,
     "metadata": {},
     "output_type": "execute_result"
    }
   ],
   "source": [
    "x"
   ]
  },
  {
   "cell_type": "markdown",
   "id": "e23942bf",
   "metadata": {},
   "source": [
    "## Jupyter Notebooks"
   ]
  },
  {
   "cell_type": "markdown",
   "id": "37c740fc",
   "metadata": {},
   "source": [
    "Add your code and Markdown cells here. Delete this cell."
   ]
  },
  {
   "cell_type": "markdown",
   "id": "a47a94a0",
   "metadata": {},
   "source": [
    "## NumPy"
   ]
  },
  {
   "cell_type": "code",
   "execution_count": 9,
   "id": "14992d0a",
   "metadata": {},
   "outputs": [],
   "source": [
    "import numpy as np"
   ]
  },
  {
   "cell_type": "markdown",
   "id": "0820f7de",
   "metadata": {},
   "source": [
    "### Broadcasting and Aggregation"
   ]
  },
  {
   "cell_type": "code",
   "execution_count": 49,
   "id": "3cedcaae",
   "metadata": {},
   "outputs": [],
   "source": [
    "y_true = np.array([3.1, 4.1, 5.9])\n",
    "y_pred = np.array([2.1, 3.1, 6.9])"
   ]
  },
  {
   "cell_type": "markdown",
   "id": "03e6a4f6",
   "metadata": {},
   "source": [
    "Compute the residual (error) as true minus predicted. Assign the result to `resid`. **Note: no loop needed!**\n",
    "\n",
    "Add a line at the end of the cell containing just `resid`. The last expression in any cell gets displayed."
   ]
  },
  {
   "cell_type": "code",
   "execution_count": 50,
   "id": "8b518ded",
   "metadata": {},
   "outputs": [
    {
     "data": {
      "text/plain": [
       "array([ 1.,  1., -1.])"
      ]
     },
     "execution_count": 50,
     "metadata": {},
     "output_type": "execute_result"
    }
   ],
   "source": [
    "resid = y_true - y_pred\n",
    "resid"
   ]
  },
  {
   "cell_type": "markdown",
   "id": "944f3ccf",
   "metadata": {},
   "source": [
    "Compute the squared error by raising `resid` to the power 2. (Recall that Python's exponentiation operator is `**`.) Assign this to `squared_error` and display it."
   ]
  },
  {
   "cell_type": "code",
   "execution_count": 51,
   "id": "5574e38f",
   "metadata": {},
   "outputs": [
    {
     "data": {
      "text/plain": [
       "array([1., 1., 1.])"
      ]
     },
     "execution_count": 51,
     "metadata": {},
     "output_type": "execute_result"
    }
   ],
   "source": [
    "squared_error = resid ** 2\n",
    "squared_error"
   ]
  },
  {
   "cell_type": "markdown",
   "id": "4cd1dc6e",
   "metadata": {},
   "source": [
    "Compute the mean of the squared error. Try two different ways: `squared_error.mean()` and `np.mean(squared_error)`."
   ]
  },
  {
   "cell_type": "code",
   "execution_count": 52,
   "id": "5eef3afd",
   "metadata": {},
   "outputs": [
    {
     "data": {
      "text/plain": [
       "0.9999999999999997"
      ]
     },
     "execution_count": 52,
     "metadata": {},
     "output_type": "execute_result"
    }
   ],
   "source": [
    "squared_error.mean()"
   ]
  },
  {
   "cell_type": "code",
   "execution_count": 18,
   "id": "bd2a1611",
   "metadata": {},
   "outputs": [
    {
     "data": {
      "text/plain": [
       "0.009999999999999959"
      ]
     },
     "execution_count": 18,
     "metadata": {},
     "output_type": "execute_result"
    }
   ],
   "source": [
    "np.mean(squared_error)"
   ]
  },
  {
   "cell_type": "markdown",
   "id": "817ba08f",
   "metadata": {},
   "source": [
    "Now, try to write the entire computation in a single succinct expression"
   ]
  },
  {
   "cell_type": "code",
   "execution_count": 19,
   "id": "2fb5f96b",
   "metadata": {},
   "outputs": [
    {
     "data": {
      "text/plain": [
       "0.009999999999999959"
      ]
     },
     "execution_count": 19,
     "metadata": {},
     "output_type": "execute_result"
    }
   ],
   "source": [
    "np.mean((y_true - y_pred) ** 2)"
   ]
  },
  {
   "cell_type": "markdown",
   "id": "56e2c038",
   "metadata": {},
   "source": [
    "### Dot products"
   ]
  },
  {
   "cell_type": "markdown",
   "id": "adf9201e",
   "metadata": {},
   "source": [
    "Recall that we can make a line by an expression like `y = w*x + b`. (Some of you may remember *mx+b* , but we'll use *w* for the *weight(s)* instead.)\n",
    "\n",
    "That's a multiplication followed by a sum. We can extend that to lots of *x*'s, each of which needs a corresponding *w*:\n",
    "\n",
    "`y = w1*x1 + w2*x2 + ... + b`\n",
    "\n",
    "Let's do that in NumPy. "
   ]
  },
  {
   "cell_type": "code",
   "execution_count": 20,
   "id": "ae3e5048",
   "metadata": {},
   "outputs": [
    {
     "data": {
      "text/plain": [
       "array([1.5, 2. ])"
      ]
     },
     "execution_count": 20,
     "metadata": {},
     "output_type": "execute_result"
    }
   ],
   "source": [
    "x = np.array([1.5, 2.0])\n",
    "x"
   ]
  },
  {
   "cell_type": "code",
   "execution_count": 21,
   "id": "8fb18b37",
   "metadata": {},
   "outputs": [
    {
     "data": {
      "text/plain": [
       "array([-2.,  1.])"
      ]
     },
     "execution_count": 21,
     "metadata": {},
     "output_type": "execute_result"
    }
   ],
   "source": [
    "w = np.array([-2.0, 1.0])\n",
    "w"
   ]
  },
  {
   "cell_type": "code",
   "execution_count": 22,
   "id": "8f65f741",
   "metadata": {},
   "outputs": [
    {
     "data": {
      "text/plain": [
       "array([-3.,  2.])"
      ]
     },
     "execution_count": 22,
     "metadata": {},
     "output_type": "execute_result"
    }
   ],
   "source": [
    "w * x"
   ]
  },
  {
   "cell_type": "code",
   "execution_count": 23,
   "id": "91b2d478",
   "metadata": {},
   "outputs": [
    {
     "data": {
      "text/plain": [
       "-1.0"
      ]
     },
     "execution_count": 23,
     "metadata": {},
     "output_type": "execute_result"
    }
   ],
   "source": [
    "np.sum(w * x)"
   ]
  },
  {
   "cell_type": "code",
   "execution_count": 24,
   "id": "a03f4d75",
   "metadata": {},
   "outputs": [
    {
     "data": {
      "text/plain": [
       "-1.0"
      ]
     },
     "execution_count": 24,
     "metadata": {},
     "output_type": "execute_result"
    }
   ],
   "source": [
    "np.dot(w, x)"
   ]
  },
  {
   "cell_type": "code",
   "execution_count": 26,
   "id": "7cdac5d3",
   "metadata": {},
   "outputs": [
    {
     "data": {
      "text/plain": [
       "-1.0"
      ]
     },
     "execution_count": 26,
     "metadata": {},
     "output_type": "execute_result"
    }
   ],
   "source": [
    "w @ x"
   ]
  },
  {
   "cell_type": "markdown",
   "id": "b979ee49",
   "metadata": {},
   "source": [
    "## Functions"
   ]
  },
  {
   "cell_type": "markdown",
   "id": "3093dcf0",
   "metadata": {},
   "source": [
    "Write a function that performs the `w*x + b` computation we just did:"
   ]
  },
  {
   "cell_type": "code",
   "execution_count": 27,
   "id": "d114b13e",
   "metadata": {},
   "outputs": [
    {
     "data": {
      "text/plain": [
       "0.0"
      ]
     },
     "execution_count": 27,
     "metadata": {},
     "output_type": "execute_result"
    }
   ],
   "source": [
    "def linear(weights, bias, x):\n",
    "    return weights @ x + bias\n",
    "linear(w, 1.0, x)"
   ]
  },
  {
   "cell_type": "markdown",
   "id": "027fe1a1",
   "metadata": {},
   "source": [
    "However, it would be convenient to view the `linear` function as simply a function of `x`, with `weights` and `bias` being internal details. There are several ways to do this; perhaps most familiar to you might be to make a `Linear` class that has these as paramaters. Fill in the blanks here:"
   ]
  },
  {
   "cell_type": "code",
   "execution_count": 28,
   "id": "ef5f58fe",
   "metadata": {},
   "outputs": [
    {
     "data": {
      "text/plain": [
       "0.0"
      ]
     },
     "execution_count": 28,
     "metadata": {},
     "output_type": "execute_result"
    }
   ],
   "source": [
    "class Linear:\n",
    "    def __init__(self, weights, bias):\n",
    "        self.weights = weights\n",
    "        self.bias = bias\n",
    "    def forward(self, x):\n",
    "        return self.weights @ x + self.bias\n",
    "\n",
    "layer = Linear(w, 1.0)\n",
    "layer.forward(x)"
   ]
  },
  {
   "cell_type": "markdown",
   "id": "375d7312",
   "metadata": {},
   "source": [
    "But there's another view that you should also get comfortable with: a function can simply return a function."
   ]
  },
  {
   "cell_type": "code",
   "execution_count": 30,
   "id": "4c886acd",
   "metadata": {},
   "outputs": [
    {
     "data": {
      "text/plain": [
       "10"
      ]
     },
     "execution_count": 30,
     "metadata": {},
     "output_type": "execute_result"
    }
   ],
   "source": [
    "def make_multiplier(x):\n",
    "    def multiply_by(y):\n",
    "        return x * y\n",
    "    return multiply_by\n",
    "make_multiplier(5)(2)"
   ]
  },
  {
   "cell_type": "markdown",
   "id": "779af366",
   "metadata": {},
   "source": [
    "Use this pattern to make a `make_projector`:"
   ]
  },
  {
   "cell_type": "code",
   "execution_count": 33,
   "id": "632cee1d",
   "metadata": {},
   "outputs": [
    {
     "data": {
      "text/plain": [
       "0.0"
      ]
     },
     "execution_count": 33,
     "metadata": {},
     "output_type": "execute_result"
    }
   ],
   "source": [
    "def make_projector(weights, bias):\n",
    "    def forward(x):\n",
    "        return weights @ x + bias\n",
    "    return forward\n",
    "make_projector(w, 1.0)(x)"
   ]
  },
  {
   "cell_type": "markdown",
   "id": "854eea15",
   "metadata": {},
   "source": [
    "*Supplemental Notes (optional)*:\n",
    "\n",
    "- The inner function is called a *closure*.\n",
    "- This programming pattern is used quite frequently in user interface programming, e.g,. JavaScript.\n",
    "- Here we only used it for \"partial application\"; we could have instead used `functools.partial(f, weights = w, bias = 1.0)`.\n",
    "- We'll use this later for implementing backpropagation.\n"
   ]
  }
 ],
 "metadata": {
  "kernelspec": {
   "display_name": "Python 3",
   "language": "python",
   "name": "python3"
  },
  "language_info": {
   "codemirror_mode": {
    "name": "ipython",
    "version": 3
   },
   "file_extension": ".py",
   "mimetype": "text/x-python",
   "name": "python",
   "nbconvert_exporter": "python",
   "pygments_lexer": "ipython3",
   "version": "3.8.8"
  }
 },
 "nbformat": 4,
 "nbformat_minor": 5
}
