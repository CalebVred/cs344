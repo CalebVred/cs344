{
 "cells": [
  {
   "cell_type": "code",
   "execution_count": 36,
   "metadata": {},
   "outputs": [],
   "source": [
    "import pathlib, subprocess, sys, shutil\n",
    "here = pathlib.Path('.').absolute().parent"
   ]
  },
  {
   "cell_type": "markdown",
   "metadata": {},
   "source": [
    "# Make the Portfolio template repo"
   ]
  },
  {
   "cell_type": "markdown",
   "metadata": {},
   "source": [
    "We'll store local repos in a `repos` directory, and ignore that in git."
   ]
  },
  {
   "cell_type": "code",
   "execution_count": 5,
   "metadata": {},
   "outputs": [],
   "source": [
    "repos_dir = here / 'repos'\n",
    "repos_dir.mkdir(exist_ok=True)"
   ]
  },
  {
   "cell_type": "code",
   "execution_count": 10,
   "metadata": {},
   "outputs": [
    {
     "data": {
      "text/plain": [
       "CompletedProcess(args=['git', 'init'], returncode=0)"
      ]
     },
     "execution_count": 10,
     "metadata": {},
     "output_type": "execute_result"
    }
   ],
   "source": [
    "portfolio_tgt_dir = repos_dir / 'ai-portfolio'\n",
    "assert not portfolio_tgt_dir.exists()\n",
    "portfolio_tgt_dir.mkdir()\n",
    "subprocess.check_call(['git', 'init'], cwd=portfolio_tgt_dir);"
   ]
  },
  {
   "cell_type": "markdown",
   "metadata": {},
   "source": [
    "Copy files from `portfolio` to the repo dir. Use `git ls-files` to avoid `gitignore`d files."
   ]
  },
  {
   "cell_type": "code",
   "execution_count": 25,
   "metadata": {},
   "outputs": [
    {
     "data": {
      "text/plain": [
       "['fundamentals/000-train-basic-classifier.ipynb',\n",
       " 'fundamentals/001-adjust-hyperparameters-1.ipynb',\n",
       " 'fundamentals/002-diagnose-basic-classifier.ipynb',\n",
       " 'fundamentals/003-pets-dataloader.ipynb',\n",
       " 'fundamentals/README.md']"
      ]
     },
     "execution_count": 25,
     "metadata": {},
     "output_type": "execute_result"
    }
   ],
   "source": [
    "srcdir = here / 'portfolio'\n",
    "file_list = [\n",
    "    filename.decode(sys.getfilesystemencoding()) \n",
    "    for filename in subprocess.run(\n",
    "      [\"git\", \"ls-files\", \"-z\"], stdout=subprocess.PIPE, cwd=srcdir\n",
    "    ).stdout.split(b'\\0')\n",
    "    if filename]\n",
    "file_list"
   ]
  },
  {
   "cell_type": "code",
   "execution_count": 32,
   "metadata": {},
   "outputs": [],
   "source": [
    "for filename in file_list:\n",
    "    # Ensure that the target parent directory exists.\n",
    "    rel_path = pathlib.Path(filename)\n",
    "    (portfolio_tgt_dir / rel_path.parent).mkdir(exist_ok=True)\n",
    "    # Copy the file.\n",
    "    shutil.copy(srcdir / filename, portfolio_tgt_dir / filename)"
   ]
  },
  {
   "cell_type": "markdown",
   "metadata": {},
   "source": [
    "Commit the changes."
   ]
  },
  {
   "cell_type": "code",
   "execution_count": 41,
   "metadata": {},
   "outputs": [],
   "source": [
    "subprocess.check_call(['git', 'add'], cwd=portfolio_tgt_dir);\n",
    "subprocess.check_call(['git', 'commit', '-m', 'Initial import'], cwd=portfolio_tgt_dir);"
   ]
  },
  {
   "cell_type": "markdown",
   "metadata": {},
   "source": [
    "Push it to github... in `assignment_management.Rmd`"
   ]
  }
 ],
 "metadata": {
  "kernelspec": {
   "display_name": "Python 3",
   "language": "python",
   "name": "python3"
  },
  "language_info": {
   "codemirror_mode": {
    "name": "ipython",
    "version": 3
   },
   "file_extension": ".py",
   "mimetype": "text/x-python",
   "name": "python",
   "nbconvert_exporter": "python",
   "pygments_lexer": "ipython3",
   "version": "3.8.5"
  }
 },
 "nbformat": 4,
 "nbformat_minor": 4
}
