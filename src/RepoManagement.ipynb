{
 "cells": [
  {
   "cell_type": "code",
   "execution_count": 1,
   "metadata": {},
   "outputs": [],
   "source": [
    "import pathlib, subprocess, sys, shutil\n",
    "here = pathlib.Path('.').absolute().parent"
   ]
  },
  {
   "cell_type": "markdown",
   "metadata": {},
   "source": [
    "# Make the Portfolio template repo"
   ]
  },
  {
   "cell_type": "markdown",
   "metadata": {},
   "source": [
    "We'll store local repos in a `repos` directory, and ignore that in git."
   ]
  },
  {
   "cell_type": "code",
   "execution_count": 2,
   "metadata": {},
   "outputs": [],
   "source": [
    "repos_dir = here / 'repos'\n",
    "repos_dir.mkdir(exist_ok=True)"
   ]
  },
  {
   "cell_type": "code",
   "execution_count": 3,
   "metadata": {},
   "outputs": [],
   "source": [
    "portfolio_tgt_dir = repos_dir / 'ai-portfolio'\n",
    "if not portfolio_tgt_dir.exists():\n",
    "    portfolio_tgt_dir.mkdir()\n",
    "    subprocess.check_call(['git', 'init'], cwd=portfolio_tgt_dir);"
   ]
  },
  {
   "cell_type": "markdown",
   "metadata": {},
   "source": [
    "Copy files from `portfolio` to the repo dir. Use `git ls-files` to avoid `gitignore`d files."
   ]
  },
  {
   "cell_type": "code",
   "execution_count": 4,
   "metadata": {},
   "outputs": [
    {
     "data": {
      "text/plain": [
       "['fundamentals/000-train-basic-classifier.ipynb',\n",
       " 'fundamentals/001-adjust-hyperparameters-1.ipynb',\n",
       " 'fundamentals/002-diagnose-basic-classifier.ipynb',\n",
       " 'fundamentals/003-pets-dataloader.ipynb',\n",
       " 'fundamentals/004-data-manip-jsonlines-solutions.ipynb',\n",
       " 'fundamentals/004-data-manip-jsonlines.ipynb',\n",
       " 'fundamentals/005-image-ops.ipynb',\n",
       " 'fundamentals/006-compute-grad-solutions.ipynb',\n",
       " 'fundamentals/006-compute-grad.ipynb',\n",
       " 'fundamentals/README.md',\n",
       " 'reading/README.md']"
      ]
     },
     "execution_count": 4,
     "metadata": {},
     "output_type": "execute_result"
    }
   ],
   "source": [
    "srcdir = here / 'portfolio'\n",
    "file_list = [\n",
    "    filename.decode(sys.getfilesystemencoding()) \n",
    "    for filename in subprocess.run(\n",
    "      [\"git\", \"ls-files\", \"-z\"], stdout=subprocess.PIPE, cwd=srcdir\n",
    "    ).stdout.split(b'\\0')\n",
    "    if filename]\n",
    "file_list"
   ]
  },
  {
   "cell_type": "code",
   "execution_count": 6,
   "metadata": {},
   "outputs": [
    {
     "name": "stdout",
     "output_type": "stream",
     "text": [
      "fundamentals/000-train-basic-classifier.ipynb\n",
      "fundamentals/001-adjust-hyperparameters-1.ipynb\n",
      "fundamentals/002-diagnose-basic-classifier.ipynb\n",
      "fundamentals/003-pets-dataloader.ipynb\n",
      "fundamentals/004-data-manip-jsonlines.ipynb\n",
      "fundamentals/005-image-ops.ipynb\n",
      "fundamentals/006-compute-grad.ipynb\n",
      "fundamentals/README.md\n",
      "reading/README.md\n"
     ]
    }
   ],
   "source": [
    "for filename in file_list:\n",
    "    if 'solutions' in filename:\n",
    "        continue\n",
    "\n",
    "    # Ensure that the target parent directory exists.\n",
    "    rel_path = pathlib.Path(filename)\n",
    "    (portfolio_tgt_dir / rel_path.parent).mkdir(exist_ok=True)\n",
    "    # Copy the file.\n",
    "    print(filename)\n",
    "    #shutil.copy(srcdir / filename, portfolio_tgt_dir / filename)"
   ]
  },
  {
   "cell_type": "markdown",
   "metadata": {},
   "source": [
    "Commit the changes."
   ]
  },
  {
   "cell_type": "code",
   "execution_count": 41,
   "metadata": {},
   "outputs": [],
   "source": [
    "subprocess.check_call(['git', 'add'], cwd=portfolio_tgt_dir);\n",
    "subprocess.check_call(['git', 'commit', '-m', 'Initial import'], cwd=portfolio_tgt_dir);"
   ]
  },
  {
   "cell_type": "markdown",
   "metadata": {},
   "source": [
    "Push it to github... in `assignment_management.Rmd`"
   ]
  }
 ],
 "metadata": {
  "kernelspec": {
   "display_name": "Python 3",
   "language": "python",
   "name": "python3"
  },
  "language_info": {
   "codemirror_mode": {
    "name": "ipython",
    "version": 3
   },
   "file_extension": ".py",
   "mimetype": "text/x-python",
   "name": "python",
   "nbconvert_exporter": "python",
   "pygments_lexer": "ipython3",
   "version": "3.8.5"
  }
 },
 "nbformat": 4,
 "nbformat_minor": 4
}
