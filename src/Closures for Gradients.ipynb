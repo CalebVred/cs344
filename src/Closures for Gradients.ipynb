{
 "cells": [
  {
   "cell_type": "code",
   "execution_count": 1,
   "id": "a89eac53",
   "metadata": {},
   "outputs": [],
   "source": [
    "import numpy as np"
   ]
  },
  {
   "cell_type": "code",
   "execution_count": 2,
   "id": "9af51801",
   "metadata": {},
   "outputs": [
    {
     "data": {
      "text/plain": [
       "(array([2.5, 0. ]), array([1., 0.]))"
      ]
     },
     "execution_count": 2,
     "metadata": {},
     "output_type": "execute_result"
    }
   ],
   "source": [
    "def relu(x):\n",
    "    out = np.maximum(0, x)\n",
    "    def grad_x(grad_out):\n",
    "        return (x > 0) * grad_out\n",
    "    return out, grad_x\n",
    "act, grad_act = relu(np.array([2.5, -1.3]))\n",
    "act, grad_act(np.ones(2))"
   ]
  },
  {
   "cell_type": "code",
   "execution_count": 4,
   "id": "af7e4467",
   "metadata": {},
   "outputs": [],
   "source": [
    "def mse(inputs, targets):\n",
    "    # Write out the mean by hand, for backprop\n",
    "    num_elts = len(inputs)\n",
    "    out = ((targets - inputs) ** 2).sum() / num_elts\n",
    "    \n",
    "    def grad_inputs(out_grad):\n",
    "        return 2.0 * out / num_elts * out_grad\n",
    "\n",
    "    return out, grad_inputs # don't return a grad for targets. It would be the same thing as grad_inputs anyway.\n",
    "\n",
    "#loss, grad_loss = mse(y_pred, y_true)\n",
    "#loss, grad_loss(1.0)"
   ]
  },
  {
   "cell_type": "code",
   "execution_count": 5,
   "id": "74021515",
   "metadata": {},
   "outputs": [],
   "source": [
    "def linear(x, weights, bias):\n",
    "    out = x @ weights + bias\n",
    "    \n",
    "    def grad_x(out_grad):\n",
    "        return out_grad @ weights.T\n",
    "    def grad_weights(out_grad):\n",
    "        return x.T @ out_grad\n",
    "    def grad_bias(out_grad):\n",
    "        return out_grad.sum(axis = 0)\n",
    "    \n",
    "    return out, grad_x, grad_weights, grad_bias\n",
    "\n",
    "np.random.seed(0)\n",
    "x = np.random.randn(5)\n",
    "y = np.random.randn(1)\n",
    "weights = np.random.randn(5, 1)\n",
    "bias = np.random.randn(1)\n",
    "out, grad_x, grad_weights, grad_bias = linear(x, weights, bias)\n"
   ]
  },
  {
   "cell_type": "code",
   "execution_count": 6,
   "id": "65824093",
   "metadata": {},
   "outputs": [],
   "source": [
    "def linreg(x, params, targets):\n",
    "    weights = params['W']\n",
    "    bias = params['b']\n",
    "    predictions, _, grad_weights, grad_bias = linear(x, weights, bias)\n",
    "    loss, grad_loss_fn = mse(predictions, targets)\n",
    "    \n",
    "    grad_loss = grad_loss_fn(1.0)\n",
    "    grads = {\n",
    "        'W': grad_weights(grad_loss),\n",
    "        'b': grad_bias(grad_loss)\n",
    "    }\n",
    "    return predictions, grads"
   ]
  },
  {
   "cell_type": "code",
   "execution_count": 7,
   "id": "256d95b1",
   "metadata": {},
   "outputs": [
    {
     "ename": "ValueError",
     "evalue": "matmul: Input operand 1 does not have enough dimensions (has 0, gufunc core with signature (n?,k),(k,m?)->(n?,m?) requires 1)",
     "output_type": "error",
     "traceback": [
      "\u001b[0;31m---------------------------------------------------------------------------\u001b[0m",
      "\u001b[0;31mValueError\u001b[0m                                Traceback (most recent call last)",
      "\u001b[0;32m<ipython-input-7-09a32f3168fe>\u001b[0m in \u001b[0;36m<module>\u001b[0;34m\u001b[0m\n\u001b[0;32m----> 1\u001b[0;31m \u001b[0mlinreg\u001b[0m\u001b[0;34m(\u001b[0m\u001b[0mx\u001b[0m\u001b[0;34m,\u001b[0m \u001b[0;34m{\u001b[0m\u001b[0;34m'W'\u001b[0m\u001b[0;34m:\u001b[0m \u001b[0mweights\u001b[0m\u001b[0;34m,\u001b[0m \u001b[0;34m'b'\u001b[0m\u001b[0;34m:\u001b[0m \u001b[0mbias\u001b[0m\u001b[0;34m}\u001b[0m\u001b[0;34m,\u001b[0m \u001b[0my\u001b[0m\u001b[0;34m)\u001b[0m\u001b[0;34m\u001b[0m\u001b[0;34m\u001b[0m\u001b[0m\n\u001b[0m",
      "\u001b[0;32m<ipython-input-6-ee46c7a0fd82>\u001b[0m in \u001b[0;36mlinreg\u001b[0;34m(x, params, targets)\u001b[0m\n\u001b[1;32m      7\u001b[0m     \u001b[0mgrad_loss\u001b[0m \u001b[0;34m=\u001b[0m \u001b[0mgrad_loss_fn\u001b[0m\u001b[0;34m(\u001b[0m\u001b[0;36m1.0\u001b[0m\u001b[0;34m)\u001b[0m\u001b[0;34m\u001b[0m\u001b[0;34m\u001b[0m\u001b[0m\n\u001b[1;32m      8\u001b[0m     grads = {\n\u001b[0;32m----> 9\u001b[0;31m         \u001b[0;34m'W'\u001b[0m\u001b[0;34m:\u001b[0m \u001b[0mgrad_weights\u001b[0m\u001b[0;34m(\u001b[0m\u001b[0mgrad_loss\u001b[0m\u001b[0;34m)\u001b[0m\u001b[0;34m,\u001b[0m\u001b[0;34m\u001b[0m\u001b[0;34m\u001b[0m\u001b[0m\n\u001b[0m\u001b[1;32m     10\u001b[0m         \u001b[0;34m'b'\u001b[0m\u001b[0;34m:\u001b[0m \u001b[0mgrad_bias\u001b[0m\u001b[0;34m(\u001b[0m\u001b[0mgrad_loss\u001b[0m\u001b[0;34m)\u001b[0m\u001b[0;34m\u001b[0m\u001b[0;34m\u001b[0m\u001b[0m\n\u001b[1;32m     11\u001b[0m     }\n",
      "\u001b[0;32m<ipython-input-5-b3156627c542>\u001b[0m in \u001b[0;36mgrad_weights\u001b[0;34m(out_grad)\u001b[0m\n\u001b[1;32m      5\u001b[0m         \u001b[0;32mreturn\u001b[0m \u001b[0mout_grad\u001b[0m \u001b[0;34m@\u001b[0m \u001b[0mweights\u001b[0m\u001b[0;34m.\u001b[0m\u001b[0mT\u001b[0m\u001b[0;34m\u001b[0m\u001b[0;34m\u001b[0m\u001b[0m\n\u001b[1;32m      6\u001b[0m     \u001b[0;32mdef\u001b[0m \u001b[0mgrad_weights\u001b[0m\u001b[0;34m(\u001b[0m\u001b[0mout_grad\u001b[0m\u001b[0;34m)\u001b[0m\u001b[0;34m:\u001b[0m\u001b[0;34m\u001b[0m\u001b[0;34m\u001b[0m\u001b[0m\n\u001b[0;32m----> 7\u001b[0;31m         \u001b[0;32mreturn\u001b[0m \u001b[0mx\u001b[0m\u001b[0;34m.\u001b[0m\u001b[0mT\u001b[0m \u001b[0;34m@\u001b[0m \u001b[0mout_grad\u001b[0m\u001b[0;34m\u001b[0m\u001b[0;34m\u001b[0m\u001b[0m\n\u001b[0m\u001b[1;32m      8\u001b[0m     \u001b[0;32mdef\u001b[0m \u001b[0mgrad_bias\u001b[0m\u001b[0;34m(\u001b[0m\u001b[0mout_grad\u001b[0m\u001b[0;34m)\u001b[0m\u001b[0;34m:\u001b[0m\u001b[0;34m\u001b[0m\u001b[0;34m\u001b[0m\u001b[0m\n\u001b[1;32m      9\u001b[0m         \u001b[0;32mreturn\u001b[0m \u001b[0mout_grad\u001b[0m\u001b[0;34m.\u001b[0m\u001b[0msum\u001b[0m\u001b[0;34m(\u001b[0m\u001b[0maxis\u001b[0m \u001b[0;34m=\u001b[0m \u001b[0;36m0\u001b[0m\u001b[0;34m)\u001b[0m\u001b[0;34m\u001b[0m\u001b[0;34m\u001b[0m\u001b[0m\n",
      "\u001b[0;31mValueError\u001b[0m: matmul: Input operand 1 does not have enough dimensions (has 0, gufunc core with signature (n?,k),(k,m?)->(n?,m?) requires 1)"
     ]
    }
   ],
   "source": [
    "linreg(x, {'W': weights, 'b': bias}, y)"
   ]
  },
  {
   "cell_type": "code",
   "execution_count": null,
   "id": "0209dcb3",
   "metadata": {},
   "outputs": [],
   "source": []
  },
  {
   "cell_type": "code",
   "execution_count": null,
   "id": "d954ec57",
   "metadata": {},
   "outputs": [],
   "source": []
  }
 ],
 "metadata": {
  "kernelspec": {
   "display_name": "Python 3",
   "language": "python",
   "name": "python3"
  },
  "language_info": {
   "codemirror_mode": {
    "name": "ipython",
    "version": 3
   },
   "file_extension": ".py",
   "mimetype": "text/x-python",
   "name": "python",
   "nbconvert_exporter": "python",
   "pygments_lexer": "ipython3",
   "version": "3.8.8"
  }
 },
 "nbformat": 4,
 "nbformat_minor": 5
}
