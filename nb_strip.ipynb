{
 "cells": [
  {
   "cell_type": "code",
   "execution_count": 1,
   "metadata": {},
   "outputs": [],
   "source": [
    "import nbformat\n",
    "import re"
   ]
  },
  {
   "cell_type": "code",
   "execution_count": 2,
   "metadata": {},
   "outputs": [],
   "source": [
    "in_filename = 'portfolio/fundamentals/011-sklearn-classification-solutions.ipynb'"
   ]
  },
  {
   "cell_type": "code",
   "execution_count": 3,
   "metadata": {},
   "outputs": [],
   "source": [
    "nb = nbformat.read(in_filename, as_version=nbformat.NO_CONVERT)"
   ]
  },
  {
   "cell_type": "code",
   "execution_count": 4,
   "metadata": {},
   "outputs": [],
   "source": [
    "cells = []\n",
    "for cell in nb['cells']:\n",
    "    if cell['cell_type'] != 'code':\n",
    "        cells.append(cell)\n",
    "        continue\n",
    "    if cell.source.startswith(\"# remove\"):\n",
    "        continue\n",
    "    cells.append(cell)\n",
    "nb['cells'] = cells"
   ]
  },
  {
   "cell_type": "code",
   "execution_count": 5,
   "metadata": {},
   "outputs": [
    {
     "name": "stdout",
     "output_type": "stream",
     "text": [
      "**Fit a decision tree classifier (call it `dtree_clf`) to the training set**. Use the default hyperparameters.\n"
     ]
    }
   ],
   "source": [
    "source = cells[28].source\n",
    "print(source)"
   ]
  },
  {
   "cell_type": "code",
   "execution_count": 6,
   "metadata": {},
   "outputs": [
    {
     "data": {
      "text/plain": [
       "'**Fit a decision tree classifier (call it `dtree_clf`) to the training set**. Use the default hyperparameters.'"
      ]
     },
     "execution_count": 6,
     "metadata": {},
     "output_type": "execute_result"
    }
   ],
   "source": [
    "def strip_source(source):\n",
    "    result = []\n",
    "    lines = source.split('\\n')\n",
    "    skip_next = False\n",
    "    skip_until = None\n",
    "    for i in range(len(lines)):\n",
    "        if skip_next:\n",
    "            skip_next = False\n",
    "            continue\n",
    "        line = lines[i]\n",
    "        if skip_until is not None:\n",
    "            if skip_until in line:\n",
    "                # all done\n",
    "                skip_until = None\n",
    "            continue\n",
    "        if i == len(lines) - 1:\n",
    "            # last time unconditional\n",
    "            result.append(line)\n",
    "            continue\n",
    "        if 'your code here' in line:\n",
    "            result.append(line)\n",
    "            skip_until = '-'*1000 # FIXME: weird sentinel\n",
    "            continue\n",
    "        is_commented = line.strip().startswith(\"# \")\n",
    "        if is_commented:\n",
    "            uncommented = re.sub(r'^(\\s*)(# )(.+)$', r'\\1\\3', line)\n",
    "\n",
    "            heredoc_match = re.match(r'(.+)\\s+<<(.+)', uncommented)\n",
    "            if heredoc_match is not None:\n",
    "                result.append(heredoc_match.group(1))\n",
    "                end_str = heredoc_match.group(2).strip()\n",
    "                skip_until = end_str\n",
    "                continue\n",
    "\n",
    "            if '...' in line:\n",
    "                # probable blank-filler\n",
    "                match_re = '^' + re.escape(uncommented).replace(r'\\.\\.\\.', '(.+)') + \"$\"\n",
    "                if re.match(match_re, lines[i+1]):\n",
    "                    skip_next = True\n",
    "                    result.append(uncommented)\n",
    "                    continue\n",
    "                else:\n",
    "                    print(\"WARNING: failed match\", uncommented)\n",
    "        result.append(line)\n",
    "    return '\\n'.join(result)\n",
    "strip_source(source)"
   ]
  },
  {
   "cell_type": "code",
   "execution_count": 8,
   "metadata": {},
   "outputs": [],
   "source": [
    "for cell in cells:\n",
    "    if cell['cell_type'] == 'code':\n",
    "        cell.source = strip_source(cell.source)\n",
    "        cell.outputs.clear()"
   ]
  },
  {
   "cell_type": "code",
   "execution_count": 9,
   "metadata": {},
   "outputs": [],
   "source": [
    "out_fname = in_filename.replace('-solutions', '')\n",
    "if out_fname == in_filename:\n",
    "    out_fname = in_filename + '.out'"
   ]
  },
  {
   "cell_type": "code",
   "execution_count": 10,
   "metadata": {},
   "outputs": [
    {
     "data": {
      "text/plain": [
       "'portfolio/fundamentals/011-sklearn-classification.ipynb'"
      ]
     },
     "execution_count": 10,
     "metadata": {},
     "output_type": "execute_result"
    }
   ],
   "source": [
    "out_fname"
   ]
  },
  {
   "cell_type": "code",
   "execution_count": 11,
   "metadata": {},
   "outputs": [],
   "source": [
    "nbformat.write(nb, out_fname)"
   ]
  },
  {
   "cell_type": "code",
   "execution_count": null,
   "metadata": {},
   "outputs": [],
   "source": []
  }
 ],
 "metadata": {
  "kernelspec": {
   "display_name": "Python 3",
   "language": "python",
   "name": "python3"
  },
  "language_info": {
   "codemirror_mode": {
    "name": "ipython",
    "version": 3
   },
   "file_extension": ".py",
   "mimetype": "text/x-python",
   "name": "python",
   "nbconvert_exporter": "python",
   "pygments_lexer": "ipython3",
   "version": "3.8.5"
  }
 },
 "nbformat": 4,
 "nbformat_minor": 4
}
