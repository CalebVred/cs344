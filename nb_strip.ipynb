{
 "cells": [
  {
   "cell_type": "code",
   "execution_count": 3,
   "metadata": {},
   "outputs": [],
   "source": [
    "import nbformat\n",
    "import re"
   ]
  },
  {
   "cell_type": "code",
   "execution_count": 4,
   "metadata": {},
   "outputs": [],
   "source": [
    "#import libcst as cst\n",
    "#import libcst.matchers as m"
   ]
  },
  {
   "cell_type": "code",
   "execution_count": 5,
   "metadata": {},
   "outputs": [],
   "source": [
    "nb = nbformat.read(\"portfolio/fundamentals/009-linreg-learner-solutions.ipynb\", as_version=nbformat.NO_CONVERT)"
   ]
  },
  {
   "cell_type": "code",
   "execution_count": 6,
   "metadata": {},
   "outputs": [],
   "source": [
    "cells = []\n",
    "for cell in nb['cells']:\n",
    "    if cell['cell_type'] != 'code':\n",
    "        cells.append(cell)\n",
    "        continue\n",
    "    if cell.source.startswith(\"# remove\"):\n",
    "        continue\n",
    "    cells.append(cell)\n",
    "nb['cells'] = cells\n",
    "#    cell.source = strip_code(cell.source)"
   ]
  },
  {
   "cell_type": "code",
   "execution_count": 32,
   "metadata": {},
   "outputs": [
    {
     "name": "stdout",
     "output_type": "stream",
     "text": [
      "# ... <<<EOF\n",
      "learner = Learner(\n",
      "    dls=dataloaders,\n",
      "    model=model,\n",
      "    loss_func=loss_func,\n",
      "    opt_func=SGD,\n",
      "    metrics=[mae]\n",
      ")\n",
      "# EOF\n"
     ]
    }
   ],
   "source": [
    "source = cells[-11].source\n",
    "print(source)"
   ]
  },
  {
   "cell_type": "code",
   "execution_count": 11,
   "metadata": {},
   "outputs": [],
   "source": []
  },
  {
   "cell_type": "code",
   "execution_count": 39,
   "metadata": {},
   "outputs": [
    {
     "name": "stdout",
     "output_type": "stream",
     "text": [
      "...\n"
     ]
    },
    {
     "data": {
      "text/plain": [
       "''"
      ]
     },
     "execution_count": 39,
     "metadata": {},
     "output_type": "execute_result"
    }
   ],
   "source": [
    "def strip_source(source):\n",
    "    result = []\n",
    "    lines = source.split('\\n')\n",
    "    skip_next = False\n",
    "    skip_until = None\n",
    "    for i in range(len(lines)):\n",
    "        if skip_next:\n",
    "            skip_next = False\n",
    "            continue\n",
    "        line = lines[i]\n",
    "        if skip_until is not None:\n",
    "            if skip_until in line:\n",
    "                # all done\n",
    "                skip_until = None\n",
    "            continue\n",
    "        if i == len(lines) - 1:\n",
    "            # last time unconditional\n",
    "            result.append(line)\n",
    "            continue\n",
    "        is_commented = line.strip().startswith(\"# \")\n",
    "        if is_commented:\n",
    "            uncommented = re.sub(r'(\\s*)(# )', r'\\1', line)\n",
    "\n",
    "            heredoc_match = re.match(r'(.+)\\s+<<<(.+)', uncommented)\n",
    "            if heredoc_match is not None:\n",
    "                print(heredoc_match.group(1))\n",
    "                end_str = heredoc_match.group(2)\n",
    "                skip_until = end_str\n",
    "                continue\n",
    "\n",
    "            if '...' in line:\n",
    "                # probable blank-filler\n",
    "                match_re = '^' + re.escape(uncommented).replace(r'\\.\\.\\.', '(.+)') + \"$\"\n",
    "                if re.match(match_re, lines[i+1]):\n",
    "                    skip_next = True\n",
    "                    result.append(uncommented)\n",
    "                    continue\n",
    "                else:\n",
    "                    print(\"WARNING: failed match\", uncommented)\n",
    "        result.append(line)\n",
    "    return '\\n'.join(result)\n",
    "strip_source(source)"
   ]
  },
  {
   "cell_type": "code",
   "execution_count": 34,
   "metadata": {},
   "outputs": [
    {
     "data": {
      "text/plain": [
       "'# EOF'"
      ]
     },
     "execution_count": 34,
     "metadata": {},
     "output_type": "execute_result"
    }
   ],
   "source": [
    "line"
   ]
  },
  {
   "cell_type": "code",
   "execution_count": 16,
   "metadata": {},
   "outputs": [
    {
     "data": {
      "text/plain": [
       "'batch = ...'"
      ]
     },
     "execution_count": 16,
     "metadata": {},
     "output_type": "execute_result"
    }
   ],
   "source": [
    "re.sub(r'(\\s*)(# )', r'\\1', line)"
   ]
  },
  {
   "cell_type": "code",
   "execution_count": 15,
   "metadata": {},
   "outputs": [
    {
     "data": {
      "text/plain": [
       "'\\\\#\\\\ batch\\\\ =\\\\ (.+)'"
      ]
     },
     "execution_count": 15,
     "metadata": {},
     "output_type": "execute_result"
    }
   ],
   "source": [
    "re.escape(line).replace(r'\\.\\.\\.', '(.+)')"
   ]
  },
  {
   "cell_type": "code",
   "execution_count": null,
   "metadata": {},
   "outputs": [],
   "source": []
  },
  {
   "cell_type": "code",
   "execution_count": 46,
   "metadata": {},
   "outputs": [],
   "source": [
    "class RefRemover(ast.NodeTransformer):\n",
    "    def visit_Call(self, node):\n",
    "        if getattr(node.func, 'id', '') == 'REFERENCE':\n",
    "            return node.args[0]\n",
    "        return node\n",
    "    \n",
    "    def visit_With(self, node):\n",
    "        if node.items[0].context_expr.func.id == \"REFBLOCK\":\n",
    "            return ast.Expr(value=ast.Constant(\"your code here\"))\n",
    "        return node"
   ]
  },
  {
   "cell_type": "code",
   "execution_count": 47,
   "metadata": {},
   "outputs": [],
   "source": [
    "for cell in cells:\n",
    "    if cell['cell_type'] != 'code':\n",
    "        continue\n",
    "    tree = ast.parse(cell.source)\n",
    "    RefRemover().visit(tree)\n",
    "    cell.source = astor.to_source(tree)\n",
    "    "
   ]
  },
  {
   "cell_type": "code",
   "execution_count": 48,
   "metadata": {},
   "outputs": [],
   "source": [
    "#nbformat.write(nb, \"portfolio/fundamentals/009-linreg-learner.ipynb\")"
   ]
  },
  {
   "cell_type": "code",
   "execution_count": null,
   "metadata": {},
   "outputs": [],
   "source": []
  }
 ],
 "metadata": {
  "kernelspec": {
   "display_name": "Python 3",
   "language": "python",
   "name": "python3"
  },
  "language_info": {
   "codemirror_mode": {
    "name": "ipython",
    "version": 3
   },
   "file_extension": ".py",
   "mimetype": "text/x-python",
   "name": "python",
   "nbconvert_exporter": "python",
   "pygments_lexer": "ipython3",
   "version": "3.8.5"
  }
 },
 "nbformat": 4,
 "nbformat_minor": 4
}
