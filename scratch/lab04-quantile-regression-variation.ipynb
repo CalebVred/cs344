{
 "cells": [
  {
   "cell_type": "markdown",
   "metadata": {},
   "source": [
    "# Lab 4: Nonlinear Regression\n",
    "\n",
    "Task: Use `nn.Sequential` to add layers to a model; use a nonlinearity between layers to increase the model's capacity."
   ]
  },
  {
   "cell_type": "markdown",
   "metadata": {},
   "source": [
    "## Setup"
   ]
  },
  {
   "cell_type": "code",
   "execution_count": 1,
   "metadata": {},
   "outputs": [],
   "source": [
    "from fastai.vision.all import *"
   ]
  },
  {
   "cell_type": "markdown",
   "metadata": {},
   "source": [
    "This function will make a `DataLoaders` object out of an arary dataset."
   ]
  },
  {
   "cell_type": "code",
   "execution_count": 2,
   "metadata": {},
   "outputs": [],
   "source": [
    "def make_dataloaders(x, y_true, splitter, batch_size):\n",
    "    data = L(zip(x, y_true))\n",
    "    train_indices, valid_indices = splitter(data)\n",
    "    return DataLoaders(\n",
    "        DataLoader(data[train_indices], batch_size=batch_size, shuffle=True),\n",
    "        DataLoader(data[valid_indices], batch_size=batch_size)\n",
    "    )   "
   ]
  },
  {
   "cell_type": "markdown",
   "metadata": {},
   "source": [
    "Here are utility functions to plot the first axis of a dataset and a model's predictions."
   ]
  },
  {
   "cell_type": "code",
   "execution_count": 37,
   "metadata": {},
   "outputs": [],
   "source": [
    "def plot_data(x, y): plt.scatter(x[:, 0], y[:, 0], s=.5, color='#bbbbbb')\n",
    "def plot_model(x, model):\n",
    "    x = x.sort(dim=0).values\n",
    "    y_pred = model(x).detach()\n",
    "    for output in range(y_pred.shape[1]):\n",
    "        plt.plot(x[:, 0], y_pred[:, output], 'r')"
   ]
  },
  {
   "cell_type": "markdown",
   "metadata": {},
   "source": [
    "The following `Callback` can be added to your `Learner` to plot the data and model after each epoch:\n",
    "\n",
    "```\n",
    "learner = Learner(\n",
    "    ...\n",
    "    cbs=[ShowPredictions(), ShowGraphCallback()],\n",
    "    ...\n",
    "```"
   ]
  },
  {
   "cell_type": "code",
   "execution_count": 4,
   "metadata": {},
   "outputs": [],
   "source": [
    "# Inspired by https://gist.github.com/oguiza/c7559da6de0e036f01d7dee15e2f15e4\n",
    "class ShowPredictions(Callback):\n",
    "    def __init__(self): self.graph_fig = None # keep a reference to a figure object to update\n",
    "    def before_fit(self):\n",
    "        self.run = not hasattr(self.learn, 'lr_finder') and not hasattr(self, 'gather_preds')\n",
    "    def after_fit(self): plt.close(self.graph_fig)\n",
    "    def after_epoch(self):\n",
    "        if self.graph_fig is None:\n",
    "            self.graph_fig, self.graph_ax = plt.subplots(1)\n",
    "            self.graph_out = display(self.graph_ax.figure, display_id=True)\n",
    "        plt.sca(self.graph_ax)\n",
    "        self.graph_ax.clear()\n",
    "        # Plot code. Replace this if needed:\n",
    "        plot_data(x, y_true)\n",
    "        plot_model(x, model)\n",
    "        # Update the graph.\n",
    "        self.graph_out.update(self.graph_ax.figure)\n"
   ]
  },
  {
   "cell_type": "markdown",
   "metadata": {},
   "source": [
    "## Task"
   ]
  },
  {
   "cell_type": "markdown",
   "metadata": {},
   "source": [
    "Most applications of neural net models work in very high dimensions (e.g., each individual pixel in an image!) so it's hard to visualize what the model is actually learning. Here, we'll revisit the simple linear model that we looked at in Fundamentals `006` and `009`, which learned to predict a single continuous outcome variable `y` from a single continuous input feature `x`. So we can visualize the network's behavior just like any other univariate function: by plotting y vs x.\n",
    "\n",
    "But this time the data isn't just a straight line; it's a fancy function of `x`."
   ]
  },
  {
   "cell_type": "code",
   "execution_count": 5,
   "metadata": {},
   "outputs": [
    {
     "data": {
      "image/png": "[encoded data removed]",
      "text/plain": [
       "<Figure size 432x288 with 1 Axes>"
      ]
     },
     "metadata": {
      "needs_background": "light"
     },
     "output_type": "display_data"
    }
   ],
   "source": [
    "num_points = 5000\n",
    "\n",
    "set_seed(40)\n",
    "x = torch.rand(num_points, 1)\n",
    "noise = torch.rand_like(x) * 1.\n",
    "y_true = .5 * (x*6).sin() + x + (x - .75) * noise\n",
    "# standardize y, just to make it well behaved.\n",
    "y_true -= y_true.mean()\n",
    "y_true /= y_true.std()\n",
    "\n",
    "plot_data(x, y_true)"
   ]
  },
  {
   "cell_type": "markdown",
   "metadata": {},
   "source": [
    "In `006` and `009`, we dealt with models that could only ever make straight lines. They couldn't even make a curve like `3 * x**2 + 2*x + 1`, yet alone that one!\n",
    "\n",
    "But you may remember from your math or stats studies that a curve like that is actually linear if you transform your data, e.g., using `z = [x, x**2]` as the input; then the model is `3 * z[1] + 2 * z[0] + 1`, which is linear in `z`.\n",
    "\n",
    "So if we transform our data before giving it to the linear model, we can actually get interesting functions from a linear model. But how do we transform the data?\n",
    "\n",
    "The classic approach is to specify what transformation to make. e.g., in *polynomial regression* we put in a bunch of powers of `x` (`x**2`, `x**3`, ..., `x**10`, ...), but that gets numerically unstable with high powers. There are other \"basis functions\" that are better behaved, like *splines*.\n",
    "\n",
    "But neural nets take a different approach: they *learn* the transformation based on what is needed to accomplish its objective."
   ]
  },
  {
   "cell_type": "markdown",
   "metadata": {},
   "source": [
    "**Instructions**:\n",
    "\n",
    "1. **Fit a line to this data** (minimizing the MSE). Evaluate the MSE. By eye, how well does it fit?\n",
    "2. **Add a layer**: Use `nn.Sequential` to put two `nn.Linear` layers back to back. Use 500 dimensions as the hidden dimension (the `out_features` of the first and the `in_features` of the second). Evaluate the MSE. How well does it fit?\n",
    "3. **Add a nonlinearity**: Add a `nn.ReLU` between the two linear layers. Evaluate the MSE. How well does it fit?\n",
    "\n",
    "Details and tips are given inline below."
   ]
  },
  {
   "cell_type": "markdown",
   "metadata": {},
   "source": [
    "## Solution"
   ]
  },
  {
   "cell_type": "markdown",
   "metadata": {},
   "source": [
    "**Make a `DataLoaders` for this data**. This step has been done for you. \n",
    "\n",
    "We increased the dataset size and the batch size to make the learning better-behaved. Once you get this to work, you might see if you can deal with a smaller batch size or less data overall."
   ]
  },
  {
   "cell_type": "code",
   "execution_count": 6,
   "metadata": {},
   "outputs": [],
   "source": [
    "splitter = RandomSplitter(valid_pct=0.2, seed=42)\n",
    "batch_size = 100\n",
    "dataloaders = make_dataloaders(x, y_true, splitter, batch_size=batch_size)"
   ]
  },
  {
   "cell_type": "markdown",
   "metadata": {},
   "source": [
    "### Step 1: Fit a Line\n",
    "\n",
    "**Fit a line to this data (minimizing the MSE).**\n",
    "\n",
    "* Use a `nn.Linear` module as your `model`\n",
    "* Use `Learner` with `opt_func=SGD`, as you did in `009`.\n",
    "* Pass `cbs=[ShowPredictions(), ShowGraphCallback()]` to the `Learner` to show the training progress.\n",
    "\n",
    "Tune the learning rate and number of epochs until you reliably get an MSE below 0.76."
   ]
  },
  {
   "cell_type": "code",
   "execution_count": 7,
   "metadata": {},
   "outputs": [],
   "source": [
    "# To determine the ideal MSE of a linear model, one approach is:\n",
    "# from sklearn.linear_model import LinearRegression\n",
    "# from sklearn.metrics import mean_squared_error\n",
    "# mean_squared_error(\n",
    "#     to_np(y_true),\n",
    "#     LinearRegression().fit(x, y_true).predict(to_np(x))\n",
    "# )"
   ]
  },
  {
   "cell_type": "code",
   "execution_count": 8,
   "metadata": {},
   "outputs": [
    {
     "data": {
      "text/html": [
       "<table border=\"1\" class=\"dataframe\">\n",
       "  <thead>\n",
       "    <tr style=\"text-align: left;\">\n",
       "      <th>epoch</th>\n",
       "      <th>train_loss</th>\n",
       "      <th>valid_loss</th>\n",
       "      <th>mae</th>\n",
       "      <th>time</th>\n",
       "    </tr>\n",
       "  </thead>\n",
       "  <tbody>\n",
       "    <tr>\n",
       "      <td>0</td>\n",
       "      <td>0.950252</td>\n",
       "      <td>0.885827</td>\n",
       "      <td>0.719921</td>\n",
       "      <td>00:00</td>\n",
       "    </tr>\n",
       "    <tr>\n",
       "      <td>1</td>\n",
       "      <td>0.859075</td>\n",
       "      <td>0.808779</td>\n",
       "      <td>0.712994</td>\n",
       "      <td>00:00</td>\n",
       "    </tr>\n",
       "    <tr>\n",
       "      <td>2</td>\n",
       "      <td>0.807587</td>\n",
       "      <td>0.781937</td>\n",
       "      <td>0.713865</td>\n",
       "      <td>00:00</td>\n",
       "    </tr>\n",
       "    <tr>\n",
       "      <td>3</td>\n",
       "      <td>0.783546</td>\n",
       "      <td>0.768974</td>\n",
       "      <td>0.715225</td>\n",
       "      <td>00:00</td>\n",
       "    </tr>\n",
       "    <tr>\n",
       "      <td>4</td>\n",
       "      <td>0.768208</td>\n",
       "      <td>0.763778</td>\n",
       "      <td>0.716662</td>\n",
       "      <td>00:00</td>\n",
       "    </tr>\n",
       "    <tr>\n",
       "      <td>5</td>\n",
       "      <td>0.760159</td>\n",
       "      <td>0.762300</td>\n",
       "      <td>0.718045</td>\n",
       "      <td>00:00</td>\n",
       "    </tr>\n",
       "    <tr>\n",
       "      <td>6</td>\n",
       "      <td>0.753892</td>\n",
       "      <td>0.761404</td>\n",
       "      <td>0.719000</td>\n",
       "      <td>00:00</td>\n",
       "    </tr>\n",
       "    <tr>\n",
       "      <td>7</td>\n",
       "      <td>0.758386</td>\n",
       "      <td>0.763348</td>\n",
       "      <td>0.720821</td>\n",
       "      <td>00:00</td>\n",
       "    </tr>\n",
       "    <tr>\n",
       "      <td>8</td>\n",
       "      <td>0.751313</td>\n",
       "      <td>0.760574</td>\n",
       "      <td>0.719598</td>\n",
       "      <td>00:00</td>\n",
       "    </tr>\n",
       "    <tr>\n",
       "      <td>9</td>\n",
       "      <td>0.748924</td>\n",
       "      <td>0.760591</td>\n",
       "      <td>0.719648</td>\n",
       "      <td>00:00</td>\n",
       "    </tr>\n",
       "  </tbody>\n",
       "</table>"
      ],
      "text/plain": [
       "<IPython.core.display.HTML object>"
      ]
     },
     "metadata": {},
     "output_type": "display_data"
    },
    {
     "data": {
      "image/png": "[encoded data removed]",
      "text/plain": [
       "<Figure size 432x288 with 1 Axes>"
      ]
     },
     "metadata": {},
     "output_type": "display_data"
    },
    {
     "data": {
      "image/png": "[encoded data removed]",
      "text/plain": [
       "<Figure size 432x288 with 1 Axes>"
      ]
     },
     "metadata": {},
     "output_type": "display_data"
    }
   ],
   "source": [
    "# # your code here <<EOF\n",
    "model = nn.Linear(in_features=1, out_features=1, bias=True)\n",
    "loss_func = nn.MSELoss()\n",
    "\n",
    "learner = Learner(\n",
    "    dls=dataloaders,\n",
    "    model=model,\n",
    "    loss_func=loss_func,\n",
    "    opt_func=SGD,\n",
    "    metrics=[mae],\n",
    "    cbs=[ShowPredictions(), ShowGraphCallback()],\n",
    ")\n",
    "\n",
    "learner.fit(n_epoch=10, lr=1e-1)\n",
    "# EOF"
   ]
  },
  {
   "cell_type": "markdown",
   "metadata": {},
   "source": [
    "Evaluate the MSE. By eye, how well does it fit?"
   ]
  },
  {
   "cell_type": "markdown",
   "metadata": {},
   "source": [
    "*Your narrative response here*"
   ]
  },
  {
   "cell_type": "markdown",
   "metadata": {},
   "source": [
    "### Step 2: Add a Layer\n",
    "\n",
    "**Use `nn.Sequential` to put two `nn.Linear` layers back to back.**\n",
    "\n",
    "Use 500 dimensions as the hidden dimension (the `out_features` of the first and the `in_features` of the second).\n",
    "\n",
    "You may notice that the training is much less stable, and is rather sensitive to initializations (run the same thing multiple times and see that it will sometimes converge much better than other times). To improve training, try the following:\n",
    "\n",
    "* Instead of `learner.fit`, use `learner.fit_one_cycle`. This starts the learning rate low, gradually ramps it up, then ramps it back down. It also enables *momentum*, which tends to make gradient descent both faster and more stable. **Can `fit_one_cycle` handle a larger learning rate (`lr_max=XXX`) than `fit` (`lr=XXX`)?**\n",
    "* Instead of `opt_func=SGD`, omit the `opt_func` parameter so it uses the default \"Adam\" optimizer. Adam adapts the effective learning rate for every parameter based on how big its gradients have been recently. As Sebastian Ruder [puts it](https://ruder.io/optimizing-gradient-descent/index.html#adam): \"Whereas momentum can be seen as a ball running down a slope, Adam behaves like a heavy ball with friction, which thus prefers flat minima in the error surface.\" **Does changing to Adam have much effect here?**"
   ]
  },
  {
   "cell_type": "code",
   "execution_count": 25,
   "metadata": {},
   "outputs": [
    {
     "data": {
      "text/html": [
       "<table border=\"1\" class=\"dataframe\">\n",
       "  <thead>\n",
       "    <tr style=\"text-align: left;\">\n",
       "      <th>epoch</th>\n",
       "      <th>train_loss</th>\n",
       "      <th>valid_loss</th>\n",
       "      <th>time</th>\n",
       "    </tr>\n",
       "  </thead>\n",
       "  <tbody>\n",
       "    <tr>\n",
       "      <td>0</td>\n",
       "      <td>1.103209</td>\n",
       "      <td>1.036830</td>\n",
       "      <td>00:00</td>\n",
       "    </tr>\n",
       "    <tr>\n",
       "      <td>1</td>\n",
       "      <td>1.041770</td>\n",
       "      <td>1.172594</td>\n",
       "      <td>00:00</td>\n",
       "    </tr>\n",
       "    <tr>\n",
       "      <td>2</td>\n",
       "      <td>1.127846</td>\n",
       "      <td>1.247617</td>\n",
       "      <td>00:00</td>\n",
       "    </tr>\n",
       "    <tr>\n",
       "      <td>3</td>\n",
       "      <td>1.099225</td>\n",
       "      <td>1.023210</td>\n",
       "      <td>00:00</td>\n",
       "    </tr>\n",
       "    <tr>\n",
       "      <td>4</td>\n",
       "      <td>1.123751</td>\n",
       "      <td>1.238288</td>\n",
       "      <td>00:00</td>\n",
       "    </tr>\n",
       "    <tr>\n",
       "      <td>5</td>\n",
       "      <td>1.114056</td>\n",
       "      <td>1.094123</td>\n",
       "      <td>00:00</td>\n",
       "    </tr>\n",
       "    <tr>\n",
       "      <td>6</td>\n",
       "      <td>1.052905</td>\n",
       "      <td>1.026478</td>\n",
       "      <td>00:00</td>\n",
       "    </tr>\n",
       "    <tr>\n",
       "      <td>7</td>\n",
       "      <td>1.026005</td>\n",
       "      <td>1.047236</td>\n",
       "      <td>00:00</td>\n",
       "    </tr>\n",
       "    <tr>\n",
       "      <td>8</td>\n",
       "      <td>1.007055</td>\n",
       "      <td>1.024164</td>\n",
       "      <td>00:00</td>\n",
       "    </tr>\n",
       "    <tr>\n",
       "      <td>9</td>\n",
       "      <td>1.030543</td>\n",
       "      <td>1.093056</td>\n",
       "      <td>00:00</td>\n",
       "    </tr>\n",
       "    <tr>\n",
       "      <td>10</td>\n",
       "      <td>2.183489</td>\n",
       "      <td>1.945531</td>\n",
       "      <td>00:00</td>\n",
       "    </tr>\n",
       "    <tr>\n",
       "      <td>11</td>\n",
       "      <td>1.595407</td>\n",
       "      <td>1.025007</td>\n",
       "      <td>00:00</td>\n",
       "    </tr>\n",
       "    <tr>\n",
       "      <td>12</td>\n",
       "      <td>1.281793</td>\n",
       "      <td>1.024261</td>\n",
       "      <td>00:00</td>\n",
       "    </tr>\n",
       "    <tr>\n",
       "      <td>13</td>\n",
       "      <td>1.162806</td>\n",
       "      <td>1.038262</td>\n",
       "      <td>00:00</td>\n",
       "    </tr>\n",
       "    <tr>\n",
       "      <td>14</td>\n",
       "      <td>1.075133</td>\n",
       "      <td>1.025658</td>\n",
       "      <td>00:00</td>\n",
       "    </tr>\n",
       "    <tr>\n",
       "      <td>15</td>\n",
       "      <td>1.034708</td>\n",
       "      <td>1.029673</td>\n",
       "      <td>00:00</td>\n",
       "    </tr>\n",
       "    <tr>\n",
       "      <td>16</td>\n",
       "      <td>1.009981</td>\n",
       "      <td>1.024801</td>\n",
       "      <td>00:00</td>\n",
       "    </tr>\n",
       "    <tr>\n",
       "      <td>17</td>\n",
       "      <td>1.007810</td>\n",
       "      <td>1.045463</td>\n",
       "      <td>00:00</td>\n",
       "    </tr>\n",
       "    <tr>\n",
       "      <td>18</td>\n",
       "      <td>1.004803</td>\n",
       "      <td>1.026582</td>\n",
       "      <td>00:00</td>\n",
       "    </tr>\n",
       "    <tr>\n",
       "      <td>19</td>\n",
       "      <td>1.015688</td>\n",
       "      <td>1.025733</td>\n",
       "      <td>00:00</td>\n",
       "    </tr>\n",
       "    <tr>\n",
       "      <td>20</td>\n",
       "      <td>1.004907</td>\n",
       "      <td>1.045407</td>\n",
       "      <td>00:00</td>\n",
       "    </tr>\n",
       "    <tr>\n",
       "      <td>21</td>\n",
       "      <td>1.018970</td>\n",
       "      <td>1.024276</td>\n",
       "      <td>00:00</td>\n",
       "    </tr>\n",
       "    <tr>\n",
       "      <td>22</td>\n",
       "      <td>1.018024</td>\n",
       "      <td>1.034008</td>\n",
       "      <td>00:00</td>\n",
       "    </tr>\n",
       "    <tr>\n",
       "      <td>23</td>\n",
       "      <td>1.004856</td>\n",
       "      <td>1.027717</td>\n",
       "      <td>00:00</td>\n",
       "    </tr>\n",
       "    <tr>\n",
       "      <td>24</td>\n",
       "      <td>1.113238</td>\n",
       "      <td>2.986041</td>\n",
       "      <td>00:00</td>\n",
       "    </tr>\n",
       "    <tr>\n",
       "      <td>25</td>\n",
       "      <td>1.204817</td>\n",
       "      <td>1.057928</td>\n",
       "      <td>00:00</td>\n",
       "    </tr>\n",
       "    <tr>\n",
       "      <td>26</td>\n",
       "      <td>1.102419</td>\n",
       "      <td>1.049455</td>\n",
       "      <td>00:00</td>\n",
       "    </tr>\n",
       "    <tr>\n",
       "      <td>27</td>\n",
       "      <td>1.049973</td>\n",
       "      <td>1.025203</td>\n",
       "      <td>00:00</td>\n",
       "    </tr>\n",
       "    <tr>\n",
       "      <td>28</td>\n",
       "      <td>1.022647</td>\n",
       "      <td>1.023458</td>\n",
       "      <td>00:00</td>\n",
       "    </tr>\n",
       "    <tr>\n",
       "      <td>29</td>\n",
       "      <td>1.005994</td>\n",
       "      <td>1.024278</td>\n",
       "      <td>00:00</td>\n",
       "    </tr>\n",
       "    <tr>\n",
       "      <td>30</td>\n",
       "      <td>1.007167</td>\n",
       "      <td>1.026501</td>\n",
       "      <td>00:00</td>\n",
       "    </tr>\n",
       "    <tr>\n",
       "      <td>31</td>\n",
       "      <td>0.999800</td>\n",
       "      <td>1.024329</td>\n",
       "      <td>00:00</td>\n",
       "    </tr>\n",
       "    <tr>\n",
       "      <td>32</td>\n",
       "      <td>0.998356</td>\n",
       "      <td>1.028202</td>\n",
       "      <td>00:00</td>\n",
       "    </tr>\n",
       "    <tr>\n",
       "      <td>33</td>\n",
       "      <td>1.001586</td>\n",
       "      <td>1.023554</td>\n",
       "      <td>00:00</td>\n",
       "    </tr>\n",
       "    <tr>\n",
       "      <td>34</td>\n",
       "      <td>0.996358</td>\n",
       "      <td>1.023088</td>\n",
       "      <td>00:00</td>\n",
       "    </tr>\n",
       "    <tr>\n",
       "      <td>35</td>\n",
       "      <td>1.000085</td>\n",
       "      <td>1.024012</td>\n",
       "      <td>00:00</td>\n",
       "    </tr>\n",
       "    <tr>\n",
       "      <td>36</td>\n",
       "      <td>0.999927</td>\n",
       "      <td>1.028792</td>\n",
       "      <td>00:00</td>\n",
       "    </tr>\n",
       "    <tr>\n",
       "      <td>37</td>\n",
       "      <td>1.001936</td>\n",
       "      <td>1.031088</td>\n",
       "      <td>00:00</td>\n",
       "    </tr>\n",
       "    <tr>\n",
       "      <td>38</td>\n",
       "      <td>1.004708</td>\n",
       "      <td>1.029916</td>\n",
       "      <td>00:00</td>\n",
       "    </tr>\n",
       "    <tr>\n",
       "      <td>39</td>\n",
       "      <td>1.010251</td>\n",
       "      <td>1.023500</td>\n",
       "      <td>00:00</td>\n",
       "    </tr>\n",
       "    <tr>\n",
       "      <td>40</td>\n",
       "      <td>1.006712</td>\n",
       "      <td>1.023190</td>\n",
       "      <td>00:00</td>\n",
       "    </tr>\n",
       "    <tr>\n",
       "      <td>41</td>\n",
       "      <td>1.003400</td>\n",
       "      <td>1.024443</td>\n",
       "      <td>00:00</td>\n",
       "    </tr>\n",
       "    <tr>\n",
       "      <td>42</td>\n",
       "      <td>1.002362</td>\n",
       "      <td>1.029946</td>\n",
       "      <td>00:00</td>\n",
       "    </tr>\n",
       "    <tr>\n",
       "      <td>43</td>\n",
       "      <td>0.999515</td>\n",
       "      <td>1.024334</td>\n",
       "      <td>00:00</td>\n",
       "    </tr>\n",
       "    <tr>\n",
       "      <td>44</td>\n",
       "      <td>0.995858</td>\n",
       "      <td>1.023281</td>\n",
       "      <td>00:00</td>\n",
       "    </tr>\n",
       "    <tr>\n",
       "      <td>45</td>\n",
       "      <td>0.999926</td>\n",
       "      <td>1.023273</td>\n",
       "      <td>00:00</td>\n",
       "    </tr>\n",
       "    <tr>\n",
       "      <td>46</td>\n",
       "      <td>0.992787</td>\n",
       "      <td>1.023075</td>\n",
       "      <td>00:00</td>\n",
       "    </tr>\n",
       "    <tr>\n",
       "      <td>47</td>\n",
       "      <td>0.996175</td>\n",
       "      <td>1.023109</td>\n",
       "      <td>00:00</td>\n",
       "    </tr>\n",
       "    <tr>\n",
       "      <td>48</td>\n",
       "      <td>0.995191</td>\n",
       "      <td>1.023024</td>\n",
       "      <td>00:00</td>\n",
       "    </tr>\n",
       "    <tr>\n",
       "      <td>49</td>\n",
       "      <td>0.990482</td>\n",
       "      <td>1.023024</td>\n",
       "      <td>00:00</td>\n",
       "    </tr>\n",
       "  </tbody>\n",
       "</table>"
      ],
      "text/plain": [
       "<IPython.core.display.HTML object>"
      ]
     },
     "metadata": {},
     "output_type": "display_data"
    },
    {
     "data": {
      "image/png": "[encoded data removed]",
      "text/plain": [
       "<Figure size 432x288 with 1 Axes>"
      ]
     },
     "metadata": {},
     "output_type": "display_data"
    },
    {
     "data": {
      "image/png": "[encoded data removed]",
      "text/plain": [
       "<Figure size 432x288 with 1 Axes>"
      ]
     },
     "metadata": {},
     "output_type": "display_data"
    }
   ],
   "source": [
    "model = nn.Sequential(\n",
    "    # ...\n",
    "    nn.Linear(in_features=1, out_features=500, bias=True),\n",
    "    # ...\n",
    "    nn.Linear(in_features=500, out_features=2, bias=True),\n",
    ")\n",
    "# ... <<EOF\n",
    "def quantile_loss(quantiles):\n",
    "    def loss(predictions, targets):\n",
    "        mean_predictions = predictions[:, 0]\n",
    "        median_predictions = predictions[:, 1]\n",
    "        return (targets - mean_predictions).pow(2).mean()\n",
    "#        residual = targets - predictions\n",
    "#        raw_loss = residual.abs() + residual.pow(2)#torch.maximum(quantiles * residual, (quantiles - 1) * residual)\n",
    "#        return raw_loss.mean()\n",
    "    return loss\n",
    "\n",
    "loss_func = quantile_loss(0.5)#nn.MSELoss()\n",
    "\n",
    "learner = Learner(\n",
    "    dls=dataloaders,\n",
    "    model=model,\n",
    "    loss_func=loss_func,\n",
    "    #opt_func=SGD,\n",
    "    #metrics=[mae, mse],\n",
    "    cbs=[ShowPredictions(), ShowGraphCallback()],\n",
    ")\n",
    "\n",
    "learner.fit_one_cycle(n_epoch=50, lr_max=1e-1)\n",
    "# EOF"
   ]
  },
  {
   "cell_type": "code",
   "execution_count": 17,
   "metadata": {},
   "outputs": [
    {
     "data": {
      "text/plain": [
       "tensor(0.3511, grad_fn=<MeanBackward0>)"
      ]
     },
     "execution_count": 17,
     "metadata": {},
     "output_type": "execute_result"
    }
   ],
   "source": [
    "quantile_loss(.01)(learner.model(x), y_true)"
   ]
  },
  {
   "cell_type": "markdown",
   "metadata": {},
   "source": [
    "Evaluate the MSE. By eye, how well does it fit?"
   ]
  },
  {
   "cell_type": "markdown",
   "metadata": {},
   "source": [
    "*Your narrative response here*"
   ]
  },
  {
   "cell_type": "markdown",
   "metadata": {},
   "source": [
    "### Step 3: **Add a nonlinearity**\n",
    "\n",
    "Add a `nn.ReLU` between the two linear layers.\n",
    "\n",
    "* Definitely use `fit_one_cycle` here!\n",
    "* You will probably need more epochs to fit this model.\n",
    "* Try several different `set_seed`s here to ensure that your results aren't a fluke."
   ]
  },
  {
   "cell_type": "code",
   "execution_count": 38,
   "metadata": {},
   "outputs": [
    {
     "data": {
      "text/html": [
       "<table border=\"1\" class=\"dataframe\">\n",
       "  <thead>\n",
       "    <tr style=\"text-align: left;\">\n",
       "      <th>epoch</th>\n",
       "      <th>train_loss</th>\n",
       "      <th>valid_loss</th>\n",
       "      <th>time</th>\n",
       "    </tr>\n",
       "  </thead>\n",
       "  <tbody>\n",
       "    <tr>\n",
       "      <td>0</td>\n",
       "      <td>1.364206</td>\n",
       "      <td>1.077673</td>\n",
       "      <td>00:00</td>\n",
       "    </tr>\n",
       "    <tr>\n",
       "      <td>1</td>\n",
       "      <td>0.999045</td>\n",
       "      <td>0.634535</td>\n",
       "      <td>00:00</td>\n",
       "    </tr>\n",
       "    <tr>\n",
       "      <td>2</td>\n",
       "      <td>0.752477</td>\n",
       "      <td>0.488046</td>\n",
       "      <td>00:00</td>\n",
       "    </tr>\n",
       "    <tr>\n",
       "      <td>3</td>\n",
       "      <td>0.647110</td>\n",
       "      <td>0.553948</td>\n",
       "      <td>00:00</td>\n",
       "    </tr>\n",
       "    <tr>\n",
       "      <td>4</td>\n",
       "      <td>0.609487</td>\n",
       "      <td>0.697995</td>\n",
       "      <td>00:00</td>\n",
       "    </tr>\n",
       "    <tr>\n",
       "      <td>5</td>\n",
       "      <td>0.589365</td>\n",
       "      <td>0.604624</td>\n",
       "      <td>00:00</td>\n",
       "    </tr>\n",
       "    <tr>\n",
       "      <td>6</td>\n",
       "      <td>0.561164</td>\n",
       "      <td>0.484456</td>\n",
       "      <td>00:00</td>\n",
       "    </tr>\n",
       "    <tr>\n",
       "      <td>7</td>\n",
       "      <td>0.544096</td>\n",
       "      <td>0.502471</td>\n",
       "      <td>00:00</td>\n",
       "    </tr>\n",
       "    <tr>\n",
       "      <td>8</td>\n",
       "      <td>0.535016</td>\n",
       "      <td>0.510955</td>\n",
       "      <td>00:00</td>\n",
       "    </tr>\n",
       "    <tr>\n",
       "      <td>9</td>\n",
       "      <td>0.582618</td>\n",
       "      <td>0.532317</td>\n",
       "      <td>00:00</td>\n",
       "    </tr>\n",
       "    <tr>\n",
       "      <td>10</td>\n",
       "      <td>0.548036</td>\n",
       "      <td>0.552694</td>\n",
       "      <td>00:00</td>\n",
       "    </tr>\n",
       "    <tr>\n",
       "      <td>11</td>\n",
       "      <td>0.517616</td>\n",
       "      <td>0.488602</td>\n",
       "      <td>00:00</td>\n",
       "    </tr>\n",
       "    <tr>\n",
       "      <td>12</td>\n",
       "      <td>0.515878</td>\n",
       "      <td>0.483314</td>\n",
       "      <td>00:00</td>\n",
       "    </tr>\n",
       "    <tr>\n",
       "      <td>13</td>\n",
       "      <td>0.515550</td>\n",
       "      <td>0.524566</td>\n",
       "      <td>00:00</td>\n",
       "    </tr>\n",
       "    <tr>\n",
       "      <td>14</td>\n",
       "      <td>0.515128</td>\n",
       "      <td>0.650347</td>\n",
       "      <td>00:00</td>\n",
       "    </tr>\n",
       "    <tr>\n",
       "      <td>15</td>\n",
       "      <td>0.497970</td>\n",
       "      <td>0.499237</td>\n",
       "      <td>00:00</td>\n",
       "    </tr>\n",
       "    <tr>\n",
       "      <td>16</td>\n",
       "      <td>0.490042</td>\n",
       "      <td>0.509063</td>\n",
       "      <td>00:00</td>\n",
       "    </tr>\n",
       "    <tr>\n",
       "      <td>17</td>\n",
       "      <td>0.485743</td>\n",
       "      <td>0.472187</td>\n",
       "      <td>00:00</td>\n",
       "    </tr>\n",
       "    <tr>\n",
       "      <td>18</td>\n",
       "      <td>0.483973</td>\n",
       "      <td>0.487627</td>\n",
       "      <td>00:00</td>\n",
       "    </tr>\n",
       "    <tr>\n",
       "      <td>19</td>\n",
       "      <td>0.483110</td>\n",
       "      <td>0.502934</td>\n",
       "      <td>00:00</td>\n",
       "    </tr>\n",
       "    <tr>\n",
       "      <td>20</td>\n",
       "      <td>0.478075</td>\n",
       "      <td>0.478122</td>\n",
       "      <td>00:00</td>\n",
       "    </tr>\n",
       "    <tr>\n",
       "      <td>21</td>\n",
       "      <td>0.476248</td>\n",
       "      <td>0.493143</td>\n",
       "      <td>00:00</td>\n",
       "    </tr>\n",
       "    <tr>\n",
       "      <td>22</td>\n",
       "      <td>0.470315</td>\n",
       "      <td>0.468826</td>\n",
       "      <td>00:00</td>\n",
       "    </tr>\n",
       "    <tr>\n",
       "      <td>23</td>\n",
       "      <td>0.465258</td>\n",
       "      <td>0.477356</td>\n",
       "      <td>00:00</td>\n",
       "    </tr>\n",
       "    <tr>\n",
       "      <td>24</td>\n",
       "      <td>0.463548</td>\n",
       "      <td>0.464557</td>\n",
       "      <td>00:00</td>\n",
       "    </tr>\n",
       "    <tr>\n",
       "      <td>25</td>\n",
       "      <td>0.461336</td>\n",
       "      <td>0.468950</td>\n",
       "      <td>00:00</td>\n",
       "    </tr>\n",
       "    <tr>\n",
       "      <td>26</td>\n",
       "      <td>0.458130</td>\n",
       "      <td>0.466157</td>\n",
       "      <td>00:00</td>\n",
       "    </tr>\n",
       "    <tr>\n",
       "      <td>27</td>\n",
       "      <td>0.454805</td>\n",
       "      <td>0.463747</td>\n",
       "      <td>00:00</td>\n",
       "    </tr>\n",
       "    <tr>\n",
       "      <td>28</td>\n",
       "      <td>0.453044</td>\n",
       "      <td>0.463979</td>\n",
       "      <td>00:00</td>\n",
       "    </tr>\n",
       "    <tr>\n",
       "      <td>29</td>\n",
       "      <td>0.450115</td>\n",
       "      <td>0.463863</td>\n",
       "      <td>00:00</td>\n",
       "    </tr>\n",
       "  </tbody>\n",
       "</table>"
      ],
      "text/plain": [
       "<IPython.core.display.HTML object>"
      ]
     },
     "metadata": {},
     "output_type": "display_data"
    },
    {
     "data": {
      "image/png": "[encoded data removed]",
      "text/plain": [
       "<Figure size 432x288 with 1 Axes>"
      ]
     },
     "metadata": {},
     "output_type": "display_data"
    },
    {
     "data": {
      "image/png": "[encoded data removed]",
      "text/plain": [
       "<Figure size 432x288 with 1 Axes>"
      ]
     },
     "metadata": {},
     "output_type": "display_data"
    }
   ],
   "source": [
    "# set_seed(...)\n",
    "set_seed(10)\n",
    "# ... << EOF\n",
    "model = nn.Sequential(\n",
    "    nn.Linear(1, 500),\n",
    "    nn.ReLU(),\n",
    "    nn.Linear(500, 2)\n",
    ")\n",
    "\n",
    "def tilted_abs(x, shift):\n",
    "    # See https://www.wikiwand.com/en/Quantile_regression\n",
    "    return \n",
    "\n",
    "\n",
    "def quantile_loss(quantiles):\n",
    "    def loss(predictions, targets):\n",
    "#        return nn.MSELoss()(predictions[:, 0].unsqueeze(-1), targets)\n",
    "        mean_predictions = predictions[:, 0].unsqueeze(-1)\n",
    "        median_predictions = predictions[:, 1].unsqueeze(-1)\n",
    "        return (targets - mean_predictions).pow(2).mean() + (targets - median_predictions).abs().mean()\n",
    "#        residual = targets - predictions\n",
    "#        raw_loss = residual.abs() + residual.pow(2)#torch.maximum(quantiles * residual, (quantiles - 1) * residual)\n",
    "#        return raw_loss.mean()\n",
    "    return loss\n",
    "\n",
    "loss_func = quantile_loss(0.5)\n",
    "#loss_func = nn.MSELoss()\n",
    "\n",
    "\n",
    "learner = Learner(\n",
    "    dls=dataloaders,\n",
    "    model=model,\n",
    "    loss_func=loss_func,\n",
    "#    metrics=[mae],\n",
    "    cbs=[ShowPredictions(), ShowGraphCallback()]\n",
    ")\n",
    "learner.fit_one_cycle(n_epoch=30, lr_max=.1)\n",
    "# EOF\n"
   ]
  },
  {
   "cell_type": "markdown",
   "metadata": {},
   "source": [
    "Evaluate the MSE. How well does it fit?"
   ]
  },
  {
   "cell_type": "markdown",
   "metadata": {},
   "source": [
    "*your narrative response here*"
   ]
  },
  {
   "cell_type": "markdown",
   "metadata": {},
   "source": [
    "## Analysis"
   ]
  },
  {
   "cell_type": "markdown",
   "metadata": {},
   "source": [
    "Despite having a hidden layer like the final model, the second model never gave us anything more than a straight line. Why not?"
   ]
  },
  {
   "cell_type": "markdown",
   "metadata": {},
   "source": [
    "*your narrative response here*"
   ]
  },
  {
   "cell_type": "markdown",
   "metadata": {},
   "source": [
    "Watch the model plot in Step 3 as the model fits (use at least 30 epochs to be able to watch this clearly). What do you notice about the plot during three regimes of training:\n",
    "\n",
    "1. Within the first epoch (right at the start of training)\n",
    "2. Mid-training\n",
    "3. In the last epoch or two"
   ]
  },
  {
   "cell_type": "markdown",
   "metadata": {},
   "source": [
    "*your narrative response here*"
   ]
  },
  {
   "cell_type": "markdown",
   "metadata": {},
   "source": [
    "## Extension (optional)"
   ]
  },
  {
   "cell_type": "markdown",
   "metadata": {},
   "source": [
    "What effect does the size of the hidden layer have on the quality of the fit?"
   ]
  },
  {
   "cell_type": "markdown",
   "metadata": {},
   "source": [
    "What effect does the choice of nonlinearity (\"activation function\") have? Try a few others: `Tanh`, `Sigmoid`, `LeakyReLU`,  `PReLU`, ... Early research in neural nets used smooth functions like `Tanh` and `Sigmoid` almost exclusively; do you think the `ReLU` was a good idea?"
   ]
  }
 ],
 "metadata": {
  "kernelspec": {
   "display_name": "Python 3",
   "language": "python",
   "name": "python3"
  },
  "language_info": {
   "codemirror_mode": {
    "name": "ipython",
    "version": 3
   },
   "file_extension": ".py",
   "mimetype": "text/x-python",
   "name": "python",
   "nbconvert_exporter": "python",
   "pygments_lexer": "ipython3",
   "version": "3.8.5"
  }
 },
 "nbformat": 4,
 "nbformat_minor": 4
}
