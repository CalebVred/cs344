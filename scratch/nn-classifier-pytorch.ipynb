{
 "cells": [
  {
   "cell_type": "markdown",
   "metadata": {},
   "source": [
    "# `008-logistic-regression-pytorch`\n",
    "\n",
    "Task: Fit a logistic regression model using PyTorch and fastai's Learner class."
   ]
  },
  {
   "cell_type": "markdown",
   "metadata": {},
   "source": [
    "## Setup"
   ]
  },
  {
   "cell_type": "code",
   "execution_count": 1,
   "metadata": {},
   "outputs": [],
   "source": [
    "!pip install -Uq fastbook"
   ]
  },
  {
   "cell_type": "code",
   "execution_count": 3,
   "metadata": {},
   "outputs": [],
   "source": [
    "from fastai.vision.all import *\n",
    "import sklearn.datasets"
   ]
  },
  {
   "cell_type": "markdown",
   "metadata": {},
   "source": [
    "## Task"
   ]
  },
  {
   "cell_type": "markdown",
   "metadata": {},
   "source": [
    "## Solution\n",
    "\n",
    "Add code and Markdown cells for each of the listed tasks above."
   ]
  },
  {
   "cell_type": "code",
   "execution_count": 196,
   "metadata": {},
   "outputs": [],
   "source": [
    "iris = sklearn.datasets.load_iris()"
   ]
  },
  {
   "cell_type": "code",
   "execution_count": 197,
   "metadata": {},
   "outputs": [],
   "source": [
    "# based on https://scikit-learn.org/stable/auto_examples/classification/plot_classification_probability.html#sphx-glr-auto-examples-classification-plot-classification-probability-py\n",
    "# and https://scikit-learn.org/stable/auto_examples/linear_model/plot_sgd_iris.html#sphx-glr-auto-examples-linear-model-plot-sgd-iris-py\n",
    "X = torch.tensor(iris.data).float()#[:, 0:2]  # use the first two features\n",
    "y = iris.target\n",
    "\n",
    "n_features = X.shape[1]"
   ]
  },
  {
   "cell_type": "code",
   "execution_count": 198,
   "metadata": {},
   "outputs": [],
   "source": [
    "splitter = RandomSplitter(seed = 2021032)"
   ]
  },
  {
   "cell_type": "code",
   "execution_count": 199,
   "metadata": {},
   "outputs": [],
   "source": [
    "data = L(zip(X, y))"
   ]
  },
  {
   "cell_type": "code",
   "execution_count": 200,
   "metadata": {},
   "outputs": [],
   "source": [
    "train_indices, valid_indices = splitter(data)"
   ]
  },
  {
   "cell_type": "code",
   "execution_count": 201,
   "metadata": {},
   "outputs": [
    {
     "data": {
      "text/plain": [
       "120"
      ]
     },
     "execution_count": 201,
     "metadata": {},
     "output_type": "execute_result"
    }
   ],
   "source": [
    "len(train_indices)"
   ]
  },
  {
   "cell_type": "code",
   "execution_count": 202,
   "metadata": {},
   "outputs": [
    {
     "data": {
      "text/plain": [
       "(tensor([[6.7000, 3.3000, 5.7000, 2.1000],\n",
       "         [5.0000, 3.2000, 1.2000, 0.2000],\n",
       "         [6.0000, 2.2000, 4.0000, 1.0000],\n",
       "         [5.1000, 3.3000, 1.7000, 0.5000],\n",
       "         [5.0000, 2.0000, 3.5000, 1.0000],\n",
       "         [6.1000, 3.0000, 4.6000, 1.4000],\n",
       "         [4.3000, 3.0000, 1.1000, 0.1000],\n",
       "         [6.3000, 2.7000, 4.9000, 1.8000],\n",
       "         [5.1000, 3.4000, 1.5000, 0.2000],\n",
       "         [5.6000, 3.0000, 4.1000, 1.3000],\n",
       "         [4.8000, 3.0000, 1.4000, 0.1000],\n",
       "         [5.5000, 3.5000, 1.3000, 0.2000],\n",
       "         [4.6000, 3.6000, 1.0000, 0.2000],\n",
       "         [4.9000, 2.5000, 4.5000, 1.7000],\n",
       "         [6.9000, 3.1000, 5.1000, 2.3000],\n",
       "         [6.0000, 2.2000, 5.0000, 1.5000],\n",
       "         [6.4000, 3.2000, 4.5000, 1.5000],\n",
       "         [5.7000, 2.5000, 5.0000, 2.0000],\n",
       "         [7.9000, 3.8000, 6.4000, 2.0000],\n",
       "         [5.0000, 3.4000, 1.6000, 0.4000]]),\n",
       " tensor([2, 0, 1, 0, 1, 1, 0, 2, 0, 1, 0, 0, 0, 2, 2, 2, 1, 2, 2, 0]))"
      ]
     },
     "execution_count": 202,
     "metadata": {},
     "output_type": "execute_result"
    }
   ],
   "source": [
    "train_dl = DataLoader(data[train_indices], batch_size=20)\n",
    "batch = train_dl.one_batch(); batch"
   ]
  },
  {
   "cell_type": "code",
   "execution_count": 203,
   "metadata": {},
   "outputs": [],
   "source": [
    "valid_dl = DataLoader(data[valid_indices], batch_size=20)"
   ]
  },
  {
   "cell_type": "code",
   "execution_count": 221,
   "metadata": {},
   "outputs": [],
   "source": [
    "model = nn.Sequential(\n",
    "    nn.Linear(in_features=4, out_features=100, bias=True),\n",
    "    nn.ReLU(),\n",
    "    nn.Linear(in_features=100, out_features=3, bias=True)\n",
    ")"
   ]
  },
  {
   "cell_type": "code",
   "execution_count": 222,
   "metadata": {},
   "outputs": [
    {
     "data": {
      "text/plain": [
       "tensor([[ 0.2884,  0.6447, -2.0498],\n",
       "        [ 0.4437,  0.7707, -1.4257],\n",
       "        [ 0.3129,  0.6512, -1.7800],\n",
       "        [ 0.4059,  0.7620, -1.4834],\n",
       "        [ 0.2271,  0.5641, -1.5151],\n",
       "        [ 0.2706,  0.6652, -1.8462],\n",
       "        [ 0.3188,  0.7250, -1.2415],\n",
       "        [ 0.3025,  0.6168, -1.9151],\n",
       "        [ 0.4073,  0.8062, -1.4738],\n",
       "        [ 0.2437,  0.6497, -1.7082],\n",
       "        [ 0.3774,  0.7509, -1.3793],\n",
       "        [ 0.5099,  0.8358, -1.5638],\n",
       "        [ 0.3696,  0.8025, -1.3384],\n",
       "        [ 0.1440,  0.4862, -1.5273],\n",
       "        [ 0.3669,  0.6479, -2.0891],\n",
       "        [ 0.2473,  0.5767, -1.7883],\n",
       "        [ 0.3243,  0.7205, -1.9369],\n",
       "        [ 0.2263,  0.5196, -1.7561],\n",
       "        [ 0.3678,  0.7659, -2.3711],\n",
       "        [ 0.3921,  0.7781, -1.4573]], grad_fn=<AddmmBackward>)"
      ]
     },
     "execution_count": 222,
     "metadata": {},
     "output_type": "execute_result"
    }
   ],
   "source": [
    "model(batch[0])"
   ]
  },
  {
   "cell_type": "code",
   "execution_count": 223,
   "metadata": {},
   "outputs": [
    {
     "data": {
      "text/plain": [
       "tensor(1.6231, grad_fn=<NllLossBackward>)"
      ]
     },
     "execution_count": 223,
     "metadata": {},
     "output_type": "execute_result"
    }
   ],
   "source": [
    "loss_fn = nn.CrossEntropyLoss()\n",
    "loss_fn(model(batch[0]), batch[1])"
   ]
  },
  {
   "cell_type": "code",
   "execution_count": 224,
   "metadata": {},
   "outputs": [],
   "source": [
    "learner = Learner(\n",
    "    dls=DataLoaders(train_dl, valid_dl),\n",
    "    model=model,\n",
    "    loss_func=loss_fn,\n",
    "#    opt_func=SGD,\n",
    "    wd=1e0,\n",
    "    metrics=[accuracy],\n",
    ")"
   ]
  },
  {
   "cell_type": "code",
   "execution_count": 225,
   "metadata": {},
   "outputs": [
    {
     "data": {
      "text/plain": [
       "(tensor([[6.7000, 3.3000, 5.7000, 2.1000],\n",
       "         [5.0000, 3.2000, 1.2000, 0.2000],\n",
       "         [6.0000, 2.2000, 4.0000, 1.0000],\n",
       "         [5.1000, 3.3000, 1.7000, 0.5000],\n",
       "         [5.0000, 2.0000, 3.5000, 1.0000],\n",
       "         [6.1000, 3.0000, 4.6000, 1.4000],\n",
       "         [4.3000, 3.0000, 1.1000, 0.1000],\n",
       "         [6.3000, 2.7000, 4.9000, 1.8000],\n",
       "         [5.1000, 3.4000, 1.5000, 0.2000],\n",
       "         [5.6000, 3.0000, 4.1000, 1.3000],\n",
       "         [4.8000, 3.0000, 1.4000, 0.1000],\n",
       "         [5.5000, 3.5000, 1.3000, 0.2000],\n",
       "         [4.6000, 3.6000, 1.0000, 0.2000],\n",
       "         [4.9000, 2.5000, 4.5000, 1.7000],\n",
       "         [6.9000, 3.1000, 5.1000, 2.3000],\n",
       "         [6.0000, 2.2000, 5.0000, 1.5000],\n",
       "         [6.4000, 3.2000, 4.5000, 1.5000],\n",
       "         [5.7000, 2.5000, 5.0000, 2.0000],\n",
       "         [7.9000, 3.8000, 6.4000, 2.0000],\n",
       "         [5.0000, 3.4000, 1.6000, 0.4000]]),\n",
       " tensor([2, 0, 1, 0, 1, 1, 0, 2, 0, 1, 0, 0, 0, 2, 2, 2, 1, 2, 2, 0]))"
      ]
     },
     "execution_count": 225,
     "metadata": {},
     "output_type": "execute_result"
    }
   ],
   "source": [
    "learner.dls.train.one_batch()"
   ]
  },
  {
   "cell_type": "code",
   "execution_count": 226,
   "metadata": {},
   "outputs": [
    {
     "data": {
      "text/html": [],
      "text/plain": [
       "<IPython.core.display.HTML object>"
      ]
     },
     "metadata": {},
     "output_type": "display_data"
    },
    {
     "data": {
      "text/plain": [
       "SuggestedLRs(lr_min=0.02089296132326126, lr_steep=1.3182567499825382e-06)"
      ]
     },
     "execution_count": 226,
     "metadata": {},
     "output_type": "execute_result"
    },
    {
     "data": {
      "image/png": "[encoded data removed]",
      "text/plain": [
       "<Figure size 432x288 with 1 Axes>"
      ]
     },
     "metadata": {
      "needs_background": "light"
     },
     "output_type": "display_data"
    }
   ],
   "source": [
    "learner.lr_find()"
   ]
  },
  {
   "cell_type": "code",
   "execution_count": 227,
   "metadata": {},
   "outputs": [
    {
     "data": {
      "text/html": [
       "<table border=\"1\" class=\"dataframe\">\n",
       "  <thead>\n",
       "    <tr style=\"text-align: left;\">\n",
       "      <th>epoch</th>\n",
       "      <th>train_loss</th>\n",
       "      <th>valid_loss</th>\n",
       "      <th>accuracy</th>\n",
       "      <th>time</th>\n",
       "    </tr>\n",
       "  </thead>\n",
       "  <tbody>\n",
       "    <tr>\n",
       "      <td>0</td>\n",
       "      <td>1.160195</td>\n",
       "      <td>0.722888</td>\n",
       "      <td>0.566667</td>\n",
       "      <td>00:00</td>\n",
       "    </tr>\n",
       "    <tr>\n",
       "      <td>1</td>\n",
       "      <td>0.887983</td>\n",
       "      <td>0.537561</td>\n",
       "      <td>0.600000</td>\n",
       "      <td>00:00</td>\n",
       "    </tr>\n",
       "    <tr>\n",
       "      <td>2</td>\n",
       "      <td>0.755729</td>\n",
       "      <td>0.417399</td>\n",
       "      <td>0.866667</td>\n",
       "      <td>00:00</td>\n",
       "    </tr>\n",
       "    <tr>\n",
       "      <td>3</td>\n",
       "      <td>0.663162</td>\n",
       "      <td>0.467274</td>\n",
       "      <td>0.633333</td>\n",
       "      <td>00:00</td>\n",
       "    </tr>\n",
       "    <tr>\n",
       "      <td>4</td>\n",
       "      <td>0.605306</td>\n",
       "      <td>0.362129</td>\n",
       "      <td>0.933333</td>\n",
       "      <td>00:00</td>\n",
       "    </tr>\n",
       "    <tr>\n",
       "      <td>5</td>\n",
       "      <td>0.557181</td>\n",
       "      <td>0.378005</td>\n",
       "      <td>0.900000</td>\n",
       "      <td>00:00</td>\n",
       "    </tr>\n",
       "    <tr>\n",
       "      <td>6</td>\n",
       "      <td>0.519377</td>\n",
       "      <td>0.339745</td>\n",
       "      <td>0.933333</td>\n",
       "      <td>00:00</td>\n",
       "    </tr>\n",
       "    <tr>\n",
       "      <td>7</td>\n",
       "      <td>0.486553</td>\n",
       "      <td>0.333866</td>\n",
       "      <td>0.900000</td>\n",
       "      <td>00:00</td>\n",
       "    </tr>\n",
       "    <tr>\n",
       "      <td>8</td>\n",
       "      <td>0.458709</td>\n",
       "      <td>0.306879</td>\n",
       "      <td>0.900000</td>\n",
       "      <td>00:00</td>\n",
       "    </tr>\n",
       "    <tr>\n",
       "      <td>9</td>\n",
       "      <td>0.433285</td>\n",
       "      <td>0.303225</td>\n",
       "      <td>0.900000</td>\n",
       "      <td>00:00</td>\n",
       "    </tr>\n",
       "    <tr>\n",
       "      <td>10</td>\n",
       "      <td>0.410966</td>\n",
       "      <td>0.281216</td>\n",
       "      <td>0.900000</td>\n",
       "      <td>00:00</td>\n",
       "    </tr>\n",
       "    <tr>\n",
       "      <td>11</td>\n",
       "      <td>0.389842</td>\n",
       "      <td>0.277591</td>\n",
       "      <td>0.900000</td>\n",
       "      <td>00:00</td>\n",
       "    </tr>\n",
       "    <tr>\n",
       "      <td>12</td>\n",
       "      <td>0.370960</td>\n",
       "      <td>0.259706</td>\n",
       "      <td>0.933333</td>\n",
       "      <td>00:00</td>\n",
       "    </tr>\n",
       "    <tr>\n",
       "      <td>13</td>\n",
       "      <td>0.352990</td>\n",
       "      <td>0.253543</td>\n",
       "      <td>0.900000</td>\n",
       "      <td>00:00</td>\n",
       "    </tr>\n",
       "    <tr>\n",
       "      <td>14</td>\n",
       "      <td>0.336600</td>\n",
       "      <td>0.243315</td>\n",
       "      <td>0.900000</td>\n",
       "      <td>00:00</td>\n",
       "    </tr>\n",
       "    <tr>\n",
       "      <td>15</td>\n",
       "      <td>0.321255</td>\n",
       "      <td>0.236368</td>\n",
       "      <td>0.900000</td>\n",
       "      <td>00:00</td>\n",
       "    </tr>\n",
       "    <tr>\n",
       "      <td>16</td>\n",
       "      <td>0.307089</td>\n",
       "      <td>0.229469</td>\n",
       "      <td>0.900000</td>\n",
       "      <td>00:00</td>\n",
       "    </tr>\n",
       "    <tr>\n",
       "      <td>17</td>\n",
       "      <td>0.293944</td>\n",
       "      <td>0.222813</td>\n",
       "      <td>0.933333</td>\n",
       "      <td>00:00</td>\n",
       "    </tr>\n",
       "    <tr>\n",
       "      <td>18</td>\n",
       "      <td>0.281794</td>\n",
       "      <td>0.217901</td>\n",
       "      <td>0.933333</td>\n",
       "      <td>00:00</td>\n",
       "    </tr>\n",
       "    <tr>\n",
       "      <td>19</td>\n",
       "      <td>0.270635</td>\n",
       "      <td>0.213547</td>\n",
       "      <td>0.933333</td>\n",
       "      <td>00:00</td>\n",
       "    </tr>\n",
       "    <tr>\n",
       "      <td>20</td>\n",
       "      <td>0.260367</td>\n",
       "      <td>0.210202</td>\n",
       "      <td>0.933333</td>\n",
       "      <td>00:00</td>\n",
       "    </tr>\n",
       "    <tr>\n",
       "      <td>21</td>\n",
       "      <td>0.251051</td>\n",
       "      <td>0.206686</td>\n",
       "      <td>0.933333</td>\n",
       "      <td>00:00</td>\n",
       "    </tr>\n",
       "    <tr>\n",
       "      <td>22</td>\n",
       "      <td>0.242505</td>\n",
       "      <td>0.204158</td>\n",
       "      <td>0.933333</td>\n",
       "      <td>00:00</td>\n",
       "    </tr>\n",
       "    <tr>\n",
       "      <td>23</td>\n",
       "      <td>0.234759</td>\n",
       "      <td>0.202172</td>\n",
       "      <td>0.933333</td>\n",
       "      <td>00:00</td>\n",
       "    </tr>\n",
       "    <tr>\n",
       "      <td>24</td>\n",
       "      <td>0.227742</td>\n",
       "      <td>0.199769</td>\n",
       "      <td>0.933333</td>\n",
       "      <td>00:00</td>\n",
       "    </tr>\n",
       "    <tr>\n",
       "      <td>25</td>\n",
       "      <td>0.221367</td>\n",
       "      <td>0.198634</td>\n",
       "      <td>0.933333</td>\n",
       "      <td>00:00</td>\n",
       "    </tr>\n",
       "    <tr>\n",
       "      <td>26</td>\n",
       "      <td>0.215646</td>\n",
       "      <td>0.196583</td>\n",
       "      <td>0.933333</td>\n",
       "      <td>00:00</td>\n",
       "    </tr>\n",
       "    <tr>\n",
       "      <td>27</td>\n",
       "      <td>0.210409</td>\n",
       "      <td>0.195647</td>\n",
       "      <td>0.933333</td>\n",
       "      <td>00:00</td>\n",
       "    </tr>\n",
       "    <tr>\n",
       "      <td>28</td>\n",
       "      <td>0.205731</td>\n",
       "      <td>0.194546</td>\n",
       "      <td>0.933333</td>\n",
       "      <td>00:00</td>\n",
       "    </tr>\n",
       "    <tr>\n",
       "      <td>29</td>\n",
       "      <td>0.201508</td>\n",
       "      <td>0.193109</td>\n",
       "      <td>0.933333</td>\n",
       "      <td>00:00</td>\n",
       "    </tr>\n",
       "    <tr>\n",
       "      <td>30</td>\n",
       "      <td>0.197676</td>\n",
       "      <td>0.192645</td>\n",
       "      <td>0.933333</td>\n",
       "      <td>00:00</td>\n",
       "    </tr>\n",
       "    <tr>\n",
       "      <td>31</td>\n",
       "      <td>0.194258</td>\n",
       "      <td>0.191782</td>\n",
       "      <td>0.933333</td>\n",
       "      <td>00:00</td>\n",
       "    </tr>\n",
       "    <tr>\n",
       "      <td>32</td>\n",
       "      <td>0.191170</td>\n",
       "      <td>0.190918</td>\n",
       "      <td>0.933333</td>\n",
       "      <td>00:00</td>\n",
       "    </tr>\n",
       "    <tr>\n",
       "      <td>33</td>\n",
       "      <td>0.188374</td>\n",
       "      <td>0.190699</td>\n",
       "      <td>0.933333</td>\n",
       "      <td>00:00</td>\n",
       "    </tr>\n",
       "    <tr>\n",
       "      <td>34</td>\n",
       "      <td>0.185920</td>\n",
       "      <td>0.190098</td>\n",
       "      <td>0.933333</td>\n",
       "      <td>00:00</td>\n",
       "    </tr>\n",
       "    <tr>\n",
       "      <td>35</td>\n",
       "      <td>0.183672</td>\n",
       "      <td>0.188844</td>\n",
       "      <td>0.933333</td>\n",
       "      <td>00:00</td>\n",
       "    </tr>\n",
       "    <tr>\n",
       "      <td>36</td>\n",
       "      <td>0.181628</td>\n",
       "      <td>0.188946</td>\n",
       "      <td>0.933333</td>\n",
       "      <td>00:00</td>\n",
       "    </tr>\n",
       "    <tr>\n",
       "      <td>37</td>\n",
       "      <td>0.179755</td>\n",
       "      <td>0.187890</td>\n",
       "      <td>0.933333</td>\n",
       "      <td>00:00</td>\n",
       "    </tr>\n",
       "    <tr>\n",
       "      <td>38</td>\n",
       "      <td>0.178048</td>\n",
       "      <td>0.187474</td>\n",
       "      <td>0.933333</td>\n",
       "      <td>00:00</td>\n",
       "    </tr>\n",
       "    <tr>\n",
       "      <td>39</td>\n",
       "      <td>0.176440</td>\n",
       "      <td>0.185494</td>\n",
       "      <td>0.933333</td>\n",
       "      <td>00:00</td>\n",
       "    </tr>\n",
       "    <tr>\n",
       "      <td>40</td>\n",
       "      <td>0.174859</td>\n",
       "      <td>0.185382</td>\n",
       "      <td>0.933333</td>\n",
       "      <td>00:00</td>\n",
       "    </tr>\n",
       "    <tr>\n",
       "      <td>41</td>\n",
       "      <td>0.173442</td>\n",
       "      <td>0.184088</td>\n",
       "      <td>0.933333</td>\n",
       "      <td>00:00</td>\n",
       "    </tr>\n",
       "    <tr>\n",
       "      <td>42</td>\n",
       "      <td>0.172060</td>\n",
       "      <td>0.182985</td>\n",
       "      <td>0.933333</td>\n",
       "      <td>00:00</td>\n",
       "    </tr>\n",
       "    <tr>\n",
       "      <td>43</td>\n",
       "      <td>0.170758</td>\n",
       "      <td>0.182975</td>\n",
       "      <td>0.966667</td>\n",
       "      <td>00:00</td>\n",
       "    </tr>\n",
       "    <tr>\n",
       "      <td>44</td>\n",
       "      <td>0.169596</td>\n",
       "      <td>0.181633</td>\n",
       "      <td>0.966667</td>\n",
       "      <td>00:00</td>\n",
       "    </tr>\n",
       "    <tr>\n",
       "      <td>45</td>\n",
       "      <td>0.168443</td>\n",
       "      <td>0.180761</td>\n",
       "      <td>0.966667</td>\n",
       "      <td>00:00</td>\n",
       "    </tr>\n",
       "    <tr>\n",
       "      <td>46</td>\n",
       "      <td>0.167365</td>\n",
       "      <td>0.180322</td>\n",
       "      <td>0.966667</td>\n",
       "      <td>00:00</td>\n",
       "    </tr>\n",
       "    <tr>\n",
       "      <td>47</td>\n",
       "      <td>0.166269</td>\n",
       "      <td>0.180962</td>\n",
       "      <td>0.966667</td>\n",
       "      <td>00:00</td>\n",
       "    </tr>\n",
       "    <tr>\n",
       "      <td>48</td>\n",
       "      <td>0.165128</td>\n",
       "      <td>0.174585</td>\n",
       "      <td>0.966667</td>\n",
       "      <td>00:00</td>\n",
       "    </tr>\n",
       "    <tr>\n",
       "      <td>49</td>\n",
       "      <td>0.163503</td>\n",
       "      <td>0.170421</td>\n",
       "      <td>0.966667</td>\n",
       "      <td>00:00</td>\n",
       "    </tr>\n",
       "  </tbody>\n",
       "</table>"
      ],
      "text/plain": [
       "<IPython.core.display.HTML object>"
      ]
     },
     "metadata": {},
     "output_type": "display_data"
    }
   ],
   "source": [
    "learner.fit(50, lr=.01)"
   ]
  },
  {
   "cell_type": "code",
   "execution_count": 168,
   "metadata": {},
   "outputs": [
    {
     "data": {
      "text/html": [
       "<table border=\"1\" class=\"dataframe\">\n",
       "  <thead>\n",
       "    <tr style=\"text-align: left;\">\n",
       "      <th>epoch</th>\n",
       "      <th>train_loss</th>\n",
       "      <th>valid_loss</th>\n",
       "      <th>accuracy</th>\n",
       "      <th>time</th>\n",
       "    </tr>\n",
       "  </thead>\n",
       "  <tbody>\n",
       "    <tr>\n",
       "      <td>0</td>\n",
       "      <td>0.473271</td>\n",
       "      <td>0.398137</td>\n",
       "      <td>0.866667</td>\n",
       "      <td>00:00</td>\n",
       "    </tr>\n",
       "    <tr>\n",
       "      <td>1</td>\n",
       "      <td>0.473271</td>\n",
       "      <td>0.398137</td>\n",
       "      <td>0.866667</td>\n",
       "      <td>00:00</td>\n",
       "    </tr>\n",
       "    <tr>\n",
       "      <td>2</td>\n",
       "      <td>0.473271</td>\n",
       "      <td>0.398137</td>\n",
       "      <td>0.866667</td>\n",
       "      <td>00:00</td>\n",
       "    </tr>\n",
       "    <tr>\n",
       "      <td>3</td>\n",
       "      <td>0.473272</td>\n",
       "      <td>0.398137</td>\n",
       "      <td>0.866667</td>\n",
       "      <td>00:00</td>\n",
       "    </tr>\n",
       "    <tr>\n",
       "      <td>4</td>\n",
       "      <td>0.473272</td>\n",
       "      <td>0.398137</td>\n",
       "      <td>0.866667</td>\n",
       "      <td>00:00</td>\n",
       "    </tr>\n",
       "    <tr>\n",
       "      <td>5</td>\n",
       "      <td>0.473272</td>\n",
       "      <td>0.398137</td>\n",
       "      <td>0.866667</td>\n",
       "      <td>00:00</td>\n",
       "    </tr>\n",
       "    <tr>\n",
       "      <td>6</td>\n",
       "      <td>0.473272</td>\n",
       "      <td>0.398137</td>\n",
       "      <td>0.866667</td>\n",
       "      <td>00:00</td>\n",
       "    </tr>\n",
       "    <tr>\n",
       "      <td>7</td>\n",
       "      <td>0.473272</td>\n",
       "      <td>0.398137</td>\n",
       "      <td>0.866667</td>\n",
       "      <td>00:00</td>\n",
       "    </tr>\n",
       "    <tr>\n",
       "      <td>8</td>\n",
       "      <td>0.473272</td>\n",
       "      <td>0.398137</td>\n",
       "      <td>0.866667</td>\n",
       "      <td>00:00</td>\n",
       "    </tr>\n",
       "    <tr>\n",
       "      <td>9</td>\n",
       "      <td>0.473272</td>\n",
       "      <td>0.398137</td>\n",
       "      <td>0.866667</td>\n",
       "      <td>00:00</td>\n",
       "    </tr>\n",
       "  </tbody>\n",
       "</table>"
      ],
      "text/plain": [
       "<IPython.core.display.HTML object>"
      ]
     },
     "metadata": {},
     "output_type": "display_data"
    }
   ],
   "source": [
    "learner.fit(10, lr=1e-10)"
   ]
  },
  {
   "cell_type": "code",
   "execution_count": 68,
   "metadata": {},
   "outputs": [],
   "source": [
    "model.reset_parameters()"
   ]
  },
  {
   "cell_type": "code",
   "execution_count": 69,
   "metadata": {},
   "outputs": [],
   "source": [
    "import sklearn.linear_model"
   ]
  },
  {
   "cell_type": "code",
   "execution_count": 195,
   "metadata": {},
   "outputs": [
    {
     "data": {
      "text/plain": [
       "0.9666666666666667"
      ]
     },
     "execution_count": 195,
     "metadata": {},
     "output_type": "execute_result"
    }
   ],
   "source": [
    "#clf = sklearn.linear_model.SGDClassifier(\n",
    "#    loss='log', alpha=0.001, max_iter=100,\n",
    "#    learning_rate='invscaling', eta0=1e2,\n",
    "#    verbose=True\n",
    "#)\n",
    "clf = sklearn.linear_model.LogisticRegression(C=1.).fit(X[train_indices], y[train_indices])\n",
    "clf.score(X[valid_indices], y[valid_indices])"
   ]
  },
  {
   "cell_type": "code",
   "execution_count": 148,
   "metadata": {},
   "outputs": [
    {
     "data": {
      "text/plain": [
       "array([ 7.16029684,  1.47437816, -8.63467499])"
      ]
     },
     "execution_count": 148,
     "metadata": {},
     "output_type": "execute_result"
    }
   ],
   "source": [
    "clf.intercept_"
   ]
  },
  {
   "cell_type": "code",
   "execution_count": 149,
   "metadata": {},
   "outputs": [
    {
     "data": {
      "text/plain": [
       "array([[-2.5174083 ,  2.20947286],\n",
       "       [ 0.5795195 , -1.36721673],\n",
       "       [ 1.93788879, -0.84225613]])"
      ]
     },
     "execution_count": 149,
     "metadata": {},
     "output_type": "execute_result"
    }
   ],
   "source": [
    "clf.coef_"
   ]
  },
  {
   "cell_type": "code",
   "execution_count": 166,
   "metadata": {},
   "outputs": [
    {
     "data": {
      "text/plain": [
       "tensor([[-2.5174,  2.2095],\n",
       "        [ 0.5795, -1.3672],\n",
       "        [ 1.9379, -0.8423]])"
      ]
     },
     "execution_count": 166,
     "metadata": {},
     "output_type": "execute_result"
    }
   ],
   "source": [
    "model.weight.data.copy_(tensor(clf.coef_))"
   ]
  },
  {
   "cell_type": "code",
   "execution_count": 167,
   "metadata": {},
   "outputs": [
    {
     "data": {
      "text/plain": [
       "tensor([ 7.1603,  1.4744, -8.6347])"
      ]
     },
     "execution_count": 167,
     "metadata": {},
     "output_type": "execute_result"
    }
   ],
   "source": [
    "model.bias.data.copy_(tensor(clf.intercept_))"
   ]
  },
  {
   "cell_type": "code",
   "execution_count": 92,
   "metadata": {},
   "outputs": [
    {
     "data": {
      "text/plain": [
       "5401.0"
      ]
     },
     "execution_count": 92,
     "metadata": {},
     "output_type": "execute_result"
    }
   ],
   "source": [
    "clf.t_"
   ]
  },
  {
   "cell_type": "code",
   "execution_count": 60,
   "metadata": {},
   "outputs": [
    {
     "data": {
      "text/plain": [
       "45"
      ]
     },
     "execution_count": 60,
     "metadata": {},
     "output_type": "execute_result"
    }
   ],
   "source": [
    "clf.n_iter_"
   ]
  },
  {
   "cell_type": "code",
   "execution_count": 99,
   "metadata": {},
   "outputs": [
    {
     "data": {
      "text/plain": [
       "[<matplotlib.lines.Line2D at 0x7fa525052520>]"
      ]
     },
     "execution_count": 99,
     "metadata": {},
     "output_type": "execute_result"
    },
    {
     "data": {
      "image/png": "[encoded data removed]",
      "text/plain": [
       "<Figure size 432x288 with 1 Axes>"
      ]
     },
     "metadata": {
      "needs_background": "light"
     },
     "output_type": "display_data"
    }
   ],
   "source": [
    "alpha = 0.001\n",
    "typw = np.sqrt(1.0 / np.sqrt(alpha))\n",
    "# computing eta0, the initial learning rate\n",
    "initial_eta0 = typw / max(1.0, clf.loss_function_.dloss(-typw, 1.0))\n",
    "# initialize t such that eta at first sample equals eta0\n",
    "optimal_init = 1.0 / (initial_eta0 * alpha)\n",
    "\n",
    "t = np.arange(5400)\n",
    "eta = 1.0 / (alpha * (optimal_init + t - 1))\n",
    "plt.plot(t / len(train_indices), eta)"
   ]
  },
  {
   "cell_type": "code",
   "execution_count": 66,
   "metadata": {},
   "outputs": [
    {
     "data": {
      "text/plain": [
       "0.9704663586498072"
      ]
     },
     "execution_count": 66,
     "metadata": {},
     "output_type": "execute_result"
    }
   ],
   "source": [
    "sklearn.metrics.log_loss(y[valid_indices], clf.predict_proba(X[valid_indices]))"
   ]
  },
  {
   "cell_type": "code",
   "execution_count": 64,
   "metadata": {},
   "outputs": [
    {
     "data": {
      "text/plain": [
       "<sklearn.linear_model._sgd_fast.Log at 0x7fa5275c5ed0>"
      ]
     },
     "execution_count": 64,
     "metadata": {},
     "output_type": "execute_result"
    }
   ],
   "source": [
    "sklearn.metrics.log_loss"
   ]
  },
  {
   "cell_type": "markdown",
   "metadata": {},
   "source": [
    "## Analysis"
   ]
  }
 ],
 "metadata": {
  "kernelspec": {
   "display_name": "Python 3",
   "language": "python",
   "name": "python3"
  },
  "language_info": {
   "codemirror_mode": {
    "name": "ipython",
    "version": 3
   },
   "file_extension": ".py",
   "mimetype": "text/x-python",
   "name": "python",
   "nbconvert_exporter": "python",
   "pygments_lexer": "ipython3",
   "version": "3.8.5"
  }
 },
 "nbformat": 4,
 "nbformat_minor": 4
}
