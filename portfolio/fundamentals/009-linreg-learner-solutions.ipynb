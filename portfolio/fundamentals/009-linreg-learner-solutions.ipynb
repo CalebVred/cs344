{
 "cells": [
  {
   "cell_type": "markdown",
   "metadata": {},
   "source": [
    "# `009-linreg-learner`\n",
    "\n",
    "Task: Fit a linear regression by gradient descent."
   ]
  },
  {
   "cell_type": "code",
   "execution_count": 1,
   "metadata": {},
   "outputs": [],
   "source": [
    "from contextlib import contextmanager\n",
    "\n",
    "def REFERENCE(solution, placeholder=\"_____\"):\n",
    "    return solution\n",
    "@contextmanager\n",
    "def REFBLOCK():\n",
    "    yield"
   ]
  },
  {
   "cell_type": "markdown",
   "metadata": {},
   "source": [
    "## Setup"
   ]
  },
  {
   "cell_type": "code",
   "execution_count": 2,
   "metadata": {},
   "outputs": [],
   "source": [
    "from fastai.vision.all import *"
   ]
  },
  {
   "cell_type": "markdown",
   "metadata": {},
   "source": [
    "This function will make a `DataLoaders` object out of an arary dataset."
   ]
  },
  {
   "cell_type": "code",
   "execution_count": 3,
   "metadata": {},
   "outputs": [],
   "source": [
    "def make_dataloaders(x, y_true, splitter, batch_size):\n",
    "    data = L(zip(x, y_true))\n",
    "    train_indices, valid_indices = splitter(data)\n",
    "    return DataLoaders(\n",
    "        DataLoader(data[train_indices], batch_size=batch_size, shuffle=True),\n",
    "        DataLoader(data[valid_indices], batch_size=batch_size)\n",
    "    )   "
   ]
  },
  {
   "cell_type": "markdown",
   "metadata": {},
   "source": [
    "Here are utility functions to plot the first axis of a dataset and a model's predictions."
   ]
  },
  {
   "cell_type": "code",
   "execution_count": 4,
   "metadata": {},
   "outputs": [],
   "source": [
    "def plot_data(x, y): plt.scatter(x[:, 0], y[:, 0], s=1)\n",
    "def plot_model(x, model):\n",
    "    x = torch.sort(x)[0]\n",
    "    y_pred = model(x).detach()\n",
    "    plt.plot(x[:, 0], y_pred[:, 0], 'r')"
   ]
  },
  {
   "cell_type": "markdown",
   "metadata": {},
   "source": [
    "## Task"
   ]
  },
  {
   "cell_type": "markdown",
   "metadata": {},
   "source": [
    "Remember this? Suppose we have a dataset with just a single feature `x` and continuous outcome variable `y`."
   ]
  },
  {
   "cell_type": "code",
   "execution_count": 5,
   "metadata": {},
   "outputs": [
    {
     "data": {
      "image/png": "[encoded data removed]",
      "text/plain": [
       "<Figure size 432x288 with 1 Axes>"
      ]
     },
     "metadata": {
      "needs_background": "light"
     },
     "output_type": "display_data"
    }
   ],
   "source": [
    "torch.manual_seed(0)\n",
    "x = torch.rand(500, 1)\n",
    "noise = torch.rand_like(x) * .5\n",
    "y_true = 4 * x - 1 + noise\n",
    "\n",
    "plot_data(x, y_true)"
   ]
  },
  {
   "cell_type": "markdown",
   "metadata": {},
   "source": [
    "Let's fit a line to that!\n",
    "\n",
    "In notebook `006` we manually wrote out `y_pred = weights * x + bias`, and manually took a step that reduced the mean squared error `mse_loss = (y_pred - y_true).pow(2).mean()`. In this notebook, we'll use `nn.Linear` and fastai's `Learner` class.\n",
    "\n",
    "First we'll make a fastai-compatible `DataLoaders` from this dataset. You should know everything you need to understand how this works, but don't worry about it on the first time around."
   ]
  },
  {
   "cell_type": "code",
   "execution_count": 6,
   "metadata": {},
   "outputs": [],
   "source": [
    "splitter = RandomSplitter(valid_pct=0.2, seed=42)\n",
    "batch_size = 5\n",
    "dataloaders = make_dataloaders(x, y_true, splitter, batch_size=batch_size)"
   ]
  },
  {
   "cell_type": "markdown",
   "metadata": {},
   "source": [
    "## Solution"
   ]
  },
  {
   "cell_type": "markdown",
   "metadata": {},
   "source": [
    "Use the `one_batch` method to inspect one batch of the `train` dataloader. Be sure that you can explain the shapes of everything you see. (Look above to see the `batch_size` that this dataloader uses.)"
   ]
  },
  {
   "cell_type": "code",
   "execution_count": 7,
   "metadata": {},
   "outputs": [
    {
     "data": {
      "text/plain": [
       "tensor([[0.6883],\n",
       "        [0.9246],\n",
       "        [0.9196],\n",
       "        [0.0044],\n",
       "        [0.1872]])"
      ]
     },
     "execution_count": 7,
     "metadata": {},
     "output_type": "execute_result"
    }
   ],
   "source": [
    "batch = REFERENCE(dataloaders.train.one_batch())\n",
    "with REFBLOCK():\n",
    "    X_batch, y_batch = batch\n",
    "X_batch"
   ]
  },
  {
   "cell_type": "code",
   "execution_count": 8,
   "metadata": {},
   "outputs": [
    {
     "data": {
      "text/plain": [
       "tensor([[ 2.1975],\n",
       "        [ 2.9885],\n",
       "        [ 3.0979],\n",
       "        [-0.8405],\n",
       "        [ 0.2422]])"
      ]
     },
     "execution_count": 8,
     "metadata": {},
     "output_type": "execute_result"
    }
   ],
   "source": [
    "y_batch"
   ]
  },
  {
   "cell_type": "markdown",
   "metadata": {},
   "source": [
    "**Fill in the blanks to construct a `model`**:\n",
    "\n",
    "```\n",
    "model = nn.Linear(in_features=..., out_features=..., bias=...)\n",
    "```\n",
    "\n",
    "* For `in_features`, think about the shape of the input data.\n",
    "* For `out_features`, think about the shape of the output data."
   ]
  },
  {
   "cell_type": "code",
   "execution_count": 9,
   "metadata": {},
   "outputs": [],
   "source": [
    "model = nn.Linear(in_features=REFERENCE(1), out_features=REFERENCE(1), bias=REFERENCE(True))"
   ]
  },
  {
   "cell_type": "markdown",
   "metadata": {},
   "source": [
    "To check that we got it right, **call the `model` with the input data from the example batch**."
   ]
  },
  {
   "cell_type": "code",
   "execution_count": 10,
   "metadata": {},
   "outputs": [
    {
     "data": {
      "text/plain": [
       "tensor([[-0.1625],\n",
       "        [-0.2766],\n",
       "        [-0.2743],\n",
       "        [ 0.1679],\n",
       "        [ 0.0796]], grad_fn=<AddmmBackward>)"
      ]
     },
     "execution_count": 10,
     "metadata": {},
     "output_type": "execute_result"
    }
   ],
   "source": [
    "y_pred = REFERENCE(model(X_batch))\n",
    "y_pred"
   ]
  },
  {
   "cell_type": "markdown",
   "metadata": {},
   "source": [
    "Let's look at what the model currently predicts on all the data."
   ]
  },
  {
   "cell_type": "code",
   "execution_count": 11,
   "metadata": {},
   "outputs": [
    {
     "data": {
      "image/png": "[encoded data removed]",
      "text/plain": [
       "<Figure size 432x288 with 1 Axes>"
      ]
     },
     "metadata": {
      "needs_background": "light"
     },
     "output_type": "display_data"
    }
   ],
   "source": [
    "plot_data(x, y_true)\n",
    "plot_model(x, model)"
   ]
  },
  {
   "cell_type": "markdown",
   "metadata": {},
   "source": [
    "Pretty bad, huh? Let's evaluate the error on the batch we got:"
   ]
  },
  {
   "cell_type": "code",
   "execution_count": 12,
   "metadata": {},
   "outputs": [
    {
     "data": {
      "text/plain": [
       "tensor(5.7292, grad_fn=<MeanBackward0>)"
      ]
     },
     "execution_count": 12,
     "metadata": {},
     "output_type": "execute_result"
    }
   ],
   "source": [
    "mse_loss = (y_pred - y_batch).pow(2).mean()\n",
    "mse_loss"
   ]
  },
  {
   "cell_type": "markdown",
   "metadata": {},
   "source": [
    "**Create a `loss_func` by instantiating an `nn.MSELoss`.**"
   ]
  },
  {
   "cell_type": "code",
   "execution_count": 13,
   "metadata": {},
   "outputs": [],
   "source": [
    "loss_func = REFERENCE(nn.MSELoss())"
   ]
  },
  {
   "cell_type": "markdown",
   "metadata": {},
   "source": [
    "**Evaluate the loss on the  `loss_func` on the example batch.**  Check that the output matches exactly.\n",
    "\n",
    "Note: PyTorch loss functions take inputs, then targets. `sklearn` loss functions (metrics) use the reverse order."
   ]
  },
  {
   "cell_type": "code",
   "execution_count": 14,
   "metadata": {},
   "outputs": [
    {
     "data": {
      "text/plain": [
       "tensor(5.7292, grad_fn=<MseLossBackward>)"
      ]
     },
     "execution_count": 14,
     "metadata": {},
     "output_type": "execute_result"
    }
   ],
   "source": [
    "REFERENCE(loss_func(y_pred, y_batch))"
   ]
  },
  {
   "cell_type": "markdown",
   "metadata": {},
   "source": [
    "**Construct a `Learner`.**\n",
    "\n",
    "* Use the `dataloaders`, `model`, and `loss_func` constructed above.\n",
    "* Use `SGD` as the `opt_func`.\n",
    "* The default `metric` is fine so you can omit it. (If you want to, you may add Mean Absolute Error (`mae`).)"
   ]
  },
  {
   "cell_type": "code",
   "execution_count": 15,
   "metadata": {},
   "outputs": [],
   "source": [
    "with REFBLOCK():\n",
    "    learner = Learner(\n",
    "        dls=dataloaders,\n",
    "        model=model,\n",
    "        loss_func=loss_func,\n",
    "        opt_func=SGD,\n",
    "        metrics=[mae]\n",
    "    )"
   ]
  },
  {
   "cell_type": "markdown",
   "metadata": {},
   "source": [
    "**Fit the Learner for 10 epochs at the default learning rate.**\n",
    "\n",
    "Plot the loss when it's finished."
   ]
  },
  {
   "cell_type": "code",
   "execution_count": 16,
   "metadata": {},
   "outputs": [
    {
     "data": {
      "text/html": [
       "<table border=\"1\" class=\"dataframe\">\n",
       "  <thead>\n",
       "    <tr style=\"text-align: left;\">\n",
       "      <th>epoch</th>\n",
       "      <th>train_loss</th>\n",
       "      <th>valid_loss</th>\n",
       "      <th>mae</th>\n",
       "      <th>time</th>\n",
       "    </tr>\n",
       "  </thead>\n",
       "  <tbody>\n",
       "    <tr>\n",
       "      <td>0</td>\n",
       "      <td>0.468406</td>\n",
       "      <td>0.172801</td>\n",
       "      <td>0.347838</td>\n",
       "      <td>00:00</td>\n",
       "    </tr>\n",
       "    <tr>\n",
       "      <td>1</td>\n",
       "      <td>0.131334</td>\n",
       "      <td>0.044647</td>\n",
       "      <td>0.170674</td>\n",
       "      <td>00:00</td>\n",
       "    </tr>\n",
       "    <tr>\n",
       "      <td>2</td>\n",
       "      <td>0.046758</td>\n",
       "      <td>0.026742</td>\n",
       "      <td>0.141096</td>\n",
       "      <td>00:00</td>\n",
       "    </tr>\n",
       "    <tr>\n",
       "      <td>3</td>\n",
       "      <td>0.026768</td>\n",
       "      <td>0.025478</td>\n",
       "      <td>0.136024</td>\n",
       "      <td>00:00</td>\n",
       "    </tr>\n",
       "    <tr>\n",
       "      <td>4</td>\n",
       "      <td>0.021967</td>\n",
       "      <td>0.024436</td>\n",
       "      <td>0.135837</td>\n",
       "      <td>00:00</td>\n",
       "    </tr>\n",
       "    <tr>\n",
       "      <td>5</td>\n",
       "      <td>0.021565</td>\n",
       "      <td>0.025052</td>\n",
       "      <td>0.137355</td>\n",
       "      <td>00:00</td>\n",
       "    </tr>\n",
       "    <tr>\n",
       "      <td>6</td>\n",
       "      <td>0.021949</td>\n",
       "      <td>0.024724</td>\n",
       "      <td>0.136628</td>\n",
       "      <td>00:00</td>\n",
       "    </tr>\n",
       "    <tr>\n",
       "      <td>7</td>\n",
       "      <td>0.020860</td>\n",
       "      <td>0.024566</td>\n",
       "      <td>0.136233</td>\n",
       "      <td>00:00</td>\n",
       "    </tr>\n",
       "    <tr>\n",
       "      <td>8</td>\n",
       "      <td>0.021388</td>\n",
       "      <td>0.024329</td>\n",
       "      <td>0.135494</td>\n",
       "      <td>00:00</td>\n",
       "    </tr>\n",
       "    <tr>\n",
       "      <td>9</td>\n",
       "      <td>0.022109</td>\n",
       "      <td>0.025215</td>\n",
       "      <td>0.137777</td>\n",
       "      <td>00:00</td>\n",
       "    </tr>\n",
       "  </tbody>\n",
       "</table>"
      ],
      "text/plain": [
       "<IPython.core.display.HTML object>"
      ]
     },
     "metadata": {},
     "output_type": "display_data"
    },
    {
     "data": {
      "image/png": "[encoded data removed]",
      "text/plain": [
       "<Figure size 432x288 with 1 Axes>"
      ]
     },
     "metadata": {
      "needs_background": "light"
     },
     "output_type": "display_data"
    }
   ],
   "source": [
    "with REFBLOCK():\n",
    "    learner.fit(n_epoch=10, lr=1e-1)\n",
    "learner.recorder.plot_loss()"
   ]
  },
  {
   "cell_type": "markdown",
   "metadata": {},
   "source": [
    "**Now let's look at what the model predicts.**"
   ]
  },
  {
   "cell_type": "code",
   "execution_count": 17,
   "metadata": {},
   "outputs": [
    {
     "data": {
      "image/png": "[encoded data removed]",
      "text/plain": [
       "<Figure size 432x288 with 1 Axes>"
      ]
     },
     "metadata": {
      "needs_background": "light"
     },
     "output_type": "display_data"
    }
   ],
   "source": [
    "plot_data(x, y_true)\n",
    "plot_model(x, model)"
   ]
  },
  {
   "cell_type": "markdown",
   "metadata": {},
   "source": [
    "**Not there yet! Try different learning rates in the `learner.fit` to see if you can get it to train to convergence in 10 epochs.**\n",
    "\n",
    "Remember to Restart and Run All to check that you're starting with a clean model."
   ]
  },
  {
   "cell_type": "markdown",
   "metadata": {},
   "source": [
    "## Analysis"
   ]
  },
  {
   "cell_type": "markdown",
   "metadata": {},
   "source": [
    "Inspect the `weight` and `bias` attributes of `model`. How close are they to the ideal values? Explain."
   ]
  },
  {
   "cell_type": "code",
   "execution_count": 18,
   "metadata": {},
   "outputs": [
    {
     "name": "stdout",
     "output_type": "stream",
     "text": [
      "Parameter containing:\n",
      "tensor([[3.9668]], requires_grad=True)\n",
      "Parameter containing:\n",
      "tensor([-0.7421], requires_grad=True)\n"
     ]
    }
   ],
   "source": [
    "with REFBLOCK():\n",
    "    print(model.weight)\n",
    "    print(model.bias)"
   ]
  },
  {
   "cell_type": "code",
   "execution_count": null,
   "metadata": {},
   "outputs": [],
   "source": []
  },
  {
   "cell_type": "markdown",
   "metadata": {},
   "source": [
    "## Extension (optional)\n",
    "\n",
    "Suppose we rerun this notebook hundreds of times with different random seeds. What is the expected value of the validation loss? \n",
    "\n",
    "Answer this by looking at the way that `y_true` was constructed.\n",
    "\n",
    "(Assume that the model gets enough training data that `weights` and `bias` get exactly the right values. It turns out that this assumption isn't actually needed, but it will make it easier to think about where the error comes from.)"
   ]
  }
 ],
 "metadata": {
  "kernelspec": {
   "display_name": "Python 3",
   "language": "python",
   "name": "python3"
  },
  "language_info": {
   "codemirror_mode": {
    "name": "ipython",
    "version": 3
   },
   "file_extension": ".py",
   "mimetype": "text/x-python",
   "name": "python",
   "nbconvert_exporter": "python",
   "pygments_lexer": "ipython3",
   "version": "3.8.5"
  }
 },
 "nbformat": 4,
 "nbformat_minor": 4
}
