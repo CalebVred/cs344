{
 "cells": [
  {
   "cell_type": "markdown",
   "metadata": {},
   "source": [
    "# `010-nonlinearity-sequential`\n",
    "\n",
    "Task: Use `nn.Sequential` to add layers to a model; use a nonlinearity between layers to increase the model's capacity."
   ]
  },
  {
   "cell_type": "markdown",
   "metadata": {},
   "source": [
    "## Setup"
   ]
  },
  {
   "cell_type": "code",
   "execution_count": 63,
   "metadata": {},
   "outputs": [],
   "source": [
    "from fastai.vision.all import *"
   ]
  },
  {
   "cell_type": "markdown",
   "metadata": {},
   "source": [
    "This function will make a `DataLoaders` object out of an arary dataset."
   ]
  },
  {
   "cell_type": "code",
   "execution_count": 64,
   "metadata": {},
   "outputs": [],
   "source": [
    "def make_dataloaders(x, y_true, splitter, batch_size):\n",
    "    data = L(zip(x, y_true))\n",
    "    train_indices, valid_indices = splitter(data)\n",
    "    return DataLoaders(\n",
    "        DataLoader(data[train_indices], batch_size=batch_size, shuffle=True),\n",
    "        DataLoader(data[valid_indices], batch_size=batch_size)\n",
    "    )   "
   ]
  },
  {
   "cell_type": "markdown",
   "metadata": {},
   "source": [
    "Here are utility functions to plot the first axis of a dataset and a model's predictions."
   ]
  },
  {
   "cell_type": "code",
   "execution_count": 65,
   "metadata": {},
   "outputs": [],
   "source": [
    "def plot_data(x, y): plt.scatter(x[:, 0], y[:, 0], s=.5, color='#bbbbbb')\n",
    "def plot_model(x, model):\n",
    "    x = x.sort(dim=0).values\n",
    "    y_pred = model(x).detach()\n",
    "    plt.plot(x[:, 0], y_pred[:, 0], 'r')"
   ]
  },
  {
   "cell_type": "markdown",
   "metadata": {},
   "source": [
    "The following `Callback` can be added to your `Learner` to plot the data and model after each epoch:\n",
    "\n",
    "```\n",
    "learner = Learner(\n",
    "    ...\n",
    "    cbs=[ShowPredictions(), ShowGraphCallback()],\n",
    "    ...\n",
    "```"
   ]
  },
  {
   "cell_type": "code",
   "execution_count": 66,
   "metadata": {},
   "outputs": [],
   "source": [
    "# Inspired by https://gist.github.com/oguiza/c7559da6de0e036f01d7dee15e2f15e4\n",
    "class ShowPredictions(Callback):\n",
    "    def __init__(self): self.graph_fig = None # keep a reference to a figure object to update\n",
    "    def before_fit(self):\n",
    "        self.run = not hasattr(self.learn, 'lr_finder') and not hasattr(self, 'gather_preds')\n",
    "    def after_fit(self): plt.close(self.graph_fig)\n",
    "    def after_epoch(self):\n",
    "        if self.graph_fig is None:\n",
    "            self.graph_fig, self.graph_ax = plt.subplots(1)\n",
    "            self.graph_out = display(self.graph_ax.figure, display_id=True)\n",
    "        plt.sca(self.graph_ax)\n",
    "        self.graph_ax.clear()\n",
    "        # Plot code. Replace this if needed:\n",
    "        plot_data(x, y_true)\n",
    "        plot_model(x, model)\n",
    "        # Update the graph.\n",
    "        self.graph_out.update(self.graph_ax.figure)\n"
   ]
  },
  {
   "cell_type": "markdown",
   "metadata": {},
   "source": [
    "## Task"
   ]
  },
  {
   "cell_type": "markdown",
   "metadata": {},
   "source": [
    "Most applications of neural net models work in very high dimensions (e.g., each individual pixel in an image!) so it's hard to visualize what the model is actually learning. Here, we'll revisit the simple linear model that we looked at in Fundamentals `006` and `009`, which learned to predict a single continuous outcome variable `y` from a single continuous input feature `x`. So we can visualize the network's behavior just like any other univariate function: by plotting y vs x.\n",
    "\n",
    "But this time the data isn't just a straight line; it's a fancy function of `x`."
   ]
  },
  {
   "cell_type": "code",
   "execution_count": 67,
   "metadata": {},
   "outputs": [
    {
     "data": {
      "image/png": "[encoded data removed]",
      "text/plain": [
       "<Figure size 432x288 with 1 Axes>"
      ]
     },
     "metadata": {
      "needs_background": "light"
     },
     "output_type": "display_data"
    }
   ],
   "source": [
    "num_points = 5000\n",
    "\n",
    "set_seed(40)\n",
    "x = torch.rand(num_points, 1)\n",
    "noise = torch.rand_like(x) * 1.\n",
    "y_true = .5 * (x*6).sin() + x + (x - .75) * noise\n",
    "# standardize y, just to make it well behaved.\n",
    "y_true -= y_true.mean()\n",
    "y_true /= y_true.std()\n",
    "\n",
    "plot_data(x, y_true)"
   ]
  },
  {
   "cell_type": "code",
   "execution_count": 68,
   "metadata": {},
   "outputs": [
    {
     "data": {
      "text/plain": [
       "tensor(1.0000)"
      ]
     },
     "execution_count": 68,
     "metadata": {},
     "output_type": "execute_result"
    }
   ],
   "source": [
    "y_true.var()"
   ]
  },
  {
   "cell_type": "markdown",
   "metadata": {},
   "source": [
    "In `006` and `009`, we dealt with models that could only ever make straight lines. They couldn't even make a curve like `3 * x**2 + 2*x + 1`, yet alone that one!\n",
    "\n",
    "But you may remember from your math or stats studies that a curve like that is actually linear if you transform your data, e.g., using `z = [x, x**2]` as the input; then the model is `3 * z[1] + 2 * z[0] + 1`, which is linear in `z`.\n",
    "\n",
    "So if we transform our data before giving it to the linear model, we can actually get interesting functions from a linear model. But how do we transform the data?\n",
    "\n",
    "The classic approach is to specify what transformation to make. e.g., in *polynomial regression* we put in a bunch of powers of `x` (`x**2`, `x**3`, ..., `x**10`, ...), but that gets numerically unstable with high powers. There are other \"basis functions\" that are better behaved, like *splines*.\n",
    "\n",
    "But neural nets take a different approach: they *learn* the transformation based on what is needed to accomplish its objective."
   ]
  },
  {
   "cell_type": "markdown",
   "metadata": {},
   "source": [
    "**Instructions**:\n",
    "\n",
    "1. **Fit a line to this data** (minimizing the MSE). Evaluate the MSE. By eye, how well does it fit?\n",
    "2. **Add a layer**: Use `nn.Sequential` to put two `nn.Linear` layers back to back. Use 500 dimensions as the hidden dimension (the `out_features` of the first and the `in_features` of the second). Evaluate the MSE. How well does it fit?\n",
    "3. **Add a nonlinearity**: Add a `nn.ReLU` between the two linear layers. Evaluate the MSE. How well does it fit?\n",
    "\n",
    "Details and tips are given inline below."
   ]
  },
  {
   "cell_type": "markdown",
   "metadata": {},
   "source": [
    "## Solution"
   ]
  },
  {
   "cell_type": "markdown",
   "metadata": {},
   "source": [
    "**Make a `DataLoaders` for this data**. This step has been done for you. \n",
    "\n",
    "We increased the dataset size and the batch size to make the learning better-behaved. Once you get this to work, you might see if you can deal with a smaller batch size or less data overall."
   ]
  },
  {
   "cell_type": "code",
   "execution_count": 69,
   "metadata": {},
   "outputs": [],
   "source": [
    "splitter = RandomSplitter(valid_pct=0.2, seed=42)\n",
    "batch_size = 100\n",
    "dataloaders = make_dataloaders(x, y_true, splitter, batch_size=batch_size)"
   ]
  },
  {
   "cell_type": "markdown",
   "metadata": {},
   "source": [
    "### Step 1: Fit a Line\n",
    "\n",
    "**Fit a line to this data (minimizing the MSE).**\n",
    "\n",
    "* Use a `nn.Linear` module as your `model`\n",
    "* Use `Learner` with `opt_func=SGD`, as you did in `009`.\n",
    "* Pass `cbs=[ShowPredictions(), ShowGraphCallback()]` to the `Learner` to show the training progress.\n",
    "\n",
    "Tune the learning rate and number of epochs until you reliably get an MSE below 0.76."
   ]
  },
  {
   "cell_type": "code",
   "execution_count": 103,
   "metadata": {},
   "outputs": [
    {
     "data": {
      "text/plain": [
       "0.7543805"
      ]
     },
     "execution_count": 103,
     "metadata": {},
     "output_type": "execute_result"
    }
   ],
   "source": [
    "from sklearn.linear_model import LinearRegression\n",
    "\n",
    "((LinearRegression().fit(x, y_true).predict(to_np(x)) - to_np(y_true))**2).mean()"
   ]
  },
  {
   "cell_type": "code",
   "execution_count": 79,
   "metadata": {},
   "outputs": [
    {
     "data": {
      "text/html": [
       "<table border=\"1\" class=\"dataframe\">\n",
       "  <thead>\n",
       "    <tr style=\"text-align: left;\">\n",
       "      <th>epoch</th>\n",
       "      <th>train_loss</th>\n",
       "      <th>valid_loss</th>\n",
       "      <th>mae</th>\n",
       "      <th>time</th>\n",
       "    </tr>\n",
       "  </thead>\n",
       "  <tbody>\n",
       "    <tr>\n",
       "      <td>0</td>\n",
       "      <td>0.874187</td>\n",
       "      <td>0.832936</td>\n",
       "      <td>0.714212</td>\n",
       "      <td>00:00</td>\n",
       "    </tr>\n",
       "    <tr>\n",
       "      <td>1</td>\n",
       "      <td>0.813856</td>\n",
       "      <td>0.791819</td>\n",
       "      <td>0.713678</td>\n",
       "      <td>00:00</td>\n",
       "    </tr>\n",
       "    <tr>\n",
       "      <td>2</td>\n",
       "      <td>0.781698</td>\n",
       "      <td>0.772315</td>\n",
       "      <td>0.713267</td>\n",
       "      <td>00:00</td>\n",
       "    </tr>\n",
       "    <tr>\n",
       "      <td>3</td>\n",
       "      <td>0.764710</td>\n",
       "      <td>0.766033</td>\n",
       "      <td>0.715776</td>\n",
       "      <td>00:00</td>\n",
       "    </tr>\n",
       "    <tr>\n",
       "      <td>4</td>\n",
       "      <td>0.758373</td>\n",
       "      <td>0.762957</td>\n",
       "      <td>0.717205</td>\n",
       "      <td>00:00</td>\n",
       "    </tr>\n",
       "    <tr>\n",
       "      <td>5</td>\n",
       "      <td>0.758529</td>\n",
       "      <td>0.762139</td>\n",
       "      <td>0.718560</td>\n",
       "      <td>00:00</td>\n",
       "    </tr>\n",
       "    <tr>\n",
       "      <td>6</td>\n",
       "      <td>0.755756</td>\n",
       "      <td>0.762157</td>\n",
       "      <td>0.719628</td>\n",
       "      <td>00:00</td>\n",
       "    </tr>\n",
       "    <tr>\n",
       "      <td>7</td>\n",
       "      <td>0.749939</td>\n",
       "      <td>0.762317</td>\n",
       "      <td>0.720128</td>\n",
       "      <td>00:00</td>\n",
       "    </tr>\n",
       "    <tr>\n",
       "      <td>8</td>\n",
       "      <td>0.752072</td>\n",
       "      <td>0.761064</td>\n",
       "      <td>0.719953</td>\n",
       "      <td>00:00</td>\n",
       "    </tr>\n",
       "    <tr>\n",
       "      <td>9</td>\n",
       "      <td>0.754481</td>\n",
       "      <td>0.760400</td>\n",
       "      <td>0.720001</td>\n",
       "      <td>00:00</td>\n",
       "    </tr>\n",
       "  </tbody>\n",
       "</table>"
      ],
      "text/plain": [
       "<IPython.core.display.HTML object>"
      ]
     },
     "metadata": {},
     "output_type": "display_data"
    },
    {
     "data": {
      "image/png": "[encoded data removed]",
      "text/plain": [
       "<Figure size 432x288 with 1 Axes>"
      ]
     },
     "metadata": {},
     "output_type": "display_data"
    },
    {
     "data": {
      "image/png": "[encoded data removed]",
      "text/plain": [
       "<Figure size 432x288 with 1 Axes>"
      ]
     },
     "metadata": {},
     "output_type": "display_data"
    }
   ],
   "source": [
    "# # your code here <<EOF\n",
    "model = nn.Linear(in_features=1, out_features=1, bias=True)\n",
    "loss_func = nn.MSELoss()\n",
    "\n",
    "learner = Learner(\n",
    "    dls=dataloaders,\n",
    "    model=model,\n",
    "    loss_func=loss_func,\n",
    "    opt_func=SGD,\n",
    "    metrics=[mae],\n",
    "    cbs=[ShowPredictions(), ShowGraphCallback()],\n",
    ")\n",
    "\n",
    "learner.fit(n_epoch=10, lr=1e-1)\n",
    "# EOF"
   ]
  },
  {
   "cell_type": "markdown",
   "metadata": {},
   "source": [
    "Evaluate the MSE. By eye, how well does it fit?"
   ]
  },
  {
   "cell_type": "markdown",
   "metadata": {},
   "source": [
    "*Your narrative response here*"
   ]
  },
  {
   "cell_type": "markdown",
   "metadata": {},
   "source": [
    "### Step 2: Add a Layer\n",
    "\n",
    "**Use `nn.Sequential` to put two `nn.Linear` layers back to back.**\n",
    "\n",
    "Use 500 dimensions as the hidden dimension (the `out_features` of the first and the `in_features` of the second).\n",
    "\n",
    "You may notice that the training is much less stable, and is rather sensitive to initializations (run the same thing multiple times and see that it will sometimes converge much better than other times). To improve training, try the following:\n",
    "\n",
    "* Instead of `learner.fit`, use `learner.fit_one_cycle`. This starts the learning rate low, gradually ramps it up, then ramps it back down. It also enables *momentum*, which tends to make gradient descent both faster and more stable. **Can `fit_one_cycle` handle a larger learning rate (`lr_max=XXX`) than `fit` (`lr=XXX`)?**\n",
    "* Instead of `opt_func=SGD`, omit the `opt_func` parameter so it uses the default \"Adam\" optimizer. Adam adapts the effective learning rate for every parameter based on how big its gradients have been recently. As Sebastian Ruder [puts it](https://ruder.io/optimizing-gradient-descent/index.html#adam): \"Whereas momentum can be seen as a ball running down a slope, Adam behaves like a heavy ball with friction, which thus prefers flat minima in the error surface.\" **Does changing to Adam have much effect here?**"
   ]
  },
  {
   "cell_type": "code",
   "execution_count": 102,
   "metadata": {},
   "outputs": [
    {
     "data": {
      "text/html": [
       "<table border=\"1\" class=\"dataframe\">\n",
       "  <thead>\n",
       "    <tr style=\"text-align: left;\">\n",
       "      <th>epoch</th>\n",
       "      <th>train_loss</th>\n",
       "      <th>valid_loss</th>\n",
       "      <th>mae</th>\n",
       "      <th>time</th>\n",
       "    </tr>\n",
       "  </thead>\n",
       "  <tbody>\n",
       "    <tr>\n",
       "      <td>0</td>\n",
       "      <td>0.884048</td>\n",
       "      <td>0.857680</td>\n",
       "      <td>0.772873</td>\n",
       "      <td>00:00</td>\n",
       "    </tr>\n",
       "    <tr>\n",
       "      <td>1</td>\n",
       "      <td>0.841320</td>\n",
       "      <td>0.902878</td>\n",
       "      <td>0.778506</td>\n",
       "      <td>00:00</td>\n",
       "    </tr>\n",
       "    <tr>\n",
       "      <td>2</td>\n",
       "      <td>0.928253</td>\n",
       "      <td>0.894079</td>\n",
       "      <td>0.776019</td>\n",
       "      <td>00:00</td>\n",
       "    </tr>\n",
       "    <tr>\n",
       "      <td>3</td>\n",
       "      <td>0.845945</td>\n",
       "      <td>0.794409</td>\n",
       "      <td>0.748225</td>\n",
       "      <td>00:00</td>\n",
       "    </tr>\n",
       "    <tr>\n",
       "      <td>4</td>\n",
       "      <td>0.817708</td>\n",
       "      <td>0.762518</td>\n",
       "      <td>0.720555</td>\n",
       "      <td>00:00</td>\n",
       "    </tr>\n",
       "    <tr>\n",
       "      <td>5</td>\n",
       "      <td>0.801230</td>\n",
       "      <td>0.782713</td>\n",
       "      <td>0.748406</td>\n",
       "      <td>00:00</td>\n",
       "    </tr>\n",
       "    <tr>\n",
       "      <td>6</td>\n",
       "      <td>0.803783</td>\n",
       "      <td>0.881031</td>\n",
       "      <td>0.748442</td>\n",
       "      <td>00:00</td>\n",
       "    </tr>\n",
       "    <tr>\n",
       "      <td>7</td>\n",
       "      <td>0.808957</td>\n",
       "      <td>0.764056</td>\n",
       "      <td>0.725683</td>\n",
       "      <td>00:00</td>\n",
       "    </tr>\n",
       "    <tr>\n",
       "      <td>8</td>\n",
       "      <td>0.800893</td>\n",
       "      <td>0.760445</td>\n",
       "      <td>0.726515</td>\n",
       "      <td>00:00</td>\n",
       "    </tr>\n",
       "    <tr>\n",
       "      <td>9</td>\n",
       "      <td>0.774549</td>\n",
       "      <td>0.765282</td>\n",
       "      <td>0.727754</td>\n",
       "      <td>00:00</td>\n",
       "    </tr>\n",
       "    <tr>\n",
       "      <td>10</td>\n",
       "      <td>0.775235</td>\n",
       "      <td>0.777422</td>\n",
       "      <td>0.716355</td>\n",
       "      <td>00:00</td>\n",
       "    </tr>\n",
       "    <tr>\n",
       "      <td>11</td>\n",
       "      <td>0.773955</td>\n",
       "      <td>0.832897</td>\n",
       "      <td>0.752619</td>\n",
       "      <td>00:00</td>\n",
       "    </tr>\n",
       "    <tr>\n",
       "      <td>12</td>\n",
       "      <td>0.779156</td>\n",
       "      <td>0.789582</td>\n",
       "      <td>0.733881</td>\n",
       "      <td>00:00</td>\n",
       "    </tr>\n",
       "    <tr>\n",
       "      <td>13</td>\n",
       "      <td>0.770624</td>\n",
       "      <td>0.761131</td>\n",
       "      <td>0.726797</td>\n",
       "      <td>00:00</td>\n",
       "    </tr>\n",
       "    <tr>\n",
       "      <td>14</td>\n",
       "      <td>0.768255</td>\n",
       "      <td>0.763951</td>\n",
       "      <td>0.719364</td>\n",
       "      <td>00:00</td>\n",
       "    </tr>\n",
       "    <tr>\n",
       "      <td>15</td>\n",
       "      <td>0.758800</td>\n",
       "      <td>0.760105</td>\n",
       "      <td>0.720658</td>\n",
       "      <td>00:00</td>\n",
       "    </tr>\n",
       "    <tr>\n",
       "      <td>16</td>\n",
       "      <td>0.757167</td>\n",
       "      <td>0.762582</td>\n",
       "      <td>0.719276</td>\n",
       "      <td>00:00</td>\n",
       "    </tr>\n",
       "    <tr>\n",
       "      <td>17</td>\n",
       "      <td>0.756095</td>\n",
       "      <td>0.765325</td>\n",
       "      <td>0.719460</td>\n",
       "      <td>00:00</td>\n",
       "    </tr>\n",
       "    <tr>\n",
       "      <td>18</td>\n",
       "      <td>0.755856</td>\n",
       "      <td>0.760378</td>\n",
       "      <td>0.721015</td>\n",
       "      <td>00:00</td>\n",
       "    </tr>\n",
       "    <tr>\n",
       "      <td>19</td>\n",
       "      <td>0.751481</td>\n",
       "      <td>0.760435</td>\n",
       "      <td>0.721140</td>\n",
       "      <td>00:00</td>\n",
       "    </tr>\n",
       "  </tbody>\n",
       "</table>"
      ],
      "text/plain": [
       "<IPython.core.display.HTML object>"
      ]
     },
     "metadata": {},
     "output_type": "display_data"
    },
    {
     "data": {
      "image/png": "[encoded data removed]",
      "text/plain": [
       "<Figure size 432x288 with 1 Axes>"
      ]
     },
     "metadata": {},
     "output_type": "display_data"
    },
    {
     "data": {
      "image/png": "[encoded data removed]",
      "text/plain": [
       "<Figure size 432x288 with 1 Axes>"
      ]
     },
     "metadata": {},
     "output_type": "display_data"
    }
   ],
   "source": [
    "model = nn.Sequential(\n",
    "    # ...\n",
    "    nn.Linear(in_features=1, out_features=500, bias=True),\n",
    "    # ...\n",
    "    nn.Linear(in_features=500, out_features=1, bias=True),\n",
    ")\n",
    "# ... <<EOF\n",
    "loss_func = nn.MSELoss()\n",
    "\n",
    "learner = Learner(\n",
    "    dls=dataloaders,\n",
    "    model=model,\n",
    "    loss_func=loss_func,\n",
    "    #opt_func=SGD,\n",
    "    metrics=[mae],\n",
    "    cbs=[ShowPredictions(), ShowGraphCallback()],\n",
    ")\n",
    "\n",
    "learner.fit_one_cycle(n_epoch=20, lr_max=1e-1)\n",
    "# EOF"
   ]
  },
  {
   "cell_type": "markdown",
   "metadata": {},
   "source": [
    "Evaluate the MSE. By eye, how well does it fit?"
   ]
  },
  {
   "cell_type": "markdown",
   "metadata": {},
   "source": [
    "*Your narrative response here*"
   ]
  },
  {
   "cell_type": "markdown",
   "metadata": {},
   "source": [
    "### Step 3: **Add a nonlinearity**\n",
    "\n",
    "Add a `nn.ReLU` between the two linear layers.\n",
    "\n",
    "* Definitely use `fit_one_cycle` here!\n",
    "* You will probably need more epochs to fit this model.\n",
    "* Try several different `set_seed`s here to ensure that your results aren't a fluke."
   ]
  },
  {
   "cell_type": "code",
   "execution_count": 107,
   "metadata": {},
   "outputs": [
    {
     "data": {
      "text/html": [
       "<table border=\"1\" class=\"dataframe\">\n",
       "  <thead>\n",
       "    <tr style=\"text-align: left;\">\n",
       "      <th>epoch</th>\n",
       "      <th>train_loss</th>\n",
       "      <th>valid_loss</th>\n",
       "      <th>mae</th>\n",
       "      <th>time</th>\n",
       "    </tr>\n",
       "  </thead>\n",
       "  <tbody>\n",
       "    <tr>\n",
       "      <td>0</td>\n",
       "      <td>0.729469</td>\n",
       "      <td>0.595133</td>\n",
       "      <td>0.609086</td>\n",
       "      <td>00:00</td>\n",
       "    </tr>\n",
       "    <tr>\n",
       "      <td>1</td>\n",
       "      <td>0.495646</td>\n",
       "      <td>0.239505</td>\n",
       "      <td>0.403574</td>\n",
       "      <td>00:00</td>\n",
       "    </tr>\n",
       "    <tr>\n",
       "      <td>2</td>\n",
       "      <td>0.324053</td>\n",
       "      <td>0.195777</td>\n",
       "      <td>0.338140</td>\n",
       "      <td>00:00</td>\n",
       "    </tr>\n",
       "    <tr>\n",
       "      <td>3</td>\n",
       "      <td>0.256721</td>\n",
       "      <td>0.321812</td>\n",
       "      <td>0.411051</td>\n",
       "      <td>00:00</td>\n",
       "    </tr>\n",
       "    <tr>\n",
       "      <td>4</td>\n",
       "      <td>0.245036</td>\n",
       "      <td>0.215227</td>\n",
       "      <td>0.349731</td>\n",
       "      <td>00:00</td>\n",
       "    </tr>\n",
       "    <tr>\n",
       "      <td>5</td>\n",
       "      <td>0.223740</td>\n",
       "      <td>0.185434</td>\n",
       "      <td>0.305581</td>\n",
       "      <td>00:00</td>\n",
       "    </tr>\n",
       "    <tr>\n",
       "      <td>6</td>\n",
       "      <td>0.211715</td>\n",
       "      <td>0.181082</td>\n",
       "      <td>0.304538</td>\n",
       "      <td>00:00</td>\n",
       "    </tr>\n",
       "    <tr>\n",
       "      <td>7</td>\n",
       "      <td>0.212846</td>\n",
       "      <td>0.391572</td>\n",
       "      <td>0.527217</td>\n",
       "      <td>00:00</td>\n",
       "    </tr>\n",
       "    <tr>\n",
       "      <td>8</td>\n",
       "      <td>0.201319</td>\n",
       "      <td>0.289575</td>\n",
       "      <td>0.377793</td>\n",
       "      <td>00:00</td>\n",
       "    </tr>\n",
       "    <tr>\n",
       "      <td>9</td>\n",
       "      <td>0.200701</td>\n",
       "      <td>0.174712</td>\n",
       "      <td>0.299026</td>\n",
       "      <td>00:00</td>\n",
       "    </tr>\n",
       "    <tr>\n",
       "      <td>10</td>\n",
       "      <td>0.189469</td>\n",
       "      <td>0.176450</td>\n",
       "      <td>0.300790</td>\n",
       "      <td>00:00</td>\n",
       "    </tr>\n",
       "    <tr>\n",
       "      <td>11</td>\n",
       "      <td>0.188528</td>\n",
       "      <td>0.200891</td>\n",
       "      <td>0.340812</td>\n",
       "      <td>00:00</td>\n",
       "    </tr>\n",
       "    <tr>\n",
       "      <td>12</td>\n",
       "      <td>0.194334</td>\n",
       "      <td>0.182977</td>\n",
       "      <td>0.319676</td>\n",
       "      <td>00:00</td>\n",
       "    </tr>\n",
       "    <tr>\n",
       "      <td>13</td>\n",
       "      <td>0.188266</td>\n",
       "      <td>0.190461</td>\n",
       "      <td>0.321526</td>\n",
       "      <td>00:00</td>\n",
       "    </tr>\n",
       "    <tr>\n",
       "      <td>14</td>\n",
       "      <td>0.201602</td>\n",
       "      <td>0.184805</td>\n",
       "      <td>0.309748</td>\n",
       "      <td>00:00</td>\n",
       "    </tr>\n",
       "    <tr>\n",
       "      <td>15</td>\n",
       "      <td>0.187453</td>\n",
       "      <td>0.168866</td>\n",
       "      <td>0.296079</td>\n",
       "      <td>00:00</td>\n",
       "    </tr>\n",
       "    <tr>\n",
       "      <td>16</td>\n",
       "      <td>0.183351</td>\n",
       "      <td>0.185191</td>\n",
       "      <td>0.312764</td>\n",
       "      <td>00:00</td>\n",
       "    </tr>\n",
       "    <tr>\n",
       "      <td>17</td>\n",
       "      <td>0.176320</td>\n",
       "      <td>0.189270</td>\n",
       "      <td>0.315011</td>\n",
       "      <td>00:00</td>\n",
       "    </tr>\n",
       "    <tr>\n",
       "      <td>18</td>\n",
       "      <td>0.178394</td>\n",
       "      <td>0.180803</td>\n",
       "      <td>0.305217</td>\n",
       "      <td>00:00</td>\n",
       "    </tr>\n",
       "    <tr>\n",
       "      <td>19</td>\n",
       "      <td>0.174343</td>\n",
       "      <td>0.174901</td>\n",
       "      <td>0.297564</td>\n",
       "      <td>00:00</td>\n",
       "    </tr>\n",
       "    <tr>\n",
       "      <td>20</td>\n",
       "      <td>0.176858</td>\n",
       "      <td>0.175748</td>\n",
       "      <td>0.315168</td>\n",
       "      <td>00:00</td>\n",
       "    </tr>\n",
       "    <tr>\n",
       "      <td>21</td>\n",
       "      <td>0.173492</td>\n",
       "      <td>0.172086</td>\n",
       "      <td>0.299963</td>\n",
       "      <td>00:00</td>\n",
       "    </tr>\n",
       "    <tr>\n",
       "      <td>22</td>\n",
       "      <td>0.172183</td>\n",
       "      <td>0.170376</td>\n",
       "      <td>0.297819</td>\n",
       "      <td>00:00</td>\n",
       "    </tr>\n",
       "    <tr>\n",
       "      <td>23</td>\n",
       "      <td>0.169717</td>\n",
       "      <td>0.170313</td>\n",
       "      <td>0.297286</td>\n",
       "      <td>00:00</td>\n",
       "    </tr>\n",
       "    <tr>\n",
       "      <td>24</td>\n",
       "      <td>0.168211</td>\n",
       "      <td>0.172171</td>\n",
       "      <td>0.297053</td>\n",
       "      <td>00:00</td>\n",
       "    </tr>\n",
       "    <tr>\n",
       "      <td>25</td>\n",
       "      <td>0.166605</td>\n",
       "      <td>0.170369</td>\n",
       "      <td>0.296849</td>\n",
       "      <td>00:00</td>\n",
       "    </tr>\n",
       "    <tr>\n",
       "      <td>26</td>\n",
       "      <td>0.167670</td>\n",
       "      <td>0.174790</td>\n",
       "      <td>0.296841</td>\n",
       "      <td>00:00</td>\n",
       "    </tr>\n",
       "    <tr>\n",
       "      <td>27</td>\n",
       "      <td>0.164997</td>\n",
       "      <td>0.168474</td>\n",
       "      <td>0.293597</td>\n",
       "      <td>00:00</td>\n",
       "    </tr>\n",
       "    <tr>\n",
       "      <td>28</td>\n",
       "      <td>0.163638</td>\n",
       "      <td>0.168125</td>\n",
       "      <td>0.293543</td>\n",
       "      <td>00:00</td>\n",
       "    </tr>\n",
       "    <tr>\n",
       "      <td>29</td>\n",
       "      <td>0.163287</td>\n",
       "      <td>0.168137</td>\n",
       "      <td>0.293493</td>\n",
       "      <td>00:00</td>\n",
       "    </tr>\n",
       "  </tbody>\n",
       "</table>"
      ],
      "text/plain": [
       "<IPython.core.display.HTML object>"
      ]
     },
     "metadata": {},
     "output_type": "display_data"
    },
    {
     "data": {
      "image/png": "[encoded data removed]",
      "text/plain": [
       "<Figure size 432x288 with 1 Axes>"
      ]
     },
     "metadata": {},
     "output_type": "display_data"
    },
    {
     "data": {
      "image/png": "[encoded data removed]",
      "text/plain": [
       "<Figure size 432x288 with 1 Axes>"
      ]
     },
     "metadata": {},
     "output_type": "display_data"
    }
   ],
   "source": [
    "# set_seed(...)\n",
    "set_seed(10)\n",
    "# ... << EOF\n",
    "model = nn.Sequential(\n",
    "    nn.Linear(1, 500),\n",
    "    nn.ReLU(),\n",
    "    nn.Linear(500, 1)\n",
    ")\n",
    "\n",
    "learner = Learner(\n",
    "    dls=dataloaders,\n",
    "    model=model,\n",
    "    loss_func=loss_func,\n",
    "    metrics=[mae],\n",
    "    cbs=[ShowPredictions(), ShowGraphCallback()]\n",
    ")\n",
    "learner.fit_one_cycle(n_epoch=30, lr_max=.1)\n",
    "# EOF\n"
   ]
  },
  {
   "cell_type": "markdown",
   "metadata": {},
   "source": [
    "Evaluate the MSE. How well does it fit?"
   ]
  },
  {
   "cell_type": "markdown",
   "metadata": {},
   "source": [
    "*your narrative response here*"
   ]
  },
  {
   "cell_type": "markdown",
   "metadata": {},
   "source": [
    "## Analysis"
   ]
  },
  {
   "cell_type": "markdown",
   "metadata": {},
   "source": [
    "Despite having a hidden layer like the final model, the second model never gave us anything more than a straight line. Why not?"
   ]
  },
  {
   "cell_type": "markdown",
   "metadata": {},
   "source": [
    "*your narrative response here*"
   ]
  },
  {
   "cell_type": "markdown",
   "metadata": {},
   "source": [
    "Watch the model plot in Step 3 as the model fits (use at least 30 epochs to be able to watch this clearly). What do you notice about the plot during three regimes of training:\n",
    "\n",
    "1. Within the first epoch (right at the start of training)\n",
    "2. Mid-training\n",
    "3. In the last epoch or two"
   ]
  },
  {
   "cell_type": "markdown",
   "metadata": {},
   "source": [
    "*your narrative response here*"
   ]
  },
  {
   "cell_type": "markdown",
   "metadata": {},
   "source": [
    "## Extension (optional)"
   ]
  },
  {
   "cell_type": "markdown",
   "metadata": {},
   "source": [
    "What effect does the size of the hidden layer have on the quality of the fit?"
   ]
  },
  {
   "cell_type": "markdown",
   "metadata": {},
   "source": [
    "What effect does the choice of nonlinearity (\"activation function\") have? Try a few others: `Tanh`, `Sigmoid`, `LeakyReLU`,  `PReLU`, ... Early research in neural nets used smooth functions like `Tanh` and `Sigmoid` almost exclusively; do you think the `ReLU` was a good idea?"
   ]
  }
 ],
 "metadata": {
  "kernelspec": {
   "display_name": "Python 3",
   "language": "python",
   "name": "python3"
  },
  "language_info": {
   "codemirror_mode": {
    "name": "ipython",
    "version": 3
   },
   "file_extension": ".py",
   "mimetype": "text/x-python",
   "name": "python",
   "nbconvert_exporter": "python",
   "pygments_lexer": "ipython3",
   "version": "3.8.5"
  }
 },
 "nbformat": 4,
 "nbformat_minor": 4
}
