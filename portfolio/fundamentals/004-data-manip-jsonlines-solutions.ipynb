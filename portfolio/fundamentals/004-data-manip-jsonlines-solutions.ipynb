{
 "cells": [
  {
   "cell_type": "markdown",
   "metadata": {},
   "source": [
    "# `004-data-manip-jsonlines`\n",
    "\n",
    "Task: use list and dict comprehensions to work with data stored as newline-delimited JSON"
   ]
  },
  {
   "cell_type": "markdown",
   "metadata": {},
   "source": [
    "## Setup"
   ]
  },
  {
   "cell_type": "code",
   "execution_count": 1,
   "metadata": {},
   "outputs": [],
   "source": [
    "import json\n",
    "import requests\n",
    "from collections import Counter"
   ]
  },
  {
   "cell_type": "markdown",
   "metadata": {},
   "source": [
    "## Task"
   ]
  },
  {
   "cell_type": "markdown",
   "metadata": {},
   "source": [
    "As you discovered on Homework 1, preparing data is often a key and tedious component of model training. Here we'll practice a few basic data prep tasks. Large datasets often use streaming file formats like ndjson aka JSON-lines, so we'll practice with a (small) dataset in that format."
   ]
  },
  {
   "cell_type": "code",
   "execution_count": 2,
   "metadata": {},
   "outputs": [],
   "source": [
    "url = 'https://raw.githubusercontent.com/jsonlines/guide/master/datagov100.json'"
   ]
  },
  {
   "cell_type": "markdown",
   "metadata": {},
   "source": [
    "1. Load the data. Remove `tags` and `extras` as you read it in, since these are large data structures that we don't need. (You can use `del dct[key]` to remove a key from a dictionary.)\n",
    "1. What is the most common `license_title` for these datasets? (use `Counter`, imported above from the `collections` module, with a list comprehension). *you should get 'U.S. Government Work'*\n",
    "2. What is the average number of `resources` for each dataset? (use `len(dataset['resources'])` in a list comprehension. *you should get 1.36*\n",
    "3. Create a dictionary mapping the title of the dataset to the `url` of the first resource listed. (use a dict comprehension). Skip datasets with no resources. Use this dict to find the URL of `'Geologic map of Arkansas (NGMDB)'`."
   ]
  },
  {
   "cell_type": "markdown",
   "metadata": {},
   "source": [
    "## Solution"
   ]
  },
  {
   "cell_type": "code",
   "execution_count": 3,
   "metadata": {},
   "outputs": [],
   "source": [
    "# Your code here\n",
    "# You may find it helpful to look at `data[0]` and `data[0].keys()`."
   ]
  },
  {
   "cell_type": "code",
   "execution_count": 4,
   "metadata": {},
   "outputs": [],
   "source": [
    "response = requests.get(url, stream=True)\n",
    "data = []\n",
    "for line in response.iter_lines():\n",
    "    item = json.loads(line)\n",
    "    del item['tags']\n",
    "    del item['extras']\n",
    "    data.append(item)"
   ]
  },
  {
   "cell_type": "code",
   "execution_count": 5,
   "metadata": {},
   "outputs": [
    {
     "data": {
      "text/plain": [
       "Counter({'Creative Commons CCZero': 8,\n",
       "         'Other License Specified': 8,\n",
       "         'U.S. Government Work': 15,\n",
       "         None: 69})"
      ]
     },
     "execution_count": 5,
     "metadata": {},
     "output_type": "execute_result"
    }
   ],
   "source": [
    "Counter(dataset['license_title'] for dataset in data)"
   ]
  },
  {
   "cell_type": "code",
   "execution_count": 6,
   "metadata": {},
   "outputs": [
    {
     "data": {
      "text/plain": [
       "1.36"
      ]
     },
     "execution_count": 6,
     "metadata": {},
     "output_type": "execute_result"
    }
   ],
   "source": [
    "sum(len(dataset['resources']) for dataset in data) / len(data)"
   ]
  },
  {
   "cell_type": "code",
   "execution_count": 7,
   "metadata": {},
   "outputs": [
    {
     "data": {
      "text/plain": [
       "Counter({1: 71, 2: 18, 4: 2, 3: 7, 0: 2})"
      ]
     },
     "execution_count": 7,
     "metadata": {},
     "output_type": "execute_result"
    }
   ],
   "source": [
    "Counter(len(dataset['resources']) for dataset in data)"
   ]
  },
  {
   "cell_type": "code",
   "execution_count": 10,
   "metadata": {},
   "outputs": [],
   "source": [
    "title_to_url = {ds['title']: ds['resources'][0]['url'] for ds in data if len(ds['resources'])}"
   ]
  },
  {
   "cell_type": "code",
   "execution_count": 11,
   "metadata": {},
   "outputs": [
    {
     "data": {
      "text/plain": [
       "'http://ngmdb.usgs.gov/Prodesc/proddesc_16308.htm'"
      ]
     },
     "execution_count": 11,
     "metadata": {},
     "output_type": "execute_result"
    }
   ],
   "source": [
    "title_to_url['Geologic map of Arkansas (NGMDB)']"
   ]
  }
 ],
 "metadata": {
  "kernelspec": {
   "display_name": "Python 3",
   "language": "python",
   "name": "python3"
  },
  "language_info": {
   "codemirror_mode": {
    "name": "ipython",
    "version": 3
   },
   "file_extension": ".py",
   "mimetype": "text/x-python",
   "name": "python",
   "nbconvert_exporter": "python",
   "pygments_lexer": "ipython3",
   "version": "3.8.5"
  }
 },
 "nbformat": 4,
 "nbformat_minor": 4
}
