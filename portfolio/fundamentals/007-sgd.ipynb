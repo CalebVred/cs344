{
  "nbformat": 4,
  "nbformat_minor": 0,
  "metadata": {
    "colab": {
      "name": "Copy of Estimating Proportions - broken.ipynb",
      "provenance": [],
      "collapsed_sections": [],
      "authorship_tag": "ABX9TyOx9N2Sxq25SxMP/tVV6Rbg"
    },
    "kernelspec": {
      "name": "python3",
      "display_name": "Python 3"
    }
  },
  "cells": [
    {
      "cell_type": "markdown",
      "metadata": {
        "id": "kN39Qo0qslQB"
      },
      "source": [
        "# Estimating Proportions by Gradient Descent"
      ]
    },
    {
      "cell_type": "markdown",
      "metadata": {
        "id": "eo7fgMAKsqUQ"
      },
      "source": [
        "## Scenario\n",
        "\n",
        "Suppose I have two boxes (A and B), each of which have a bunch of small beads in them. Peeking inside, it looks like there are 3 different colors of beads (red, orange, and yellow), but the two boxes have very different colors.\n",
        "\n",
        "Each box has a lever on it. When I push the lever, a bead comes out of the box. (We can assume it's a random one, and we'll put the bead back in the box it came from so we don't lose beads.)\n",
        "\n",
        "My friend suggests we play a game: they'll pick a box and press the lever a few times; I have to guess what color beads are going to come out. But I complain that I'm never going to be able to guess 100% correctly, since the boxes have mixtures of beads in them. So here's what they propose: I can spread out my one guess among the different colors, e.g., 0.5 for red and 0.25 for orange or yellow--as long as they add up to 1. Okay...sounds good?\n",
        "\n",
        "Even though there's no way I could count the number of each color bead in each box (way too many!), I think I can do well at this game after a few rounds. What do you think?"
      ]
    },
    {
      "cell_type": "markdown",
      "metadata": {
        "id": "AJ6GSexYu9Fm"
      },
      "source": [
        "## Setup"
      ]
    },
    {
      "cell_type": "code",
      "metadata": {
        "id": "EnYVX26nu_yf"
      },
      "source": [
        "import torch\n",
        "from torch import tensor\n",
        "import matplotlib.pyplot as plt\n",
        "%matplotlib inline\n",
        "torch.manual_seed(0);"
      ],
      "execution_count": null,
      "outputs": []
    },
    {
      "cell_type": "markdown",
      "metadata": {
        "id": "HnnH1h0SwF_O"
      },
      "source": [
        "Define the true proportions of the 3 colors in each box."
      ]
    },
    {
      "cell_type": "code",
      "metadata": {
        "id": "CGCl0WOzvCMB"
      },
      "source": [
        "boxes = tensor([\n",
        "    [600, 550, 350],\n",
        "    [100, 1300, 100]\n",
        "]).float()"
      ],
      "execution_count": null,
      "outputs": []
    },
    {
      "cell_type": "markdown",
      "metadata": {
        "id": "l_ABqd230kzp"
      },
      "source": [
        "Here's how the friend is going to pick which box. We'll get to see which box they pick."
      ]
    },
    {
      "cell_type": "code",
      "metadata": {
        "colab": {
          "base_uri": "https://localhost:8080/"
        },
        "id": "aoXsqaHv0ias",
        "outputId": "8e925c60-631a-4eb0-ab2d-24d3d759e59b"
      },
      "source": [
        "def pick_box():\n",
        "    return int(torch.rand(1) < .5)\n",
        "pick_box()"
      ],
      "execution_count": null,
      "outputs": [
        {
          "output_type": "execute_result",
          "data": {
            "text/plain": [
              "1"
            ]
          },
          "metadata": {
            "tags": []
          },
          "execution_count": 3
        }
      ]
    },
    {
      "cell_type": "code",
      "metadata": {
        "colab": {
          "base_uri": "https://localhost:8080/"
        },
        "id": "dBvXMX1XwD--",
        "outputId": "f0b01228-28dd-4d72-ee9b-222deaccf337"
      },
      "source": [
        "def draw_beads(box, num_beads):\n",
        "    return torch.multinomial(boxes[box], num_beads, replacement=True)\n",
        "example_beads = draw_beads(box=0, num_beads=10); example_beads"
      ],
      "execution_count": null,
      "outputs": [
        {
          "output_type": "execute_result",
          "data": {
            "text/plain": [
              "tensor([0, 0, 0, 0, 0, 0, 0, 0, 1, 0])"
            ]
          },
          "metadata": {
            "tags": []
          },
          "execution_count": 4
        }
      ]
    },
    {
      "cell_type": "markdown",
      "metadata": {
        "id": "sZfk7i9Kxc6k"
      },
      "source": [
        "# My guesses"
      ]
    },
    {
      "cell_type": "code",
      "metadata": {
        "colab": {
          "base_uri": "https://localhost:8080/"
        },
        "id": "6D7JBSldyaHj",
        "outputId": "8e34e2c2-e87b-42dd-9a9c-1f8027e14d74"
      },
      "source": [
        "my_guesses = torch.ones((2, 3)) / 3\n",
        "def get_guess(box):\n",
        "    guesses_for_box = my_guesses[box]\n",
        "    return guesses_for_box\n",
        "\n",
        "example_guess = get_guess(0); example_guess"
      ],
      "execution_count": null,
      "outputs": [
        {
          "output_type": "execute_result",
          "data": {
            "text/plain": [
              "tensor([0.3333, 0.3333, 0.3333])"
            ]
          },
          "metadata": {
            "tags": []
          },
          "execution_count": 5
        }
      ]
    },
    {
      "cell_type": "markdown",
      "metadata": {
        "id": "itqoS-XNyrMu"
      },
      "source": [
        "## My score"
      ]
    },
    {
      "cell_type": "code",
      "metadata": {
        "colab": {
          "base_uri": "https://localhost:8080/"
        },
        "id": "AAJNAEu2y_JE",
        "outputId": "b91f2150-2601-4432-98a6-d6fc1ead6a2f"
      },
      "source": [
        "example_guess[example_beads]"
      ],
      "execution_count": null,
      "outputs": [
        {
          "output_type": "execute_result",
          "data": {
            "text/plain": [
              "tensor([0.3333, 0.3333, 0.3333, 0.3333, 0.3333, 0.3333, 0.3333, 0.3333, 0.3333,\n",
              "        0.3333])"
            ]
          },
          "metadata": {
            "tags": []
          },
          "execution_count": 6
        }
      ]
    },
    {
      "cell_type": "code",
      "metadata": {
        "colab": {
          "base_uri": "https://localhost:8080/"
        },
        "id": "_-0ChVvIyyaF",
        "outputId": "abe14ddd-0b9c-47de-b7cd-f0f15cc6c3d3"
      },
      "source": [
        "def score_guesses(guess, beads):\n",
        "    return guess[beads].mean()\n",
        "score_guesses(example_guess, example_beads)"
      ],
      "execution_count": null,
      "outputs": [
        {
          "output_type": "execute_result",
          "data": {
            "text/plain": [
              "tensor(0.3333)"
            ]
          },
          "metadata": {
            "tags": []
          },
          "execution_count": 7
        }
      ]
    },
    {
      "cell_type": "markdown",
      "metadata": {
        "id": "uzdFmGMwzdQl"
      },
      "source": [
        "# Learning to play the game"
      ]
    },
    {
      "cell_type": "code",
      "metadata": {
        "colab": {
          "base_uri": "https://localhost:8080/",
          "height": 234
        },
        "id": "FTnPPBvizjbk",
        "outputId": "8334a25f-0a9a-4409-e4d2-d4f85297485a"
      },
      "source": [
        "my_guesses = torch.ones((2, 3)) / 3.0\n",
        "my_guesses.requires_grad_()\n",
        "\n",
        "scores = []\n",
        "for i in range(50):\n",
        "    box = pick_box()                       # friend picks a box\n",
        "    my_guess = get_guess(box)              # I make a guess\n",
        "    assert (my_guess > 0).all()\n",
        "    assert (my_guess.sum() - 1.0).abs() < .01\n",
        "\n",
        "    beads = draw_beads(box, 10)            # friend draws a bunch of beads\n",
        "    score = score_guesses(my_guess, beads) # friend computes my score\n",
        "    scores.append(score.item())\n",
        "\n",
        "    # I figure out how I should have guessed differently\n",
        "    score.backward()\n",
        "    my_guesses.data -= my_guesses.grad\n",
        "\n",
        "plt.plot(scores)\n"
      ],
      "execution_count": null,
      "outputs": [
        {
          "output_type": "error",
          "ename": "AssertionError",
          "evalue": "ignored",
          "traceback": [
            "\u001b[0;31m---------------------------------------------------------------------------\u001b[0m",
            "\u001b[0;31mAssertionError\u001b[0m                            Traceback (most recent call last)",
            "\u001b[0;32m<ipython-input-8-bc1b8cff383f>\u001b[0m in \u001b[0;36m<module>\u001b[0;34m()\u001b[0m\n\u001b[1;32m      6\u001b[0m     \u001b[0mbox\u001b[0m \u001b[0;34m=\u001b[0m \u001b[0mpick_box\u001b[0m\u001b[0;34m(\u001b[0m\u001b[0;34m)\u001b[0m                       \u001b[0;31m# friend picks a box\u001b[0m\u001b[0;34m\u001b[0m\u001b[0;34m\u001b[0m\u001b[0m\n\u001b[1;32m      7\u001b[0m     \u001b[0mmy_guess\u001b[0m \u001b[0;34m=\u001b[0m \u001b[0mget_guess\u001b[0m\u001b[0;34m(\u001b[0m\u001b[0mbox\u001b[0m\u001b[0;34m)\u001b[0m              \u001b[0;31m# I make a guess\u001b[0m\u001b[0;34m\u001b[0m\u001b[0;34m\u001b[0m\u001b[0m\n\u001b[0;32m----> 8\u001b[0;31m     \u001b[0;32massert\u001b[0m \u001b[0;34m(\u001b[0m\u001b[0mmy_guess\u001b[0m \u001b[0;34m>\u001b[0m \u001b[0;36m0\u001b[0m\u001b[0;34m)\u001b[0m\u001b[0;34m.\u001b[0m\u001b[0mall\u001b[0m\u001b[0;34m(\u001b[0m\u001b[0;34m)\u001b[0m\u001b[0;34m\u001b[0m\u001b[0;34m\u001b[0m\u001b[0m\n\u001b[0m\u001b[1;32m      9\u001b[0m     \u001b[0;32massert\u001b[0m \u001b[0;34m(\u001b[0m\u001b[0mmy_guess\u001b[0m\u001b[0;34m.\u001b[0m\u001b[0msum\u001b[0m\u001b[0;34m(\u001b[0m\u001b[0;34m)\u001b[0m \u001b[0;34m-\u001b[0m \u001b[0;36m1.0\u001b[0m\u001b[0;34m)\u001b[0m\u001b[0;34m.\u001b[0m\u001b[0mabs\u001b[0m\u001b[0;34m(\u001b[0m\u001b[0;34m)\u001b[0m \u001b[0;34m<\u001b[0m \u001b[0;36m.01\u001b[0m\u001b[0;34m\u001b[0m\u001b[0;34m\u001b[0m\u001b[0m\n\u001b[1;32m     10\u001b[0m \u001b[0;34m\u001b[0m\u001b[0m\n",
            "\u001b[0;31mAssertionError\u001b[0m: "
          ]
        }
      ]
    },
    {
      "cell_type": "code",
      "metadata": {
        "id": "vTiKHI8p1MDE"
      },
      "source": [
        "torch.stack([get_guess(box=0), get_guess(box=1)])"
      ],
      "execution_count": null,
      "outputs": []
    },
    {
      "cell_type": "code",
      "metadata": {
        "id": "B4wtUclGEc60"
      },
      "source": [
        ""
      ],
      "execution_count": null,
      "outputs": []
    }
  ]
}