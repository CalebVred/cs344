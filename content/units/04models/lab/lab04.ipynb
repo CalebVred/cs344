{
 "cells": [
  {
   "cell_type": "markdown",
   "metadata": {},
   "source": [
    "## Setup"
   ]
  },
  {
   "cell_type": "code",
   "execution_count": 1,
   "metadata": {},
   "outputs": [],
   "source": [
    "import torch\n",
    "from torch import tensor\n",
    "import ipywidgets as widgets\n",
    "import matplotlib.pyplot as plt\n",
    "%matplotlib inline"
   ]
  },
  {
   "cell_type": "markdown",
   "metadata": {},
   "source": [
    "## Task"
   ]
  },
  {
   "cell_type": "markdown",
   "metadata": {},
   "source": [
    "Suppose we have a dataset with just a single feature `x` and continuous outcome variable `y`.\n",
    "\n",
    "In general we're going to be faced with a dataset with an unknown and probably nonlinear relationship. But for now let's use a simple dataset with a known linear relationship:"
   ]
  },
  {
   "cell_type": "code",
   "execution_count": 2,
   "metadata": {},
   "outputs": [
    {
     "data": {
      "image/png": "[encoded data removed]",
      "text/plain": [
       "<Figure size 432x288 with 1 Axes>"
      ]
     },
     "metadata": {
      "needs_background": "light"
     },
     "output_type": "display_data"
    }
   ],
   "source": [
    "true_weights = 4.0\n",
    "true_bias = -1.0\n",
    "\n",
    "# Make the randomness consistent\n",
    "torch.manual_seed(0)\n",
    "# Use random x values\n",
    "x = torch.rand(100)\n",
    "# Generate random noise, same shape as *x*, that has some outliers.\n",
    "noise = torch.distributions.studentT.StudentT(2.0).sample(x.shape)\n",
    "# For a simpler variant, use  torch.randn_like(x).\n",
    "#print(f\"Noise mean: {noise.mean()}, noise variance {noise.var()}\")\n",
    "# Generate true y values \n",
    "y_true = true_weights * x + noise + true_bias\n",
    "# Make a scatterplot. The semicolon at the end says to ignore the return value.\n",
    "plt.scatter(x, y_true);"
   ]
  },
  {
   "cell_type": "code",
   "execution_count": 5,
   "metadata": {},
   "outputs": [],
   "source": [
    "bias = 0.0"
   ]
  },
  {
   "cell_type": "code",
   "execution_count": 6,
   "metadata": {},
   "outputs": [
    {
     "data": {
      "application/vnd.jupyter.widget-view+json": {
       "model_id": "a308fe28bf3b414b8c9b863558c1bee1",
       "version_major": 2,
       "version_minor": 0
      },
      "text/plain": [
       "interactive(children=(FloatSlider(value=0.0, description='slope', max=5.0, min=-5.0), Output()), _dom_classes=…"
      ]
     },
     "metadata": {},
     "output_type": "display_data"
    }
   ],
   "source": [
    "@widgets.interact(slope=(-5.0, 5.0))\n",
    "def plot_linreg(slope):\n",
    "    y_pred = slope * x + bias\n",
    "    plt.scatter(x, y_true); plt.plot(x, y_pred, 'r');\n",
    "    resid = 0.0 # TODO\n",
    "    mse = 0.0 # TODO\n",
    "    mae = 0.0 # TODO\n",
    "    print(f\"MSE: {mse}, MAE: {mae}\")"
   ]
  },
  {
   "cell_type": "markdown",
   "metadata": {},
   "source": [
    "- Slope that minimizes MSE:\n",
    "- Slope that minimizes MAE:\n",
    "- Description of the difference:"
   ]
  },
  {
   "cell_type": "markdown",
   "metadata": {},
   "source": [
    "### Gradient\n"
   ]
  },
  {
   "cell_type": "code",
   "execution_count": null,
   "metadata": {},
   "outputs": [],
   "source": []
  },
  {
   "cell_type": "markdown",
   "metadata": {},
   "source": [
    "### Gradient Descent"
   ]
  },
  {
   "cell_type": "code",
   "execution_count": null,
   "metadata": {},
   "outputs": [],
   "source": []
  }
 ],
 "metadata": {
  "kernelspec": {
   "display_name": "Python 3",
   "language": "python",
   "name": "python3"
  },
  "language_info": {
   "codemirror_mode": {
    "name": "ipython",
    "version": 3
   },
   "file_extension": ".py",
   "mimetype": "text/x-python",
   "name": "python",
   "nbconvert_exporter": "python",
   "pygments_lexer": "ipython3",
   "version": "3.8.8"
  }
 },
 "nbformat": 4,
 "nbformat_minor": 4
}
