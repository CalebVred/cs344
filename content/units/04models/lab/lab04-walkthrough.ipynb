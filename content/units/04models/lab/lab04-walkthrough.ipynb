{
 "cells": [
  {
   "cell_type": "markdown",
   "metadata": {},
   "source": [
    "## Setup"
   ]
  },
  {
   "cell_type": "code",
   "execution_count": 1,
   "metadata": {},
   "outputs": [],
   "source": [
    "import torch\n",
    "from torch import tensor\n",
    "import ipywidgets as widgets\n",
    "import matplotlib.pyplot as plt\n",
    "%matplotlib inline"
   ]
  },
  {
   "cell_type": "markdown",
   "metadata": {},
   "source": [
    "## Task"
   ]
  },
  {
   "cell_type": "markdown",
   "metadata": {},
   "source": [
    "Suppose we have a dataset with just a single feature `x` and continuous outcome variable `y`.\n",
    "\n",
    "In general we're going to be faced with a dataset with an unknown and probably nonlinear relationship. But for now let's use a simple dataset with a known linear relationship:"
   ]
  },
  {
   "cell_type": "code",
   "execution_count": 17,
   "metadata": {},
   "outputs": [
    {
     "data": {
      "image/png": "[encoded data removed]",
      "text/plain": [
       "<Figure size 432x288 with 1 Axes>"
      ]
     },
     "metadata": {
      "needs_background": "light"
     },
     "output_type": "display_data"
    }
   ],
   "source": [
    "true_weights = 4.0\n",
    "true_bias = -1.0\n",
    "\n",
    "# Make the randomness consistent\n",
    "torch.manual_seed(0)\n",
    "# Use random x values\n",
    "x = torch.rand(100)\n",
    "# Generate random noise, same shape as *x*, that has some outliers.\n",
    "#noise = torch.randn_like(x)\n",
    "noise = torch.distributions.studentT.StudentT(2.0).sample(x.shape)\n",
    "#print(f\"Noise mean: {noise.mean()}, noise variance {noise.var()}\")\n",
    "# Generate true y values \n",
    "y_true = true_weights * x + true_bias + noise\n",
    "# Make a scatterplot. The semicolon at the end says to ignore the return value.\n",
    "plt.scatter(x, y_true); plt.ylim(-11, 6);"
   ]
  },
  {
   "cell_type": "code",
   "execution_count": 18,
   "metadata": {},
   "outputs": [],
   "source": [
    "bias = 0.0"
   ]
  },
  {
   "cell_type": "code",
   "execution_count": 24,
   "metadata": {},
   "outputs": [
    {
     "data": {
      "application/vnd.jupyter.widget-view+json": {
       "model_id": "d7e0f6520f1c48658a59b14262e3e341",
       "version_major": 2,
       "version_minor": 0
      },
      "text/plain": [
       "interactive(children=(FloatSlider(value=0.0, description='slope', max=5.0, min=-5.0), Output()), _dom_classes=…"
      ]
     },
     "metadata": {},
     "output_type": "display_data"
    }
   ],
   "source": [
    "@widgets.interact(slope=(-5.0, 5.0))\n",
    "def plot_linreg(slope):\n",
    "    y_pred = slope * x + bias\n",
    "    plt.scatter(x, y_true); plt.plot(x, y_pred, 'r');\n",
    "    resid = y_true - y_pred\n",
    "    mse = resid.pow(2).mean()\n",
    "    mae = resid.abs().mean()\n",
    "    print(f\"MSE: {mse}, MAE: {mae}\")"
   ]
  },
  {
   "cell_type": "markdown",
   "metadata": {},
   "source": [
    "- Slope that minimizes MSE: 1.4\n",
    "- Slope that minimizes MAE: 2.4\n",
    "- Description of the difference: MAE ignores outliers"
   ]
  },
  {
   "cell_type": "markdown",
   "metadata": {},
   "source": [
    "### Gradient\n"
   ]
  },
  {
   "cell_type": "markdown",
   "metadata": {},
   "source": [
    "Make a function that computes the MSE."
   ]
  },
  {
   "cell_type": "code",
   "execution_count": 29,
   "metadata": {},
   "outputs": [],
   "source": [
    "def linreg_mse(slope):\n",
    "    y_pred = slope * x + bias\n",
    "    resid = y_true - y_pred\n",
    "    return resid.pow(2).mean()"
   ]
  },
  {
   "cell_type": "code",
   "execution_count": 33,
   "metadata": {},
   "outputs": [
    {
     "data": {
      "text/plain": [
       "tensor(4.9073)"
      ]
     },
     "execution_count": 33,
     "metadata": {},
     "output_type": "execute_result"
    }
   ],
   "source": [
    "linreg_mse(0.0)"
   ]
  },
  {
   "cell_type": "code",
   "execution_count": 31,
   "metadata": {},
   "outputs": [
    {
     "data": {
      "text/plain": [
       "tensor(4.6011)"
      ]
     },
     "execution_count": 31,
     "metadata": {},
     "output_type": "execute_result"
    }
   ],
   "source": [
    "linreg_mse(2.4)"
   ]
  },
  {
   "cell_type": "code",
   "execution_count": 32,
   "metadata": {},
   "outputs": [
    {
     "data": {
      "text/plain": [
       "tensor(4.2745)"
      ]
     },
     "execution_count": 32,
     "metadata": {},
     "output_type": "execute_result"
    }
   ],
   "source": [
    "linreg_mse(1.4)"
   ]
  },
  {
   "cell_type": "markdown",
   "metadata": {},
   "source": [
    "Plot the MSE as a function of slope."
   ]
  },
  {
   "cell_type": "code",
   "execution_count": 61,
   "metadata": {},
   "outputs": [
    {
     "data": {
      "application/vnd.jupyter.widget-view+json": {
       "model_id": "e7d8f0e5c0a345c0a1e811af8c9b5eed",
       "version_major": 2,
       "version_minor": 0
      },
      "text/plain": [
       "interactive(children=(FloatSlider(value=0.5, description='slope', max=2.0, min=-1.0), Output()), _dom_classes=…"
      ]
     },
     "metadata": {},
     "output_type": "display_data"
    }
   ],
   "source": [
    "slopes = torch.linspace(-1, 2, steps=100)\n",
    "mse_s = []\n",
    "for slope in slopes:\n",
    "    mse_s.append(linreg_mse(slope))\n",
    "    \n",
    "@widgets.interact(slope=(-1.0, 2.0))\n",
    "def plot_tangents(slope):\n",
    "    plt.plot(slopes, mse_s, label=\"MSE\"); plt.xlabel(\"slope\"); plt.ylabel(\"MSE\");\n",
    "\n",
    "    # finite difference method for numerically approximating a gradient\n",
    "    eps = .01\n",
    "    gradient = (linreg_mse(slope + eps) - linreg_mse(slope)) / eps\n",
    "    plt.plot(slopes, (slopes - slope) * gradient + linreg_mse(slope), label=f\"Tangent line at {slope:.3f}\");\n",
    "    print(gradient)\n",
    "    plt.ylim(4, 6.5)\n",
    "    plt.legend();\n"
   ]
  },
  {
   "cell_type": "code",
   "execution_count": 211,
   "metadata": {},
   "outputs": [
    {
     "data": {
      "text/plain": [
       "-0.9059905409812927"
      ]
     },
     "execution_count": 211,
     "metadata": {},
     "output_type": "execute_result"
    }
   ],
   "source": [
    "# finite difference method for numerically approximating a gradient\n",
    "slope = 0.0\n",
    "eps = 1e-3\n",
    "gradient = (linreg_mse(slope + eps) - linreg_mse(slope)) / eps\n",
    "gradient.item()"
   ]
  },
  {
   "cell_type": "markdown",
   "metadata": {},
   "source": [
    "### Gradient Descent"
   ]
  },
  {
   "cell_type": "code",
   "execution_count": 203,
   "metadata": {},
   "outputs": [
    {
     "data": {
      "text/plain": [
       "[<matplotlib.lines.Line2D at 0x7f932cf28cd0>]"
      ]
     },
     "execution_count": 203,
     "metadata": {},
     "output_type": "execute_result"
    },
    {
     "data": {
      "image/png": "[encoded data removed]",
      "text/plain": [
       "<Figure size 432x288 with 1 Axes>"
      ]
     },
     "metadata": {
      "needs_background": "light"
     },
     "output_type": "display_data"
    }
   ],
   "source": [
    "losses = []\n",
    "slope = 0.0\n",
    "N_ITER = 100\n",
    "for i in range(N_ITER):\n",
    "    loss = linreg_mse(slope)\n",
    "    gradient = (linreg_mse(slope + eps) - linreg_mse(slope)) / eps\n",
    "    slope -= .1 * gradient\n",
    "    #print(f\"slope = {slope:.3f}, Loss = {loss:.3f}, gradient = {gradient}\")\n",
    "    losses.append(loss)\n",
    "plt.plot(losses)"
   ]
  },
  {
   "cell_type": "code",
   "execution_count": 204,
   "metadata": {},
   "outputs": [
    {
     "data": {
      "text/plain": [
       "tensor(1.3895)"
      ]
     },
     "execution_count": 204,
     "metadata": {},
     "output_type": "execute_result"
    }
   ],
   "source": [
    "slope"
   ]
  },
  {
   "cell_type": "markdown",
   "metadata": {},
   "source": [
    "## PyTorch autograd"
   ]
  },
  {
   "cell_type": "code",
   "execution_count": 225,
   "metadata": {},
   "outputs": [
    {
     "data": {
      "text/plain": [
       "[<matplotlib.lines.Line2D at 0x7f932b74f940>]"
      ]
     },
     "execution_count": 225,
     "metadata": {},
     "output_type": "execute_result"
    },
    {
     "data": {
      "image/png": "[encoded data removed]",
      "text/plain": [
       "<Figure size 432x288 with 1 Axes>"
      ]
     },
     "metadata": {
      "needs_background": "light"
     },
     "output_type": "display_data"
    }
   ],
   "source": [
    "eps = 1e-3\n",
    "gradients = []\n",
    "grads_finite_diff = []\n",
    "for slope in torch.linspace(1.3, 1.5, steps=100):\n",
    "    slope = torch.tensor(slope.item(), requires_grad=True)\n",
    "    loss = linreg_mse(slope)\n",
    "    loss.backward()\n",
    "    gradients.append(slope.grad.item())\n",
    "    grads_finite_diff.append(\n",
    "        (linreg_mse(slope.item() + eps) \n",
    "         -\n",
    "         linreg_mse(slope.item()))\n",
    "        / (eps))\n",
    "plt.plot(slopes, gradients)\n",
    "plt.plot(slopes, grads_finite_diff)"
   ]
  },
  {
   "cell_type": "code",
   "execution_count": null,
   "metadata": {},
   "outputs": [],
   "source": []
  }
 ],
 "metadata": {
  "kernelspec": {
   "display_name": "Python 3",
   "language": "python",
   "name": "python3"
  },
  "language_info": {
   "codemirror_mode": {
    "name": "ipython",
    "version": 3
   },
   "file_extension": ".py",
   "mimetype": "text/x-python",
   "name": "python",
   "nbconvert_exporter": "python",
   "pygments_lexer": "ipython3",
   "version": "3.8.8"
  }
 },
 "nbformat": 4,
 "nbformat_minor": 4
}
